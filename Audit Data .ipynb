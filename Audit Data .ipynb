{
 "cells": [
  {
   "cell_type": "markdown",
   "metadata": {},
   "source": [
    "### Table of Contents:\n",
    "1. [Data Pre-processing](#Data-Pre-processing)\n",
    "    * [Importing Datasets](#Importing-Datasets)\n",
    "    * [Exploring Data](#Exploring-Data)\n",
    "    * [Merging Dataframes](#Merging-Dataframes)\n",
    "    * [Box Plot Analysis](#Box-Plot-Analysis)\n",
    "    \n",
    "    \n",
    "2. [Classification](#Classification)\n",
    "    * [Correlation Matrix](#Correlation-Matrix)\n",
    "    * [Classification: Train-Test Split](#Classification:-Train-Test-Split)\n",
    "    * [Classification: Feature Scaling](#Classification:-Feature-Scaling)\n",
    "    * [Classification Models](#Classification:-Models)\n",
    "        * [K Nearest Neighbor](#K-Nearest-Neighbor-Classifier)\n",
    "        * [Linear SVM](#Linear-SVM)\n",
    "        * [Logistic Regression](#Logistic-Regression)\n",
    "        * [Kernalized SVM](#Kernalized-SVM)\n",
    "        * [Decision Tree](#Decision-Tree)\n",
    "        \n",
    "        \n",
    "3. [Classification Model Selection](#Model-Selection:-Logistic-Regression)\n",
    "\n",
    "\n",
    "4. [Regression](#Regression)\n",
    "    * [Regression: Train-Test Split](#Regression:-Train-Test-Split)\n",
    "    * [Regression: Feature Scaling](#Regression:-Feature-Scaling)\n",
    "    * [Regression Models](#Regression:-Models)\n",
    "        * [K Nearest Regressor](#K-Nearest-Regressor)\n",
    "        * [Linear Regression](#Linear-Regression)\n",
    "        * [Polynomial Regression](#Polynomial-Regression)\n",
    "        * [Ridge Regression](#Ridge-Regression)\n",
    "        * [Lasso Regression](#Lasso-Regression)\n",
    "        * [SVM Regressor](#SVM-Regressor)\n",
    "        * [SGD Regressor](#SGD-Regressor)\n",
    "    \n",
    "    \n",
    "5. [Regression: Model Selection](#Model-Selection:-Linear-Regression)   "
   ]
  },
  {
   "cell_type": "markdown",
   "metadata": {},
   "source": [
    "# Data Pre-processing"
   ]
  },
  {
   "cell_type": "code",
   "execution_count": 1,
   "metadata": {},
   "outputs": [],
   "source": [
    "#Importing all the required libraries\n",
    "import warnings\n",
    "warnings.filterwarnings('ignore')\n",
    "import pandas as pd\n",
    "import numpy as np\n",
    "pd.set_option('display.max_columns', 50)"
   ]
  },
  {
   "cell_type": "markdown",
   "metadata": {},
   "source": [
    "## Importing Datasets"
   ]
  },
  {
   "cell_type": "code",
   "execution_count": 2,
   "metadata": {},
   "outputs": [],
   "source": [
    "audit_risk = pd.read_csv(\"audit_risk.csv\")\n",
    "trial = pd.read_csv(\"trial.csv\")"
   ]
  },
  {
   "cell_type": "markdown",
   "metadata": {},
   "source": [
    "## Exploring Data"
   ]
  },
  {
   "cell_type": "code",
   "execution_count": 3,
   "metadata": {},
   "outputs": [
    {
     "data": {
      "text/html": [
       "<div>\n",
       "<style scoped>\n",
       "    .dataframe tbody tr th:only-of-type {\n",
       "        vertical-align: middle;\n",
       "    }\n",
       "\n",
       "    .dataframe tbody tr th {\n",
       "        vertical-align: top;\n",
       "    }\n",
       "\n",
       "    .dataframe thead th {\n",
       "        text-align: right;\n",
       "    }\n",
       "</style>\n",
       "<table border=\"1\" class=\"dataframe\">\n",
       "  <thead>\n",
       "    <tr style=\"text-align: right;\">\n",
       "      <th></th>\n",
       "      <th>Sector_score</th>\n",
       "      <th>PARA_A</th>\n",
       "      <th>Score_A</th>\n",
       "      <th>Risk_A</th>\n",
       "      <th>PARA_B</th>\n",
       "      <th>Score_B</th>\n",
       "      <th>Risk_B</th>\n",
       "      <th>TOTAL</th>\n",
       "      <th>numbers</th>\n",
       "      <th>Score_B.1</th>\n",
       "      <th>Risk_C</th>\n",
       "      <th>Money_Value</th>\n",
       "      <th>Score_MV</th>\n",
       "      <th>Risk_D</th>\n",
       "      <th>District_Loss</th>\n",
       "      <th>PROB</th>\n",
       "      <th>RiSk_E</th>\n",
       "      <th>History</th>\n",
       "      <th>Prob</th>\n",
       "      <th>Risk_F</th>\n",
       "      <th>Score</th>\n",
       "      <th>Inherent_Risk</th>\n",
       "      <th>CONTROL_RISK</th>\n",
       "      <th>Detection_Risk</th>\n",
       "      <th>Audit_Risk</th>\n",
       "      <th>Risk</th>\n",
       "    </tr>\n",
       "  </thead>\n",
       "  <tbody>\n",
       "    <tr>\n",
       "      <th>count</th>\n",
       "      <td>776.000000</td>\n",
       "      <td>776.000000</td>\n",
       "      <td>776.000000</td>\n",
       "      <td>776.000000</td>\n",
       "      <td>776.000000</td>\n",
       "      <td>776.000000</td>\n",
       "      <td>776.000000</td>\n",
       "      <td>776.000000</td>\n",
       "      <td>776.000000</td>\n",
       "      <td>776.000000</td>\n",
       "      <td>776.000000</td>\n",
       "      <td>775.000000</td>\n",
       "      <td>776.000000</td>\n",
       "      <td>776.000000</td>\n",
       "      <td>776.000000</td>\n",
       "      <td>776.000000</td>\n",
       "      <td>776.000000</td>\n",
       "      <td>776.000000</td>\n",
       "      <td>776.000000</td>\n",
       "      <td>776.000000</td>\n",
       "      <td>776.000000</td>\n",
       "      <td>776.000000</td>\n",
       "      <td>776.000000</td>\n",
       "      <td>776.0</td>\n",
       "      <td>776.000000</td>\n",
       "      <td>776.000000</td>\n",
       "    </tr>\n",
       "    <tr>\n",
       "      <th>mean</th>\n",
       "      <td>20.184536</td>\n",
       "      <td>2.450194</td>\n",
       "      <td>0.351289</td>\n",
       "      <td>1.351029</td>\n",
       "      <td>10.799988</td>\n",
       "      <td>0.313144</td>\n",
       "      <td>6.334008</td>\n",
       "      <td>13.218481</td>\n",
       "      <td>5.067655</td>\n",
       "      <td>0.223711</td>\n",
       "      <td>1.152964</td>\n",
       "      <td>14.137631</td>\n",
       "      <td>0.290979</td>\n",
       "      <td>8.265434</td>\n",
       "      <td>2.505155</td>\n",
       "      <td>0.206186</td>\n",
       "      <td>0.519072</td>\n",
       "      <td>0.104381</td>\n",
       "      <td>0.216753</td>\n",
       "      <td>0.053608</td>\n",
       "      <td>2.702577</td>\n",
       "      <td>17.680612</td>\n",
       "      <td>0.572680</td>\n",
       "      <td>0.5</td>\n",
       "      <td>7.168158</td>\n",
       "      <td>0.393041</td>\n",
       "    </tr>\n",
       "    <tr>\n",
       "      <th>std</th>\n",
       "      <td>24.319017</td>\n",
       "      <td>5.678870</td>\n",
       "      <td>0.174055</td>\n",
       "      <td>3.440447</td>\n",
       "      <td>50.083624</td>\n",
       "      <td>0.169804</td>\n",
       "      <td>30.072845</td>\n",
       "      <td>51.312829</td>\n",
       "      <td>0.264449</td>\n",
       "      <td>0.080352</td>\n",
       "      <td>0.537417</td>\n",
       "      <td>66.606519</td>\n",
       "      <td>0.159745</td>\n",
       "      <td>39.970849</td>\n",
       "      <td>1.228678</td>\n",
       "      <td>0.037508</td>\n",
       "      <td>0.290312</td>\n",
       "      <td>0.531031</td>\n",
       "      <td>0.067987</td>\n",
       "      <td>0.305835</td>\n",
       "      <td>0.858923</td>\n",
       "      <td>54.740244</td>\n",
       "      <td>0.444581</td>\n",
       "      <td>0.0</td>\n",
       "      <td>38.667494</td>\n",
       "      <td>0.488741</td>\n",
       "    </tr>\n",
       "    <tr>\n",
       "      <th>min</th>\n",
       "      <td>1.850000</td>\n",
       "      <td>0.000000</td>\n",
       "      <td>0.200000</td>\n",
       "      <td>0.000000</td>\n",
       "      <td>0.000000</td>\n",
       "      <td>0.200000</td>\n",
       "      <td>0.000000</td>\n",
       "      <td>0.000000</td>\n",
       "      <td>5.000000</td>\n",
       "      <td>0.200000</td>\n",
       "      <td>1.000000</td>\n",
       "      <td>0.000000</td>\n",
       "      <td>0.200000</td>\n",
       "      <td>0.000000</td>\n",
       "      <td>2.000000</td>\n",
       "      <td>0.200000</td>\n",
       "      <td>0.400000</td>\n",
       "      <td>0.000000</td>\n",
       "      <td>0.200000</td>\n",
       "      <td>0.000000</td>\n",
       "      <td>2.000000</td>\n",
       "      <td>1.400000</td>\n",
       "      <td>0.400000</td>\n",
       "      <td>0.5</td>\n",
       "      <td>0.280000</td>\n",
       "      <td>0.000000</td>\n",
       "    </tr>\n",
       "    <tr>\n",
       "      <th>25%</th>\n",
       "      <td>2.370000</td>\n",
       "      <td>0.210000</td>\n",
       "      <td>0.200000</td>\n",
       "      <td>0.042000</td>\n",
       "      <td>0.000000</td>\n",
       "      <td>0.200000</td>\n",
       "      <td>0.000000</td>\n",
       "      <td>0.537500</td>\n",
       "      <td>5.000000</td>\n",
       "      <td>0.200000</td>\n",
       "      <td>1.000000</td>\n",
       "      <td>0.000000</td>\n",
       "      <td>0.200000</td>\n",
       "      <td>0.000000</td>\n",
       "      <td>2.000000</td>\n",
       "      <td>0.200000</td>\n",
       "      <td>0.400000</td>\n",
       "      <td>0.000000</td>\n",
       "      <td>0.200000</td>\n",
       "      <td>0.000000</td>\n",
       "      <td>2.000000</td>\n",
       "      <td>1.583500</td>\n",
       "      <td>0.400000</td>\n",
       "      <td>0.5</td>\n",
       "      <td>0.316700</td>\n",
       "      <td>0.000000</td>\n",
       "    </tr>\n",
       "    <tr>\n",
       "      <th>50%</th>\n",
       "      <td>3.890000</td>\n",
       "      <td>0.875000</td>\n",
       "      <td>0.200000</td>\n",
       "      <td>0.175000</td>\n",
       "      <td>0.405000</td>\n",
       "      <td>0.200000</td>\n",
       "      <td>0.081000</td>\n",
       "      <td>1.370000</td>\n",
       "      <td>5.000000</td>\n",
       "      <td>0.200000</td>\n",
       "      <td>1.000000</td>\n",
       "      <td>0.090000</td>\n",
       "      <td>0.200000</td>\n",
       "      <td>0.018000</td>\n",
       "      <td>2.000000</td>\n",
       "      <td>0.200000</td>\n",
       "      <td>0.400000</td>\n",
       "      <td>0.000000</td>\n",
       "      <td>0.200000</td>\n",
       "      <td>0.000000</td>\n",
       "      <td>2.400000</td>\n",
       "      <td>2.214000</td>\n",
       "      <td>0.400000</td>\n",
       "      <td>0.5</td>\n",
       "      <td>0.555600</td>\n",
       "      <td>0.000000</td>\n",
       "    </tr>\n",
       "    <tr>\n",
       "      <th>75%</th>\n",
       "      <td>55.570000</td>\n",
       "      <td>2.480000</td>\n",
       "      <td>0.600000</td>\n",
       "      <td>1.488000</td>\n",
       "      <td>4.160000</td>\n",
       "      <td>0.400000</td>\n",
       "      <td>1.840500</td>\n",
       "      <td>7.707500</td>\n",
       "      <td>5.000000</td>\n",
       "      <td>0.200000</td>\n",
       "      <td>1.000000</td>\n",
       "      <td>5.595000</td>\n",
       "      <td>0.400000</td>\n",
       "      <td>2.235000</td>\n",
       "      <td>2.000000</td>\n",
       "      <td>0.200000</td>\n",
       "      <td>0.400000</td>\n",
       "      <td>0.000000</td>\n",
       "      <td>0.200000</td>\n",
       "      <td>0.000000</td>\n",
       "      <td>3.250000</td>\n",
       "      <td>10.663500</td>\n",
       "      <td>0.400000</td>\n",
       "      <td>0.5</td>\n",
       "      <td>3.249900</td>\n",
       "      <td>1.000000</td>\n",
       "    </tr>\n",
       "    <tr>\n",
       "      <th>max</th>\n",
       "      <td>59.850000</td>\n",
       "      <td>85.000000</td>\n",
       "      <td>0.600000</td>\n",
       "      <td>51.000000</td>\n",
       "      <td>1264.630000</td>\n",
       "      <td>0.600000</td>\n",
       "      <td>758.778000</td>\n",
       "      <td>1268.910000</td>\n",
       "      <td>9.000000</td>\n",
       "      <td>0.600000</td>\n",
       "      <td>5.400000</td>\n",
       "      <td>935.030000</td>\n",
       "      <td>0.600000</td>\n",
       "      <td>561.018000</td>\n",
       "      <td>6.000000</td>\n",
       "      <td>0.600000</td>\n",
       "      <td>2.400000</td>\n",
       "      <td>9.000000</td>\n",
       "      <td>0.600000</td>\n",
       "      <td>5.400000</td>\n",
       "      <td>5.200000</td>\n",
       "      <td>801.262000</td>\n",
       "      <td>5.800000</td>\n",
       "      <td>0.5</td>\n",
       "      <td>961.514400</td>\n",
       "      <td>1.000000</td>\n",
       "    </tr>\n",
       "  </tbody>\n",
       "</table>\n",
       "</div>"
      ],
      "text/plain": [
       "       Sector_score      PARA_A     Score_A      Risk_A       PARA_B  \\\n",
       "count    776.000000  776.000000  776.000000  776.000000   776.000000   \n",
       "mean      20.184536    2.450194    0.351289    1.351029    10.799988   \n",
       "std       24.319017    5.678870    0.174055    3.440447    50.083624   \n",
       "min        1.850000    0.000000    0.200000    0.000000     0.000000   \n",
       "25%        2.370000    0.210000    0.200000    0.042000     0.000000   \n",
       "50%        3.890000    0.875000    0.200000    0.175000     0.405000   \n",
       "75%       55.570000    2.480000    0.600000    1.488000     4.160000   \n",
       "max       59.850000   85.000000    0.600000   51.000000  1264.630000   \n",
       "\n",
       "          Score_B      Risk_B        TOTAL     numbers   Score_B.1  \\\n",
       "count  776.000000  776.000000   776.000000  776.000000  776.000000   \n",
       "mean     0.313144    6.334008    13.218481    5.067655    0.223711   \n",
       "std      0.169804   30.072845    51.312829    0.264449    0.080352   \n",
       "min      0.200000    0.000000     0.000000    5.000000    0.200000   \n",
       "25%      0.200000    0.000000     0.537500    5.000000    0.200000   \n",
       "50%      0.200000    0.081000     1.370000    5.000000    0.200000   \n",
       "75%      0.400000    1.840500     7.707500    5.000000    0.200000   \n",
       "max      0.600000  758.778000  1268.910000    9.000000    0.600000   \n",
       "\n",
       "           Risk_C  Money_Value    Score_MV      Risk_D  District_Loss  \\\n",
       "count  776.000000   775.000000  776.000000  776.000000     776.000000   \n",
       "mean     1.152964    14.137631    0.290979    8.265434       2.505155   \n",
       "std      0.537417    66.606519    0.159745   39.970849       1.228678   \n",
       "min      1.000000     0.000000    0.200000    0.000000       2.000000   \n",
       "25%      1.000000     0.000000    0.200000    0.000000       2.000000   \n",
       "50%      1.000000     0.090000    0.200000    0.018000       2.000000   \n",
       "75%      1.000000     5.595000    0.400000    2.235000       2.000000   \n",
       "max      5.400000   935.030000    0.600000  561.018000       6.000000   \n",
       "\n",
       "             PROB      RiSk_E     History        Prob      Risk_F       Score  \\\n",
       "count  776.000000  776.000000  776.000000  776.000000  776.000000  776.000000   \n",
       "mean     0.206186    0.519072    0.104381    0.216753    0.053608    2.702577   \n",
       "std      0.037508    0.290312    0.531031    0.067987    0.305835    0.858923   \n",
       "min      0.200000    0.400000    0.000000    0.200000    0.000000    2.000000   \n",
       "25%      0.200000    0.400000    0.000000    0.200000    0.000000    2.000000   \n",
       "50%      0.200000    0.400000    0.000000    0.200000    0.000000    2.400000   \n",
       "75%      0.200000    0.400000    0.000000    0.200000    0.000000    3.250000   \n",
       "max      0.600000    2.400000    9.000000    0.600000    5.400000    5.200000   \n",
       "\n",
       "       Inherent_Risk  CONTROL_RISK  Detection_Risk  Audit_Risk        Risk  \n",
       "count     776.000000    776.000000           776.0  776.000000  776.000000  \n",
       "mean       17.680612      0.572680             0.5    7.168158    0.393041  \n",
       "std        54.740244      0.444581             0.0   38.667494    0.488741  \n",
       "min         1.400000      0.400000             0.5    0.280000    0.000000  \n",
       "25%         1.583500      0.400000             0.5    0.316700    0.000000  \n",
       "50%         2.214000      0.400000             0.5    0.555600    0.000000  \n",
       "75%        10.663500      0.400000             0.5    3.249900    1.000000  \n",
       "max       801.262000      5.800000             0.5  961.514400    1.000000  "
      ]
     },
     "execution_count": 3,
     "metadata": {},
     "output_type": "execute_result"
    }
   ],
   "source": [
    "audit_risk.describe()"
   ]
  },
  {
   "cell_type": "code",
   "execution_count": 4,
   "metadata": {
    "scrolled": true
   },
   "outputs": [
    {
     "data": {
      "text/html": [
       "<div>\n",
       "<style scoped>\n",
       "    .dataframe tbody tr th:only-of-type {\n",
       "        vertical-align: middle;\n",
       "    }\n",
       "\n",
       "    .dataframe tbody tr th {\n",
       "        vertical-align: top;\n",
       "    }\n",
       "\n",
       "    .dataframe thead th {\n",
       "        text-align: right;\n",
       "    }\n",
       "</style>\n",
       "<table border=\"1\" class=\"dataframe\">\n",
       "  <thead>\n",
       "    <tr style=\"text-align: right;\">\n",
       "      <th></th>\n",
       "      <th>Sector_score</th>\n",
       "      <th>PARA_A</th>\n",
       "      <th>SCORE_A</th>\n",
       "      <th>PARA_B</th>\n",
       "      <th>SCORE_B</th>\n",
       "      <th>TOTAL</th>\n",
       "      <th>numbers</th>\n",
       "      <th>Marks</th>\n",
       "      <th>Money_Value</th>\n",
       "      <th>MONEY_Marks</th>\n",
       "      <th>District</th>\n",
       "      <th>Loss</th>\n",
       "      <th>LOSS_SCORE</th>\n",
       "      <th>History</th>\n",
       "      <th>History_score</th>\n",
       "      <th>Score</th>\n",
       "      <th>Risk</th>\n",
       "    </tr>\n",
       "  </thead>\n",
       "  <tbody>\n",
       "    <tr>\n",
       "      <th>count</th>\n",
       "      <td>776.000000</td>\n",
       "      <td>776.000000</td>\n",
       "      <td>776.000000</td>\n",
       "      <td>776.000000</td>\n",
       "      <td>776.000000</td>\n",
       "      <td>776.000000</td>\n",
       "      <td>776.000000</td>\n",
       "      <td>776.000000</td>\n",
       "      <td>775.000000</td>\n",
       "      <td>776.000000</td>\n",
       "      <td>776.000000</td>\n",
       "      <td>776.000000</td>\n",
       "      <td>776.000000</td>\n",
       "      <td>776.000000</td>\n",
       "      <td>776.000000</td>\n",
       "      <td>776.000000</td>\n",
       "      <td>776.000000</td>\n",
       "    </tr>\n",
       "    <tr>\n",
       "      <th>mean</th>\n",
       "      <td>20.184536</td>\n",
       "      <td>2.450194</td>\n",
       "      <td>3.512887</td>\n",
       "      <td>10.799988</td>\n",
       "      <td>3.131443</td>\n",
       "      <td>13.218481</td>\n",
       "      <td>5.067655</td>\n",
       "      <td>2.237113</td>\n",
       "      <td>14.137631</td>\n",
       "      <td>2.909794</td>\n",
       "      <td>2.505155</td>\n",
       "      <td>0.029639</td>\n",
       "      <td>2.061856</td>\n",
       "      <td>0.104381</td>\n",
       "      <td>2.167526</td>\n",
       "      <td>2.702577</td>\n",
       "      <td>0.626289</td>\n",
       "    </tr>\n",
       "    <tr>\n",
       "      <th>std</th>\n",
       "      <td>24.319017</td>\n",
       "      <td>5.678870</td>\n",
       "      <td>1.740549</td>\n",
       "      <td>50.083624</td>\n",
       "      <td>1.698042</td>\n",
       "      <td>51.312829</td>\n",
       "      <td>0.264449</td>\n",
       "      <td>0.803517</td>\n",
       "      <td>66.606519</td>\n",
       "      <td>1.597452</td>\n",
       "      <td>1.228678</td>\n",
       "      <td>0.184280</td>\n",
       "      <td>0.375080</td>\n",
       "      <td>0.531031</td>\n",
       "      <td>0.679869</td>\n",
       "      <td>0.858923</td>\n",
       "      <td>0.484100</td>\n",
       "    </tr>\n",
       "    <tr>\n",
       "      <th>min</th>\n",
       "      <td>1.850000</td>\n",
       "      <td>0.000000</td>\n",
       "      <td>2.000000</td>\n",
       "      <td>0.000000</td>\n",
       "      <td>2.000000</td>\n",
       "      <td>0.000000</td>\n",
       "      <td>5.000000</td>\n",
       "      <td>2.000000</td>\n",
       "      <td>0.000000</td>\n",
       "      <td>2.000000</td>\n",
       "      <td>2.000000</td>\n",
       "      <td>0.000000</td>\n",
       "      <td>2.000000</td>\n",
       "      <td>0.000000</td>\n",
       "      <td>2.000000</td>\n",
       "      <td>2.000000</td>\n",
       "      <td>0.000000</td>\n",
       "    </tr>\n",
       "    <tr>\n",
       "      <th>25%</th>\n",
       "      <td>2.370000</td>\n",
       "      <td>0.210000</td>\n",
       "      <td>2.000000</td>\n",
       "      <td>0.000000</td>\n",
       "      <td>2.000000</td>\n",
       "      <td>0.537500</td>\n",
       "      <td>5.000000</td>\n",
       "      <td>2.000000</td>\n",
       "      <td>0.000000</td>\n",
       "      <td>2.000000</td>\n",
       "      <td>2.000000</td>\n",
       "      <td>0.000000</td>\n",
       "      <td>2.000000</td>\n",
       "      <td>0.000000</td>\n",
       "      <td>2.000000</td>\n",
       "      <td>2.000000</td>\n",
       "      <td>0.000000</td>\n",
       "    </tr>\n",
       "    <tr>\n",
       "      <th>50%</th>\n",
       "      <td>3.890000</td>\n",
       "      <td>0.875000</td>\n",
       "      <td>2.000000</td>\n",
       "      <td>0.405000</td>\n",
       "      <td>2.000000</td>\n",
       "      <td>1.370000</td>\n",
       "      <td>5.000000</td>\n",
       "      <td>2.000000</td>\n",
       "      <td>0.090000</td>\n",
       "      <td>2.000000</td>\n",
       "      <td>2.000000</td>\n",
       "      <td>0.000000</td>\n",
       "      <td>2.000000</td>\n",
       "      <td>0.000000</td>\n",
       "      <td>2.000000</td>\n",
       "      <td>2.400000</td>\n",
       "      <td>1.000000</td>\n",
       "    </tr>\n",
       "    <tr>\n",
       "      <th>75%</th>\n",
       "      <td>55.570000</td>\n",
       "      <td>2.480000</td>\n",
       "      <td>6.000000</td>\n",
       "      <td>4.160000</td>\n",
       "      <td>4.000000</td>\n",
       "      <td>7.707500</td>\n",
       "      <td>5.000000</td>\n",
       "      <td>2.000000</td>\n",
       "      <td>5.595000</td>\n",
       "      <td>4.000000</td>\n",
       "      <td>2.000000</td>\n",
       "      <td>0.000000</td>\n",
       "      <td>2.000000</td>\n",
       "      <td>0.000000</td>\n",
       "      <td>2.000000</td>\n",
       "      <td>3.250000</td>\n",
       "      <td>1.000000</td>\n",
       "    </tr>\n",
       "    <tr>\n",
       "      <th>max</th>\n",
       "      <td>59.850000</td>\n",
       "      <td>85.000000</td>\n",
       "      <td>6.000000</td>\n",
       "      <td>1264.630000</td>\n",
       "      <td>6.000000</td>\n",
       "      <td>1268.910000</td>\n",
       "      <td>9.000000</td>\n",
       "      <td>6.000000</td>\n",
       "      <td>935.030000</td>\n",
       "      <td>6.000000</td>\n",
       "      <td>6.000000</td>\n",
       "      <td>2.000000</td>\n",
       "      <td>6.000000</td>\n",
       "      <td>9.000000</td>\n",
       "      <td>6.000000</td>\n",
       "      <td>5.200000</td>\n",
       "      <td>1.000000</td>\n",
       "    </tr>\n",
       "  </tbody>\n",
       "</table>\n",
       "</div>"
      ],
      "text/plain": [
       "       Sector_score      PARA_A     SCORE_A       PARA_B     SCORE_B  \\\n",
       "count    776.000000  776.000000  776.000000   776.000000  776.000000   \n",
       "mean      20.184536    2.450194    3.512887    10.799988    3.131443   \n",
       "std       24.319017    5.678870    1.740549    50.083624    1.698042   \n",
       "min        1.850000    0.000000    2.000000     0.000000    2.000000   \n",
       "25%        2.370000    0.210000    2.000000     0.000000    2.000000   \n",
       "50%        3.890000    0.875000    2.000000     0.405000    2.000000   \n",
       "75%       55.570000    2.480000    6.000000     4.160000    4.000000   \n",
       "max       59.850000   85.000000    6.000000  1264.630000    6.000000   \n",
       "\n",
       "             TOTAL     numbers       Marks  Money_Value  MONEY_Marks  \\\n",
       "count   776.000000  776.000000  776.000000   775.000000   776.000000   \n",
       "mean     13.218481    5.067655    2.237113    14.137631     2.909794   \n",
       "std      51.312829    0.264449    0.803517    66.606519     1.597452   \n",
       "min       0.000000    5.000000    2.000000     0.000000     2.000000   \n",
       "25%       0.537500    5.000000    2.000000     0.000000     2.000000   \n",
       "50%       1.370000    5.000000    2.000000     0.090000     2.000000   \n",
       "75%       7.707500    5.000000    2.000000     5.595000     4.000000   \n",
       "max    1268.910000    9.000000    6.000000   935.030000     6.000000   \n",
       "\n",
       "         District        Loss  LOSS_SCORE     History  History_score  \\\n",
       "count  776.000000  776.000000  776.000000  776.000000     776.000000   \n",
       "mean     2.505155    0.029639    2.061856    0.104381       2.167526   \n",
       "std      1.228678    0.184280    0.375080    0.531031       0.679869   \n",
       "min      2.000000    0.000000    2.000000    0.000000       2.000000   \n",
       "25%      2.000000    0.000000    2.000000    0.000000       2.000000   \n",
       "50%      2.000000    0.000000    2.000000    0.000000       2.000000   \n",
       "75%      2.000000    0.000000    2.000000    0.000000       2.000000   \n",
       "max      6.000000    2.000000    6.000000    9.000000       6.000000   \n",
       "\n",
       "            Score        Risk  \n",
       "count  776.000000  776.000000  \n",
       "mean     2.702577    0.626289  \n",
       "std      0.858923    0.484100  \n",
       "min      2.000000    0.000000  \n",
       "25%      2.000000    0.000000  \n",
       "50%      2.400000    1.000000  \n",
       "75%      3.250000    1.000000  \n",
       "max      5.200000    1.000000  "
      ]
     },
     "execution_count": 4,
     "metadata": {},
     "output_type": "execute_result"
    }
   ],
   "source": [
    "trial.describe()"
   ]
  },
  {
   "cell_type": "markdown",
   "metadata": {},
   "source": [
    "Most columns from the 2 dataframes have similar feature names and also similar description. Some columns are in all capital letters, some have values in multiples of 10. The only columns in **'trial'** that are entirely differrent are **'Loss'** and **'Risk'**."
   ]
  },
  {
   "cell_type": "code",
   "execution_count": 5,
   "metadata": {},
   "outputs": [],
   "source": [
    "#Same columns as in Dataframe audit_risk\n",
    "trial = trial.drop([\"Sector_score\", \"LOCATION_ID\", \"PARA_A\", \"PARA_B\", \"TOTAL\", \"numbers\", \"Money_Value\",\n",
    "                    \"Score\", \"SCORE_A\", \"History\", \"SCORE_B\"], axis = 1)"
   ]
  },
  {
   "cell_type": "code",
   "execution_count": 6,
   "metadata": {},
   "outputs": [
    {
     "data": {
      "text/plain": [
       "Index(['Marks', 'MONEY_Marks', 'District', 'Loss', 'LOSS_SCORE',\n",
       "       'History_score', 'Risk'],\n",
       "      dtype='object')"
      ]
     },
     "execution_count": 6,
     "metadata": {},
     "output_type": "execute_result"
    }
   ],
   "source": [
    "trial.columns "
   ]
  },
  {
   "cell_type": "code",
   "execution_count": 7,
   "metadata": {},
   "outputs": [],
   "source": [
    "#Same columns from both dataframes (scaled by multiples of 10)\n",
    "trial = trial.drop([\"District\", \"Marks\", \"MONEY_Marks\" ,\n",
    "                    \"LOSS_SCORE\",  \"History_score\"], axis = 1) "
   ]
  },
  {
   "cell_type": "code",
   "execution_count": 8,
   "metadata": {},
   "outputs": [
    {
     "data": {
      "text/plain": [
       "Index(['Loss', 'Risk_trial'], dtype='object')"
      ]
     },
     "execution_count": 8,
     "metadata": {},
     "output_type": "execute_result"
    }
   ],
   "source": [
    "#Renaming Risk column from 'trial' dataframe to avoid confusion with 'trial' columns from 'audit_risk' dataframe.\n",
    "trial.columns = ['Loss', 'Risk_trial']\n",
    "trial.columns "
   ]
  },
  {
   "cell_type": "markdown",
   "metadata": {},
   "source": [
    "## Merging Dataframes"
   ]
  },
  {
   "cell_type": "code",
   "execution_count": 9,
   "metadata": {},
   "outputs": [
    {
     "data": {
      "text/plain": [
       "Index(['Sector_score', 'LOCATION_ID', 'PARA_A', 'Score_A', 'Risk_A', 'PARA_B',\n",
       "       'Score_B', 'Risk_B', 'TOTAL', 'numbers', 'Score_B.1', 'Risk_C',\n",
       "       'Money_Value', 'Score_MV', 'Risk_D', 'District_Loss', 'PROB', 'RiSk_E',\n",
       "       'History', 'Prob', 'Risk_F', 'Score', 'Inherent_Risk', 'CONTROL_RISK',\n",
       "       'Detection_Risk', 'Audit_Risk', 'Risk', 'Loss', 'Risk_trial'],\n",
       "      dtype='object')"
      ]
     },
     "execution_count": 9,
     "metadata": {},
     "output_type": "execute_result"
    }
   ],
   "source": [
    "merged_df = pd.concat([audit_risk, trial], axis = 1)\n",
    "merged_df.columns"
   ]
  },
  {
   "cell_type": "markdown",
   "metadata": {},
   "source": [
    "The dataframes have been succesfully merged."
   ]
  },
  {
   "cell_type": "code",
   "execution_count": 10,
   "metadata": {},
   "outputs": [],
   "source": [
    "df = merged_df.drop(['Risk_trial'], axis = 1)"
   ]
  },
  {
   "cell_type": "markdown",
   "metadata": {},
   "source": [
    "Here, we deleted the 'Risk_trial' column which as originally 'Risk' from 'trial.csv' as it had some values that were different from the 'Risk' column from 'audit_risk.csv'. \n",
    "\n",
    "The paper provided by professor states that the values of 'Audit_Risk' being greater or equal to 1 are classified as 1 and 0 otherwise. \n",
    "\n",
    "This condition is being satisfied by the 'Risk' column in 'audit_risk.csv' and not by the 'Risk' column in 'trial.csv'."
   ]
  },
  {
   "cell_type": "code",
   "execution_count": 11,
   "metadata": {},
   "outputs": [
    {
     "name": "stdout",
     "output_type": "stream",
     "text": [
      "<class 'pandas.core.frame.DataFrame'>\n",
      "RangeIndex: 776 entries, 0 to 775\n",
      "Data columns (total 28 columns):\n",
      "Sector_score      776 non-null float64\n",
      "LOCATION_ID       776 non-null object\n",
      "PARA_A            776 non-null float64\n",
      "Score_A           776 non-null float64\n",
      "Risk_A            776 non-null float64\n",
      "PARA_B            776 non-null float64\n",
      "Score_B           776 non-null float64\n",
      "Risk_B            776 non-null float64\n",
      "TOTAL             776 non-null float64\n",
      "numbers           776 non-null float64\n",
      "Score_B.1         776 non-null float64\n",
      "Risk_C            776 non-null float64\n",
      "Money_Value       775 non-null float64\n",
      "Score_MV          776 non-null float64\n",
      "Risk_D            776 non-null float64\n",
      "District_Loss     776 non-null int64\n",
      "PROB              776 non-null float64\n",
      "RiSk_E            776 non-null float64\n",
      "History           776 non-null int64\n",
      "Prob              776 non-null float64\n",
      "Risk_F            776 non-null float64\n",
      "Score             776 non-null float64\n",
      "Inherent_Risk     776 non-null float64\n",
      "CONTROL_RISK      776 non-null float64\n",
      "Detection_Risk    776 non-null float64\n",
      "Audit_Risk        776 non-null float64\n",
      "Risk              776 non-null int64\n",
      "Loss              776 non-null int64\n",
      "dtypes: float64(23), int64(4), object(1)\n",
      "memory usage: 169.8+ KB\n"
     ]
    }
   ],
   "source": [
    "df.info()"
   ]
  },
  {
   "cell_type": "markdown",
   "metadata": {},
   "source": [
    "Money_Value has 1 missing value."
   ]
  },
  {
   "cell_type": "code",
   "execution_count": 12,
   "metadata": {},
   "outputs": [],
   "source": [
    "#Replacing the missing value by the median of the column\n",
    "df['Money_Value'] = df['Money_Value'].fillna(df['Money_Value'].median())"
   ]
  },
  {
   "cell_type": "code",
   "execution_count": 13,
   "metadata": {},
   "outputs": [
    {
     "data": {
      "text/html": [
       "<div>\n",
       "<style scoped>\n",
       "    .dataframe tbody tr th:only-of-type {\n",
       "        vertical-align: middle;\n",
       "    }\n",
       "\n",
       "    .dataframe tbody tr th {\n",
       "        vertical-align: top;\n",
       "    }\n",
       "\n",
       "    .dataframe thead th {\n",
       "        text-align: right;\n",
       "    }\n",
       "</style>\n",
       "<table border=\"1\" class=\"dataframe\">\n",
       "  <thead>\n",
       "    <tr style=\"text-align: right;\">\n",
       "      <th></th>\n",
       "      <th>Sector_score</th>\n",
       "      <th>PARA_A</th>\n",
       "      <th>Score_A</th>\n",
       "      <th>Risk_A</th>\n",
       "      <th>PARA_B</th>\n",
       "      <th>Score_B</th>\n",
       "      <th>Risk_B</th>\n",
       "      <th>TOTAL</th>\n",
       "      <th>numbers</th>\n",
       "      <th>Score_B.1</th>\n",
       "      <th>Risk_C</th>\n",
       "      <th>Money_Value</th>\n",
       "      <th>Score_MV</th>\n",
       "      <th>Risk_D</th>\n",
       "      <th>District_Loss</th>\n",
       "      <th>PROB</th>\n",
       "      <th>RiSk_E</th>\n",
       "      <th>History</th>\n",
       "      <th>Prob</th>\n",
       "      <th>Risk_F</th>\n",
       "      <th>Score</th>\n",
       "      <th>Inherent_Risk</th>\n",
       "      <th>CONTROL_RISK</th>\n",
       "      <th>Detection_Risk</th>\n",
       "      <th>Audit_Risk</th>\n",
       "      <th>Risk</th>\n",
       "      <th>Loss</th>\n",
       "    </tr>\n",
       "  </thead>\n",
       "  <tbody>\n",
       "    <tr>\n",
       "      <th>count</th>\n",
       "      <td>776.000000</td>\n",
       "      <td>776.000000</td>\n",
       "      <td>776.000000</td>\n",
       "      <td>776.000000</td>\n",
       "      <td>776.000000</td>\n",
       "      <td>776.000000</td>\n",
       "      <td>776.000000</td>\n",
       "      <td>776.000000</td>\n",
       "      <td>776.000000</td>\n",
       "      <td>776.000000</td>\n",
       "      <td>776.000000</td>\n",
       "      <td>776.000000</td>\n",
       "      <td>776.000000</td>\n",
       "      <td>776.000000</td>\n",
       "      <td>776.000000</td>\n",
       "      <td>776.000000</td>\n",
       "      <td>776.000000</td>\n",
       "      <td>776.000000</td>\n",
       "      <td>776.000000</td>\n",
       "      <td>776.000000</td>\n",
       "      <td>776.000000</td>\n",
       "      <td>776.000000</td>\n",
       "      <td>776.000000</td>\n",
       "      <td>776.0</td>\n",
       "      <td>776.000000</td>\n",
       "      <td>776.000000</td>\n",
       "      <td>776.000000</td>\n",
       "    </tr>\n",
       "    <tr>\n",
       "      <th>mean</th>\n",
       "      <td>20.184536</td>\n",
       "      <td>2.450194</td>\n",
       "      <td>0.351289</td>\n",
       "      <td>1.351029</td>\n",
       "      <td>10.799988</td>\n",
       "      <td>0.313144</td>\n",
       "      <td>6.334008</td>\n",
       "      <td>13.218481</td>\n",
       "      <td>5.067655</td>\n",
       "      <td>0.223711</td>\n",
       "      <td>1.152964</td>\n",
       "      <td>14.119528</td>\n",
       "      <td>0.290979</td>\n",
       "      <td>8.265434</td>\n",
       "      <td>2.505155</td>\n",
       "      <td>0.206186</td>\n",
       "      <td>0.519072</td>\n",
       "      <td>0.104381</td>\n",
       "      <td>0.216753</td>\n",
       "      <td>0.053608</td>\n",
       "      <td>2.702577</td>\n",
       "      <td>17.680612</td>\n",
       "      <td>0.572680</td>\n",
       "      <td>0.5</td>\n",
       "      <td>7.168158</td>\n",
       "      <td>0.393041</td>\n",
       "      <td>0.029639</td>\n",
       "    </tr>\n",
       "    <tr>\n",
       "      <th>std</th>\n",
       "      <td>24.319017</td>\n",
       "      <td>5.678870</td>\n",
       "      <td>0.174055</td>\n",
       "      <td>3.440447</td>\n",
       "      <td>50.083624</td>\n",
       "      <td>0.169804</td>\n",
       "      <td>30.072845</td>\n",
       "      <td>51.312829</td>\n",
       "      <td>0.264449</td>\n",
       "      <td>0.080352</td>\n",
       "      <td>0.537417</td>\n",
       "      <td>66.565444</td>\n",
       "      <td>0.159745</td>\n",
       "      <td>39.970849</td>\n",
       "      <td>1.228678</td>\n",
       "      <td>0.037508</td>\n",
       "      <td>0.290312</td>\n",
       "      <td>0.531031</td>\n",
       "      <td>0.067987</td>\n",
       "      <td>0.305835</td>\n",
       "      <td>0.858923</td>\n",
       "      <td>54.740244</td>\n",
       "      <td>0.444581</td>\n",
       "      <td>0.0</td>\n",
       "      <td>38.667494</td>\n",
       "      <td>0.488741</td>\n",
       "      <td>0.184280</td>\n",
       "    </tr>\n",
       "    <tr>\n",
       "      <th>min</th>\n",
       "      <td>1.850000</td>\n",
       "      <td>0.000000</td>\n",
       "      <td>0.200000</td>\n",
       "      <td>0.000000</td>\n",
       "      <td>0.000000</td>\n",
       "      <td>0.200000</td>\n",
       "      <td>0.000000</td>\n",
       "      <td>0.000000</td>\n",
       "      <td>5.000000</td>\n",
       "      <td>0.200000</td>\n",
       "      <td>1.000000</td>\n",
       "      <td>0.000000</td>\n",
       "      <td>0.200000</td>\n",
       "      <td>0.000000</td>\n",
       "      <td>2.000000</td>\n",
       "      <td>0.200000</td>\n",
       "      <td>0.400000</td>\n",
       "      <td>0.000000</td>\n",
       "      <td>0.200000</td>\n",
       "      <td>0.000000</td>\n",
       "      <td>2.000000</td>\n",
       "      <td>1.400000</td>\n",
       "      <td>0.400000</td>\n",
       "      <td>0.5</td>\n",
       "      <td>0.280000</td>\n",
       "      <td>0.000000</td>\n",
       "      <td>0.000000</td>\n",
       "    </tr>\n",
       "    <tr>\n",
       "      <th>25%</th>\n",
       "      <td>2.370000</td>\n",
       "      <td>0.210000</td>\n",
       "      <td>0.200000</td>\n",
       "      <td>0.042000</td>\n",
       "      <td>0.000000</td>\n",
       "      <td>0.200000</td>\n",
       "      <td>0.000000</td>\n",
       "      <td>0.537500</td>\n",
       "      <td>5.000000</td>\n",
       "      <td>0.200000</td>\n",
       "      <td>1.000000</td>\n",
       "      <td>0.000000</td>\n",
       "      <td>0.200000</td>\n",
       "      <td>0.000000</td>\n",
       "      <td>2.000000</td>\n",
       "      <td>0.200000</td>\n",
       "      <td>0.400000</td>\n",
       "      <td>0.000000</td>\n",
       "      <td>0.200000</td>\n",
       "      <td>0.000000</td>\n",
       "      <td>2.000000</td>\n",
       "      <td>1.583500</td>\n",
       "      <td>0.400000</td>\n",
       "      <td>0.5</td>\n",
       "      <td>0.316700</td>\n",
       "      <td>0.000000</td>\n",
       "      <td>0.000000</td>\n",
       "    </tr>\n",
       "    <tr>\n",
       "      <th>50%</th>\n",
       "      <td>3.890000</td>\n",
       "      <td>0.875000</td>\n",
       "      <td>0.200000</td>\n",
       "      <td>0.175000</td>\n",
       "      <td>0.405000</td>\n",
       "      <td>0.200000</td>\n",
       "      <td>0.081000</td>\n",
       "      <td>1.370000</td>\n",
       "      <td>5.000000</td>\n",
       "      <td>0.200000</td>\n",
       "      <td>1.000000</td>\n",
       "      <td>0.090000</td>\n",
       "      <td>0.200000</td>\n",
       "      <td>0.018000</td>\n",
       "      <td>2.000000</td>\n",
       "      <td>0.200000</td>\n",
       "      <td>0.400000</td>\n",
       "      <td>0.000000</td>\n",
       "      <td>0.200000</td>\n",
       "      <td>0.000000</td>\n",
       "      <td>2.400000</td>\n",
       "      <td>2.214000</td>\n",
       "      <td>0.400000</td>\n",
       "      <td>0.5</td>\n",
       "      <td>0.555600</td>\n",
       "      <td>0.000000</td>\n",
       "      <td>0.000000</td>\n",
       "    </tr>\n",
       "    <tr>\n",
       "      <th>75%</th>\n",
       "      <td>55.570000</td>\n",
       "      <td>2.480000</td>\n",
       "      <td>0.600000</td>\n",
       "      <td>1.488000</td>\n",
       "      <td>4.160000</td>\n",
       "      <td>0.400000</td>\n",
       "      <td>1.840500</td>\n",
       "      <td>7.707500</td>\n",
       "      <td>5.000000</td>\n",
       "      <td>0.200000</td>\n",
       "      <td>1.000000</td>\n",
       "      <td>5.587500</td>\n",
       "      <td>0.400000</td>\n",
       "      <td>2.235000</td>\n",
       "      <td>2.000000</td>\n",
       "      <td>0.200000</td>\n",
       "      <td>0.400000</td>\n",
       "      <td>0.000000</td>\n",
       "      <td>0.200000</td>\n",
       "      <td>0.000000</td>\n",
       "      <td>3.250000</td>\n",
       "      <td>10.663500</td>\n",
       "      <td>0.400000</td>\n",
       "      <td>0.5</td>\n",
       "      <td>3.249900</td>\n",
       "      <td>1.000000</td>\n",
       "      <td>0.000000</td>\n",
       "    </tr>\n",
       "    <tr>\n",
       "      <th>max</th>\n",
       "      <td>59.850000</td>\n",
       "      <td>85.000000</td>\n",
       "      <td>0.600000</td>\n",
       "      <td>51.000000</td>\n",
       "      <td>1264.630000</td>\n",
       "      <td>0.600000</td>\n",
       "      <td>758.778000</td>\n",
       "      <td>1268.910000</td>\n",
       "      <td>9.000000</td>\n",
       "      <td>0.600000</td>\n",
       "      <td>5.400000</td>\n",
       "      <td>935.030000</td>\n",
       "      <td>0.600000</td>\n",
       "      <td>561.018000</td>\n",
       "      <td>6.000000</td>\n",
       "      <td>0.600000</td>\n",
       "      <td>2.400000</td>\n",
       "      <td>9.000000</td>\n",
       "      <td>0.600000</td>\n",
       "      <td>5.400000</td>\n",
       "      <td>5.200000</td>\n",
       "      <td>801.262000</td>\n",
       "      <td>5.800000</td>\n",
       "      <td>0.5</td>\n",
       "      <td>961.514400</td>\n",
       "      <td>1.000000</td>\n",
       "      <td>2.000000</td>\n",
       "    </tr>\n",
       "  </tbody>\n",
       "</table>\n",
       "</div>"
      ],
      "text/plain": [
       "       Sector_score      PARA_A     Score_A      Risk_A       PARA_B  \\\n",
       "count    776.000000  776.000000  776.000000  776.000000   776.000000   \n",
       "mean      20.184536    2.450194    0.351289    1.351029    10.799988   \n",
       "std       24.319017    5.678870    0.174055    3.440447    50.083624   \n",
       "min        1.850000    0.000000    0.200000    0.000000     0.000000   \n",
       "25%        2.370000    0.210000    0.200000    0.042000     0.000000   \n",
       "50%        3.890000    0.875000    0.200000    0.175000     0.405000   \n",
       "75%       55.570000    2.480000    0.600000    1.488000     4.160000   \n",
       "max       59.850000   85.000000    0.600000   51.000000  1264.630000   \n",
       "\n",
       "          Score_B      Risk_B        TOTAL     numbers   Score_B.1  \\\n",
       "count  776.000000  776.000000   776.000000  776.000000  776.000000   \n",
       "mean     0.313144    6.334008    13.218481    5.067655    0.223711   \n",
       "std      0.169804   30.072845    51.312829    0.264449    0.080352   \n",
       "min      0.200000    0.000000     0.000000    5.000000    0.200000   \n",
       "25%      0.200000    0.000000     0.537500    5.000000    0.200000   \n",
       "50%      0.200000    0.081000     1.370000    5.000000    0.200000   \n",
       "75%      0.400000    1.840500     7.707500    5.000000    0.200000   \n",
       "max      0.600000  758.778000  1268.910000    9.000000    0.600000   \n",
       "\n",
       "           Risk_C  Money_Value    Score_MV      Risk_D  District_Loss  \\\n",
       "count  776.000000   776.000000  776.000000  776.000000     776.000000   \n",
       "mean     1.152964    14.119528    0.290979    8.265434       2.505155   \n",
       "std      0.537417    66.565444    0.159745   39.970849       1.228678   \n",
       "min      1.000000     0.000000    0.200000    0.000000       2.000000   \n",
       "25%      1.000000     0.000000    0.200000    0.000000       2.000000   \n",
       "50%      1.000000     0.090000    0.200000    0.018000       2.000000   \n",
       "75%      1.000000     5.587500    0.400000    2.235000       2.000000   \n",
       "max      5.400000   935.030000    0.600000  561.018000       6.000000   \n",
       "\n",
       "             PROB      RiSk_E     History        Prob      Risk_F       Score  \\\n",
       "count  776.000000  776.000000  776.000000  776.000000  776.000000  776.000000   \n",
       "mean     0.206186    0.519072    0.104381    0.216753    0.053608    2.702577   \n",
       "std      0.037508    0.290312    0.531031    0.067987    0.305835    0.858923   \n",
       "min      0.200000    0.400000    0.000000    0.200000    0.000000    2.000000   \n",
       "25%      0.200000    0.400000    0.000000    0.200000    0.000000    2.000000   \n",
       "50%      0.200000    0.400000    0.000000    0.200000    0.000000    2.400000   \n",
       "75%      0.200000    0.400000    0.000000    0.200000    0.000000    3.250000   \n",
       "max      0.600000    2.400000    9.000000    0.600000    5.400000    5.200000   \n",
       "\n",
       "       Inherent_Risk  CONTROL_RISK  Detection_Risk  Audit_Risk        Risk  \\\n",
       "count     776.000000    776.000000           776.0  776.000000  776.000000   \n",
       "mean       17.680612      0.572680             0.5    7.168158    0.393041   \n",
       "std        54.740244      0.444581             0.0   38.667494    0.488741   \n",
       "min         1.400000      0.400000             0.5    0.280000    0.000000   \n",
       "25%         1.583500      0.400000             0.5    0.316700    0.000000   \n",
       "50%         2.214000      0.400000             0.5    0.555600    0.000000   \n",
       "75%        10.663500      0.400000             0.5    3.249900    1.000000   \n",
       "max       801.262000      5.800000             0.5  961.514400    1.000000   \n",
       "\n",
       "             Loss  \n",
       "count  776.000000  \n",
       "mean     0.029639  \n",
       "std      0.184280  \n",
       "min      0.000000  \n",
       "25%      0.000000  \n",
       "50%      0.000000  \n",
       "75%      0.000000  \n",
       "max      2.000000  "
      ]
     },
     "execution_count": 13,
     "metadata": {},
     "output_type": "execute_result"
    }
   ],
   "source": [
    "df.describe()"
   ]
  },
  {
   "cell_type": "markdown",
   "metadata": {},
   "source": [
    "'Detection_Risk' and 'Risk_F' have the same values throughout the columns. Deleting these columns."
   ]
  },
  {
   "cell_type": "code",
   "execution_count": 14,
   "metadata": {},
   "outputs": [],
   "source": [
    "df = df.drop(['Detection_Risk', 'Risk_F'], axis = 1) "
   ]
  },
  {
   "cell_type": "code",
   "execution_count": 15,
   "metadata": {},
   "outputs": [
    {
     "name": "stdout",
     "output_type": "stream",
     "text": [
      "<class 'pandas.core.frame.DataFrame'>\n",
      "RangeIndex: 776 entries, 0 to 775\n",
      "Data columns (total 26 columns):\n",
      "Sector_score     776 non-null float64\n",
      "LOCATION_ID      776 non-null object\n",
      "PARA_A           776 non-null float64\n",
      "Score_A          776 non-null float64\n",
      "Risk_A           776 non-null float64\n",
      "PARA_B           776 non-null float64\n",
      "Score_B          776 non-null float64\n",
      "Risk_B           776 non-null float64\n",
      "TOTAL            776 non-null float64\n",
      "numbers          776 non-null float64\n",
      "Score_B.1        776 non-null float64\n",
      "Risk_C           776 non-null float64\n",
      "Money_Value      776 non-null float64\n",
      "Score_MV         776 non-null float64\n",
      "Risk_D           776 non-null float64\n",
      "District_Loss    776 non-null int64\n",
      "PROB             776 non-null float64\n",
      "RiSk_E           776 non-null float64\n",
      "History          776 non-null int64\n",
      "Prob             776 non-null float64\n",
      "Score            776 non-null float64\n",
      "Inherent_Risk    776 non-null float64\n",
      "CONTROL_RISK     776 non-null float64\n",
      "Audit_Risk       776 non-null float64\n",
      "Risk             776 non-null int64\n",
      "Loss             776 non-null int64\n",
      "dtypes: float64(21), int64(4), object(1)\n",
      "memory usage: 157.7+ KB\n"
     ]
    }
   ],
   "source": [
    "df.info()"
   ]
  },
  {
   "cell_type": "markdown",
   "metadata": {},
   "source": [
    "LOCATION_ID has object datatype. However there are numerical values in the column. There must be non-numeric values present."
   ]
  },
  {
   "cell_type": "code",
   "execution_count": 16,
   "metadata": {},
   "outputs": [
    {
     "data": {
      "text/plain": [
       "array(['23', '6', '7', '8', '13', '37', '24', '3', '4', '14', '5', '20',\n",
       "       '19', '21', '22', '9', '11', '12', '29', '30', '38', '31', '2',\n",
       "       '32', '16', '33', '15', '36', '34', '18', '25', '39', '27', '35',\n",
       "       '40', '41', '42', '1', '28', 'LOHARU', 'NUH', 'SAFIDON', '43',\n",
       "       '44', '17'], dtype=object)"
      ]
     },
     "execution_count": 16,
     "metadata": {},
     "output_type": "execute_result"
    }
   ],
   "source": [
    "#Unique values in LOCATION_ID column\n",
    "df[\"LOCATION_ID\"].unique()"
   ]
  },
  {
   "cell_type": "code",
   "execution_count": 17,
   "metadata": {},
   "outputs": [
    {
     "name": "stdout",
     "output_type": "stream",
     "text": [
      "These are the number of non-numeric values in LOCATION_ID:  3\n"
     ]
    }
   ],
   "source": [
    "print(\"These are the number of non-numeric values in LOCATION_ID: \", len(df[(df[\"LOCATION_ID\"] == 'LOHARU') | (df[\"LOCATION_ID\"] ==  'NUH') | (df[\"LOCATION_ID\"] == 'SAFIDON')]))"
   ]
  },
  {
   "cell_type": "code",
   "execution_count": 18,
   "metadata": {},
   "outputs": [
    {
     "name": "stdout",
     "output_type": "stream",
     "text": [
      "Updated number of rows in the dataset:  773\n"
     ]
    }
   ],
   "source": [
    "#Deleting the rows with these 3 values as we have no information about the sequencing of the numbers present in the LCOATION_ID column.\n",
    "df = df[(df.LOCATION_ID != 'LOHARU')]\n",
    "df = df[(df.LOCATION_ID != 'NUH')]\n",
    "df = df[(df.LOCATION_ID != 'SAFIDON')]\n",
    "df = df.astype(float)\n",
    "print(\"Updated number of rows in the dataset: \",len(df))"
   ]
  },
  {
   "cell_type": "markdown",
   "metadata": {},
   "source": [
    "Dropping duplicate values if any. "
   ]
  },
  {
   "cell_type": "code",
   "execution_count": 19,
   "metadata": {},
   "outputs": [
    {
     "name": "stdout",
     "output_type": "stream",
     "text": [
      "Updated number of rows in the dataset:  760\n"
     ]
    }
   ],
   "source": [
    "df = df.drop_duplicates(keep = 'first')\n",
    "print(\"Updated number of rows in the dataset: \",len(df))"
   ]
  },
  {
   "cell_type": "code",
   "execution_count": 20,
   "metadata": {},
   "outputs": [
    {
     "name": "stdout",
     "output_type": "stream",
     "text": [
      "Sector_score : 13\n",
      "LOCATION_ID : 42\n",
      "PARA_A : 362\n",
      "Score_A : 3\n",
      "Risk_A : 362\n",
      "PARA_B : 358\n",
      "Score_B : 3\n",
      "Risk_B : 360\n",
      "TOTAL : 470\n",
      "numbers : 5\n",
      "Score_B.1 : 3\n",
      "Risk_C : 5\n",
      "Money_Value : 327\n",
      "Score_MV : 3\n",
      "Risk_D : 327\n",
      "District_Loss : 3\n",
      "PROB : 3\n",
      "RiSk_E : 5\n",
      "History : 7\n",
      "Prob : 3\n",
      "Score : 17\n",
      "Inherent_Risk : 583\n",
      "CONTROL_RISK : 11\n",
      "Audit_Risk : 600\n",
      "Risk : 2\n",
      "Loss : 3\n"
     ]
    }
   ],
   "source": [
    "#Number of unique values in each columns\n",
    "for i in range(0, len(df.columns)):\n",
    "    print(df.columns[i], \":\", df.iloc[:,i].nunique())"
   ]
  },
  {
   "cell_type": "code",
   "execution_count": 21,
   "metadata": {},
   "outputs": [
    {
     "data": {
      "text/html": [
       "<div>\n",
       "<style scoped>\n",
       "    .dataframe tbody tr th:only-of-type {\n",
       "        vertical-align: middle;\n",
       "    }\n",
       "\n",
       "    .dataframe tbody tr th {\n",
       "        vertical-align: top;\n",
       "    }\n",
       "\n",
       "    .dataframe thead th {\n",
       "        text-align: right;\n",
       "    }\n",
       "</style>\n",
       "<table border=\"1\" class=\"dataframe\">\n",
       "  <thead>\n",
       "    <tr style=\"text-align: right;\">\n",
       "      <th></th>\n",
       "      <th>Sector_score</th>\n",
       "      <th>LOCATION_ID</th>\n",
       "      <th>PARA_A</th>\n",
       "      <th>Score_A</th>\n",
       "      <th>Risk_A</th>\n",
       "      <th>PARA_B</th>\n",
       "      <th>Score_B</th>\n",
       "      <th>Risk_B</th>\n",
       "      <th>TOTAL</th>\n",
       "      <th>numbers</th>\n",
       "      <th>Score_B.1</th>\n",
       "      <th>Risk_C</th>\n",
       "      <th>Money_Value</th>\n",
       "      <th>Score_MV</th>\n",
       "      <th>Risk_D</th>\n",
       "      <th>District_Loss</th>\n",
       "      <th>PROB</th>\n",
       "      <th>RiSk_E</th>\n",
       "      <th>History</th>\n",
       "      <th>Prob</th>\n",
       "      <th>Score</th>\n",
       "      <th>Inherent_Risk</th>\n",
       "      <th>CONTROL_RISK</th>\n",
       "      <th>Audit_Risk</th>\n",
       "      <th>Risk</th>\n",
       "      <th>Loss</th>\n",
       "    </tr>\n",
       "  </thead>\n",
       "  <tbody>\n",
       "    <tr>\n",
       "      <th>count</th>\n",
       "      <td>760.000000</td>\n",
       "      <td>760.000000</td>\n",
       "      <td>760.000000</td>\n",
       "      <td>760.000000</td>\n",
       "      <td>760.000000</td>\n",
       "      <td>760.000000</td>\n",
       "      <td>760.000000</td>\n",
       "      <td>760.000000</td>\n",
       "      <td>760.000000</td>\n",
       "      <td>760.000000</td>\n",
       "      <td>760.000000</td>\n",
       "      <td>760.000000</td>\n",
       "      <td>760.000000</td>\n",
       "      <td>760.000000</td>\n",
       "      <td>760.000000</td>\n",
       "      <td>760.000000</td>\n",
       "      <td>760.000000</td>\n",
       "      <td>760.000000</td>\n",
       "      <td>760.000000</td>\n",
       "      <td>760.000000</td>\n",
       "      <td>760.000000</td>\n",
       "      <td>760.000000</td>\n",
       "      <td>760.000000</td>\n",
       "      <td>760.000000</td>\n",
       "      <td>760.000000</td>\n",
       "      <td>760.000000</td>\n",
       "    </tr>\n",
       "    <tr>\n",
       "      <th>mean</th>\n",
       "      <td>19.791303</td>\n",
       "      <td>14.913158</td>\n",
       "      <td>2.499382</td>\n",
       "      <td>0.354474</td>\n",
       "      <td>1.378992</td>\n",
       "      <td>11.026830</td>\n",
       "      <td>0.315526</td>\n",
       "      <td>6.467250</td>\n",
       "      <td>13.493844</td>\n",
       "      <td>5.069079</td>\n",
       "      <td>0.224211</td>\n",
       "      <td>1.156184</td>\n",
       "      <td>14.415282</td>\n",
       "      <td>0.292895</td>\n",
       "      <td>8.439143</td>\n",
       "      <td>2.510526</td>\n",
       "      <td>0.206316</td>\n",
       "      <td>0.520526</td>\n",
       "      <td>0.106579</td>\n",
       "      <td>0.217105</td>\n",
       "      <td>2.716842</td>\n",
       "      <td>18.021425</td>\n",
       "      <td>0.575263</td>\n",
       "      <td>7.311627</td>\n",
       "      <td>0.400000</td>\n",
       "      <td>0.030263</td>\n",
       "    </tr>\n",
       "    <tr>\n",
       "      <th>std</th>\n",
       "      <td>24.154233</td>\n",
       "      <td>9.935912</td>\n",
       "      <td>5.728092</td>\n",
       "      <td>0.174474</td>\n",
       "      <td>3.471049</td>\n",
       "      <td>50.584064</td>\n",
       "      <td>0.170780</td>\n",
       "      <td>30.373976</td>\n",
       "      <td>51.815320</td>\n",
       "      <td>0.267037</td>\n",
       "      <td>0.081120</td>\n",
       "      <td>0.542588</td>\n",
       "      <td>67.231807</td>\n",
       "      <td>0.160867</td>\n",
       "      <td>40.371807</td>\n",
       "      <td>1.233009</td>\n",
       "      <td>0.037890</td>\n",
       "      <td>0.291829</td>\n",
       "      <td>0.536380</td>\n",
       "      <td>0.068656</td>\n",
       "      <td>0.862102</td>\n",
       "      <td>55.263187</td>\n",
       "      <td>0.448001</td>\n",
       "      <td>39.060120</td>\n",
       "      <td>0.490221</td>\n",
       "      <td>0.186161</td>\n",
       "    </tr>\n",
       "    <tr>\n",
       "      <th>min</th>\n",
       "      <td>1.850000</td>\n",
       "      <td>1.000000</td>\n",
       "      <td>0.000000</td>\n",
       "      <td>0.200000</td>\n",
       "      <td>0.000000</td>\n",
       "      <td>0.000000</td>\n",
       "      <td>0.200000</td>\n",
       "      <td>0.000000</td>\n",
       "      <td>0.000000</td>\n",
       "      <td>5.000000</td>\n",
       "      <td>0.200000</td>\n",
       "      <td>1.000000</td>\n",
       "      <td>0.000000</td>\n",
       "      <td>0.200000</td>\n",
       "      <td>0.000000</td>\n",
       "      <td>2.000000</td>\n",
       "      <td>0.200000</td>\n",
       "      <td>0.400000</td>\n",
       "      <td>0.000000</td>\n",
       "      <td>0.200000</td>\n",
       "      <td>2.000000</td>\n",
       "      <td>1.400000</td>\n",
       "      <td>0.400000</td>\n",
       "      <td>0.280000</td>\n",
       "      <td>0.000000</td>\n",
       "      <td>0.000000</td>\n",
       "    </tr>\n",
       "    <tr>\n",
       "      <th>25%</th>\n",
       "      <td>2.370000</td>\n",
       "      <td>8.000000</td>\n",
       "      <td>0.257500</td>\n",
       "      <td>0.200000</td>\n",
       "      <td>0.051500</td>\n",
       "      <td>0.000000</td>\n",
       "      <td>0.200000</td>\n",
       "      <td>0.000000</td>\n",
       "      <td>0.597500</td>\n",
       "      <td>5.000000</td>\n",
       "      <td>0.200000</td>\n",
       "      <td>1.000000</td>\n",
       "      <td>0.000000</td>\n",
       "      <td>0.200000</td>\n",
       "      <td>0.000000</td>\n",
       "      <td>2.000000</td>\n",
       "      <td>0.200000</td>\n",
       "      <td>0.400000</td>\n",
       "      <td>0.000000</td>\n",
       "      <td>0.200000</td>\n",
       "      <td>2.000000</td>\n",
       "      <td>1.594000</td>\n",
       "      <td>0.400000</td>\n",
       "      <td>0.318800</td>\n",
       "      <td>0.000000</td>\n",
       "      <td>0.000000</td>\n",
       "    </tr>\n",
       "    <tr>\n",
       "      <th>50%</th>\n",
       "      <td>3.890000</td>\n",
       "      <td>13.000000</td>\n",
       "      <td>0.915000</td>\n",
       "      <td>0.200000</td>\n",
       "      <td>0.183000</td>\n",
       "      <td>0.455000</td>\n",
       "      <td>0.200000</td>\n",
       "      <td>0.091000</td>\n",
       "      <td>1.430000</td>\n",
       "      <td>5.000000</td>\n",
       "      <td>0.200000</td>\n",
       "      <td>1.000000</td>\n",
       "      <td>0.105000</td>\n",
       "      <td>0.200000</td>\n",
       "      <td>0.021000</td>\n",
       "      <td>2.000000</td>\n",
       "      <td>0.200000</td>\n",
       "      <td>0.400000</td>\n",
       "      <td>0.000000</td>\n",
       "      <td>0.200000</td>\n",
       "      <td>2.400000</td>\n",
       "      <td>2.243000</td>\n",
       "      <td>0.400000</td>\n",
       "      <td>0.619400</td>\n",
       "      <td>0.000000</td>\n",
       "      <td>0.000000</td>\n",
       "    </tr>\n",
       "    <tr>\n",
       "      <th>75%</th>\n",
       "      <td>55.570000</td>\n",
       "      <td>19.000000</td>\n",
       "      <td>2.525000</td>\n",
       "      <td>0.600000</td>\n",
       "      <td>1.515000</td>\n",
       "      <td>4.482500</td>\n",
       "      <td>0.400000</td>\n",
       "      <td>2.113500</td>\n",
       "      <td>8.072500</td>\n",
       "      <td>5.000000</td>\n",
       "      <td>0.200000</td>\n",
       "      <td>1.000000</td>\n",
       "      <td>6.030000</td>\n",
       "      <td>0.400000</td>\n",
       "      <td>2.412000</td>\n",
       "      <td>2.000000</td>\n",
       "      <td>0.200000</td>\n",
       "      <td>0.400000</td>\n",
       "      <td>0.000000</td>\n",
       "      <td>0.200000</td>\n",
       "      <td>3.400000</td>\n",
       "      <td>11.064500</td>\n",
       "      <td>0.400000</td>\n",
       "      <td>3.469800</td>\n",
       "      <td>1.000000</td>\n",
       "      <td>0.000000</td>\n",
       "    </tr>\n",
       "    <tr>\n",
       "      <th>max</th>\n",
       "      <td>59.850000</td>\n",
       "      <td>44.000000</td>\n",
       "      <td>85.000000</td>\n",
       "      <td>0.600000</td>\n",
       "      <td>51.000000</td>\n",
       "      <td>1264.630000</td>\n",
       "      <td>0.600000</td>\n",
       "      <td>758.778000</td>\n",
       "      <td>1268.910000</td>\n",
       "      <td>9.000000</td>\n",
       "      <td>0.600000</td>\n",
       "      <td>5.400000</td>\n",
       "      <td>935.030000</td>\n",
       "      <td>0.600000</td>\n",
       "      <td>561.018000</td>\n",
       "      <td>6.000000</td>\n",
       "      <td>0.600000</td>\n",
       "      <td>2.400000</td>\n",
       "      <td>9.000000</td>\n",
       "      <td>0.600000</td>\n",
       "      <td>5.200000</td>\n",
       "      <td>801.262000</td>\n",
       "      <td>5.800000</td>\n",
       "      <td>961.514400</td>\n",
       "      <td>1.000000</td>\n",
       "      <td>2.000000</td>\n",
       "    </tr>\n",
       "  </tbody>\n",
       "</table>\n",
       "</div>"
      ],
      "text/plain": [
       "       Sector_score  LOCATION_ID      PARA_A     Score_A      Risk_A  \\\n",
       "count    760.000000   760.000000  760.000000  760.000000  760.000000   \n",
       "mean      19.791303    14.913158    2.499382    0.354474    1.378992   \n",
       "std       24.154233     9.935912    5.728092    0.174474    3.471049   \n",
       "min        1.850000     1.000000    0.000000    0.200000    0.000000   \n",
       "25%        2.370000     8.000000    0.257500    0.200000    0.051500   \n",
       "50%        3.890000    13.000000    0.915000    0.200000    0.183000   \n",
       "75%       55.570000    19.000000    2.525000    0.600000    1.515000   \n",
       "max       59.850000    44.000000   85.000000    0.600000   51.000000   \n",
       "\n",
       "            PARA_B     Score_B      Risk_B        TOTAL     numbers  \\\n",
       "count   760.000000  760.000000  760.000000   760.000000  760.000000   \n",
       "mean     11.026830    0.315526    6.467250    13.493844    5.069079   \n",
       "std      50.584064    0.170780   30.373976    51.815320    0.267037   \n",
       "min       0.000000    0.200000    0.000000     0.000000    5.000000   \n",
       "25%       0.000000    0.200000    0.000000     0.597500    5.000000   \n",
       "50%       0.455000    0.200000    0.091000     1.430000    5.000000   \n",
       "75%       4.482500    0.400000    2.113500     8.072500    5.000000   \n",
       "max    1264.630000    0.600000  758.778000  1268.910000    9.000000   \n",
       "\n",
       "        Score_B.1      Risk_C  Money_Value    Score_MV      Risk_D  \\\n",
       "count  760.000000  760.000000   760.000000  760.000000  760.000000   \n",
       "mean     0.224211    1.156184    14.415282    0.292895    8.439143   \n",
       "std      0.081120    0.542588    67.231807    0.160867   40.371807   \n",
       "min      0.200000    1.000000     0.000000    0.200000    0.000000   \n",
       "25%      0.200000    1.000000     0.000000    0.200000    0.000000   \n",
       "50%      0.200000    1.000000     0.105000    0.200000    0.021000   \n",
       "75%      0.200000    1.000000     6.030000    0.400000    2.412000   \n",
       "max      0.600000    5.400000   935.030000    0.600000  561.018000   \n",
       "\n",
       "       District_Loss        PROB      RiSk_E     History        Prob  \\\n",
       "count     760.000000  760.000000  760.000000  760.000000  760.000000   \n",
       "mean        2.510526    0.206316    0.520526    0.106579    0.217105   \n",
       "std         1.233009    0.037890    0.291829    0.536380    0.068656   \n",
       "min         2.000000    0.200000    0.400000    0.000000    0.200000   \n",
       "25%         2.000000    0.200000    0.400000    0.000000    0.200000   \n",
       "50%         2.000000    0.200000    0.400000    0.000000    0.200000   \n",
       "75%         2.000000    0.200000    0.400000    0.000000    0.200000   \n",
       "max         6.000000    0.600000    2.400000    9.000000    0.600000   \n",
       "\n",
       "            Score  Inherent_Risk  CONTROL_RISK  Audit_Risk        Risk  \\\n",
       "count  760.000000     760.000000    760.000000  760.000000  760.000000   \n",
       "mean     2.716842      18.021425      0.575263    7.311627    0.400000   \n",
       "std      0.862102      55.263187      0.448001   39.060120    0.490221   \n",
       "min      2.000000       1.400000      0.400000    0.280000    0.000000   \n",
       "25%      2.000000       1.594000      0.400000    0.318800    0.000000   \n",
       "50%      2.400000       2.243000      0.400000    0.619400    0.000000   \n",
       "75%      3.400000      11.064500      0.400000    3.469800    1.000000   \n",
       "max      5.200000     801.262000      5.800000  961.514400    1.000000   \n",
       "\n",
       "             Loss  \n",
       "count  760.000000  \n",
       "mean     0.030263  \n",
       "std      0.186161  \n",
       "min      0.000000  \n",
       "25%      0.000000  \n",
       "50%      0.000000  \n",
       "75%      0.000000  \n",
       "max      2.000000  "
      ]
     },
     "execution_count": 21,
     "metadata": {},
     "output_type": "execute_result"
    }
   ],
   "source": [
    "df.describe()"
   ]
  },
  {
   "cell_type": "markdown",
   "metadata": {},
   "source": [
    "## Box Plot Analysis"
   ]
  },
  {
   "cell_type": "code",
   "execution_count": 22,
   "metadata": {},
   "outputs": [
    {
     "data": {
      "text/plain": [
       "Text(0.5,1,'Before Outlier Removal')"
      ]
     },
     "execution_count": 22,
     "metadata": {},
     "output_type": "execute_result"
    },
    {
     "data": {
      "image/png": "[encoded data removed]",
      "text/plain": [
       "<Figure size 1440x720 with 1 Axes>"
      ]
     },
     "metadata": {
      "needs_background": "light"
     },
     "output_type": "display_data"
    }
   ],
   "source": [
    "%matplotlib inline\n",
    "import matplotlib.pyplot as plt\n",
    "\n",
    "# Make the figures big enough for the optically challenged.\n",
    "plt.rcParams['figure.figsize'] = (20.0, 10.0)\n",
    "#box plot the numerical attributes\n",
    "#convert data frame to array for plotting\n",
    "#plot_df = df.iloc[:,:]\n",
    "plt.boxplot(df.values)\n",
    "# Nice labels using attribute names on the x-axis.\n",
    "plt.xticks(range(1,len(df.columns)+1), df.columns, rotation = 'vertical')\n",
    "plt.title('Before Outlier Removal')\n",
    "#show()"
   ]
  },
  {
   "cell_type": "markdown",
   "metadata": {},
   "source": [
    "The data has many outliers. Even the target column for regression i.e. has extreme values. \n",
    "\n",
    "This can be mainly because Audit_Risk = Inherent_Risk x CONTROL_RISK x Detection_Risk (as quoted in the paper provided by professor).\n",
    "\n",
    "Since Inherent_Risk has outliers, the target column Audit_Risk too has outliers."
   ]
  },
  {
   "cell_type": "code",
   "execution_count": 23,
   "metadata": {},
   "outputs": [],
   "source": [
    "#Function to replace values by median in columns where the value exceeds a certain percentile rank value. \n",
    "def outlier_removal(df, percentile): \n",
    "    limit = df.quantile(percentile)\n",
    "    df[df > limit] = df.median()\n",
    "    \n",
    "#Only removing outliers from columns having larger numbers of unqiue values and extreme values.\n",
    "outlier_removal(df[\"PARA_A\"], 0.75)\n",
    "outlier_removal(df[\"Risk_A\"], 0.75)\n",
    "outlier_removal(df[\"PARA_B\"], 0.75)\n",
    "outlier_removal(df[\"Risk_B\"], 0.75)\n",
    "outlier_removal(df[\"TOTAL\"], 0.75)\n",
    "outlier_removal(df[\"Money_Value\"], 0.75)\n",
    "outlier_removal(df[\"Risk_D\"], 0.75)\n",
    "outlier_removal(df[\"Inherent_Risk\"], 0.75)"
   ]
  },
  {
   "cell_type": "markdown",
   "metadata": {},
   "source": [
    "# Classification"
   ]
  },
  {
   "cell_type": "code",
   "execution_count": 24,
   "metadata": {},
   "outputs": [],
   "source": [
    "#Creating a new dataframe for classification by deleting the Audit_Risk column.\n",
    "class_df = df.drop(\"Audit_Risk\", axis = 1)"
   ]
  },
  {
   "cell_type": "markdown",
   "metadata": {},
   "source": [
    "## Correlation Matrix"
   ]
  },
  {
   "cell_type": "code",
   "execution_count": 25,
   "metadata": {},
   "outputs": [
    {
     "data": {
      "text/html": [
       "<style  type=\"text/css\" >\n",
       "    #T_9f403ca4_4e61_11e9_ac0f_90324b3f723erow0_col0 {\n",
       "            background-color:  #c3553a;\n",
       "        }    #T_9f403ca4_4e61_11e9_ac0f_90324b3f723erow0_col1 {\n",
       "            background-color:  #578fa1;\n",
       "        }    #T_9f403ca4_4e61_11e9_ac0f_90324b3f723erow0_col2 {\n",
       "            background-color:  #3f7f93;\n",
       "        }    #T_9f403ca4_4e61_11e9_ac0f_90324b3f723erow0_col3 {\n",
       "            background-color:  #3f7f93;\n",
       "        }    #T_9f403ca4_4e61_11e9_ac0f_90324b3f723erow0_col4 {\n",
       "            background-color:  #3f7f93;\n",
       "        }    #T_9f403ca4_4e61_11e9_ac0f_90324b3f723erow0_col5 {\n",
       "            background-color:  #3f7f93;\n",
       "        }    #T_9f403ca4_4e61_11e9_ac0f_90324b3f723erow0_col6 {\n",
       "            background-color:  #3f7f93;\n",
       "        }    #T_9f403ca4_4e61_11e9_ac0f_90324b3f723erow0_col7 {\n",
       "            background-color:  #3f7f93;\n",
       "        }    #T_9f403ca4_4e61_11e9_ac0f_90324b3f723erow0_col8 {\n",
       "            background-color:  #3f7f93;\n",
       "        }    #T_9f403ca4_4e61_11e9_ac0f_90324b3f723erow0_col9 {\n",
       "            background-color:  #3f7f93;\n",
       "        }    #T_9f403ca4_4e61_11e9_ac0f_90324b3f723erow0_col10 {\n",
       "            background-color:  #3f7f93;\n",
       "        }    #T_9f403ca4_4e61_11e9_ac0f_90324b3f723erow0_col11 {\n",
       "            background-color:  #3f7f93;\n",
       "        }    #T_9f403ca4_4e61_11e9_ac0f_90324b3f723erow0_col12 {\n",
       "            background-color:  #3f7f93;\n",
       "        }    #T_9f403ca4_4e61_11e9_ac0f_90324b3f723erow0_col13 {\n",
       "            background-color:  #3f7f93;\n",
       "        }    #T_9f403ca4_4e61_11e9_ac0f_90324b3f723erow0_col14 {\n",
       "            background-color:  #3f7f93;\n",
       "        }    #T_9f403ca4_4e61_11e9_ac0f_90324b3f723erow0_col15 {\n",
       "            background-color:  #3f7f93;\n",
       "        }    #T_9f403ca4_4e61_11e9_ac0f_90324b3f723erow0_col16 {\n",
       "            background-color:  #3f7f93;\n",
       "        }    #T_9f403ca4_4e61_11e9_ac0f_90324b3f723erow0_col17 {\n",
       "            background-color:  #3f7f93;\n",
       "        }    #T_9f403ca4_4e61_11e9_ac0f_90324b3f723erow0_col18 {\n",
       "            background-color:  #3f7f93;\n",
       "        }    #T_9f403ca4_4e61_11e9_ac0f_90324b3f723erow0_col19 {\n",
       "            background-color:  #3f7f93;\n",
       "        }    #T_9f403ca4_4e61_11e9_ac0f_90324b3f723erow0_col20 {\n",
       "            background-color:  #3f7f93;\n",
       "        }    #T_9f403ca4_4e61_11e9_ac0f_90324b3f723erow0_col21 {\n",
       "            background-color:  #3f7f93;\n",
       "        }    #T_9f403ca4_4e61_11e9_ac0f_90324b3f723erow0_col22 {\n",
       "            background-color:  #3f7f93;\n",
       "        }    #T_9f403ca4_4e61_11e9_ac0f_90324b3f723erow0_col23 {\n",
       "            background-color:  #3f7f93;\n",
       "        }    #T_9f403ca4_4e61_11e9_ac0f_90324b3f723erow0_col24 {\n",
       "            background-color:  #3f7f93;\n",
       "        }    #T_9f403ca4_4e61_11e9_ac0f_90324b3f723erow1_col0 {\n",
       "            background-color:  #a1c2cc;\n",
       "        }    #T_9f403ca4_4e61_11e9_ac0f_90324b3f723erow1_col1 {\n",
       "            background-color:  #c3553a;\n",
       "        }    #T_9f403ca4_4e61_11e9_ac0f_90324b3f723erow1_col2 {\n",
       "            background-color:  #92b8c3;\n",
       "        }    #T_9f403ca4_4e61_11e9_ac0f_90324b3f723erow1_col3 {\n",
       "            background-color:  #c5dae0;\n",
       "        }    #T_9f403ca4_4e61_11e9_ac0f_90324b3f723erow1_col4 {\n",
       "            background-color:  #74a3b2;\n",
       "        }    #T_9f403ca4_4e61_11e9_ac0f_90324b3f723erow1_col5 {\n",
       "            background-color:  #5890a2;\n",
       "        }    #T_9f403ca4_4e61_11e9_ac0f_90324b3f723erow1_col6 {\n",
       "            background-color:  #a9c7d0;\n",
       "        }    #T_9f403ca4_4e61_11e9_ac0f_90324b3f723erow1_col7 {\n",
       "            background-color:  #5890a2;\n",
       "        }    #T_9f403ca4_4e61_11e9_ac0f_90324b3f723erow1_col8 {\n",
       "            background-color:  #78a6b4;\n",
       "        }    #T_9f403ca4_4e61_11e9_ac0f_90324b3f723erow1_col9 {\n",
       "            background-color:  #72a1b0;\n",
       "        }    #T_9f403ca4_4e61_11e9_ac0f_90324b3f723erow1_col10 {\n",
       "            background-color:  #70a1af;\n",
       "        }    #T_9f403ca4_4e61_11e9_ac0f_90324b3f723erow1_col11 {\n",
       "            background-color:  #6fa0af;\n",
       "        }    #T_9f403ca4_4e61_11e9_ac0f_90324b3f723erow1_col12 {\n",
       "            background-color:  #6498a8;\n",
       "        }    #T_9f403ca4_4e61_11e9_ac0f_90324b3f723erow1_col13 {\n",
       "            background-color:  #b9d2d9;\n",
       "        }    #T_9f403ca4_4e61_11e9_ac0f_90324b3f723erow1_col14 {\n",
       "            background-color:  #6599a9;\n",
       "        }    #T_9f403ca4_4e61_11e9_ac0f_90324b3f723erow1_col15 {\n",
       "            background-color:  #408094;\n",
       "        }    #T_9f403ca4_4e61_11e9_ac0f_90324b3f723erow1_col16 {\n",
       "            background-color:  #5b92a3;\n",
       "        }    #T_9f403ca4_4e61_11e9_ac0f_90324b3f723erow1_col17 {\n",
       "            background-color:  #498699;\n",
       "        }    #T_9f403ca4_4e61_11e9_ac0f_90324b3f723erow1_col18 {\n",
       "            background-color:  #498699;\n",
       "        }    #T_9f403ca4_4e61_11e9_ac0f_90324b3f723erow1_col19 {\n",
       "            background-color:  #5a91a2;\n",
       "        }    #T_9f403ca4_4e61_11e9_ac0f_90324b3f723erow1_col20 {\n",
       "            background-color:  #b7d0d8;\n",
       "        }    #T_9f403ca4_4e61_11e9_ac0f_90324b3f723erow1_col21 {\n",
       "            background-color:  #88b1bd;\n",
       "        }    #T_9f403ca4_4e61_11e9_ac0f_90324b3f723erow1_col22 {\n",
       "            background-color:  #488598;\n",
       "        }    #T_9f403ca4_4e61_11e9_ac0f_90324b3f723erow1_col23 {\n",
       "            background-color:  #bcd4db;\n",
       "        }    #T_9f403ca4_4e61_11e9_ac0f_90324b3f723erow1_col24 {\n",
       "            background-color:  #5c93a4;\n",
       "        }    #T_9f403ca4_4e61_11e9_ac0f_90324b3f723erow2_col0 {\n",
       "            background-color:  #6a9cac;\n",
       "        }    #T_9f403ca4_4e61_11e9_ac0f_90324b3f723erow2_col1 {\n",
       "            background-color:  #6fa0af;\n",
       "        }    #T_9f403ca4_4e61_11e9_ac0f_90324b3f723erow2_col2 {\n",
       "            background-color:  #c3553a;\n",
       "        }    #T_9f403ca4_4e61_11e9_ac0f_90324b3f723erow2_col3 {\n",
       "            background-color:  #e1aa9d;\n",
       "        }    #T_9f403ca4_4e61_11e9_ac0f_90324b3f723erow2_col4 {\n",
       "            background-color:  #cb6e56;\n",
       "        }    #T_9f403ca4_4e61_11e9_ac0f_90324b3f723erow2_col5 {\n",
       "            background-color:  #7da9b7;\n",
       "        }    #T_9f403ca4_4e61_11e9_ac0f_90324b3f723erow2_col6 {\n",
       "            background-color:  #e9f2f5;\n",
       "        }    #T_9f403ca4_4e61_11e9_ac0f_90324b3f723erow2_col7 {\n",
       "            background-color:  #6d9ead;\n",
       "        }    #T_9f403ca4_4e61_11e9_ac0f_90324b3f723erow2_col8 {\n",
       "            background-color:  #f9edea;\n",
       "        }    #T_9f403ca4_4e61_11e9_ac0f_90324b3f723erow2_col9 {\n",
       "            background-color:  #94b9c4;\n",
       "        }    #T_9f403ca4_4e61_11e9_ac0f_90324b3f723erow2_col10 {\n",
       "            background-color:  #9bbec8;\n",
       "        }    #T_9f403ca4_4e61_11e9_ac0f_90324b3f723erow2_col11 {\n",
       "            background-color:  #9abdc7;\n",
       "        }    #T_9f403ca4_4e61_11e9_ac0f_90324b3f723erow2_col12 {\n",
       "            background-color:  #92b8c3;\n",
       "        }    #T_9f403ca4_4e61_11e9_ac0f_90324b3f723erow2_col13 {\n",
       "            background-color:  #e0ecf0;\n",
       "        }    #T_9f403ca4_4e61_11e9_ac0f_90324b3f723erow2_col14 {\n",
       "            background-color:  #94b9c4;\n",
       "        }    #T_9f403ca4_4e61_11e9_ac0f_90324b3f723erow2_col15 {\n",
       "            background-color:  #76a4b2;\n",
       "        }    #T_9f403ca4_4e61_11e9_ac0f_90324b3f723erow2_col16 {\n",
       "            background-color:  #6d9ead;\n",
       "        }    #T_9f403ca4_4e61_11e9_ac0f_90324b3f723erow2_col17 {\n",
       "            background-color:  #7da9b7;\n",
       "        }    #T_9f403ca4_4e61_11e9_ac0f_90324b3f723erow2_col18 {\n",
       "            background-color:  #85aebb;\n",
       "        }    #T_9f403ca4_4e61_11e9_ac0f_90324b3f723erow2_col19 {\n",
       "            background-color:  #95b9c5;\n",
       "        }    #T_9f403ca4_4e61_11e9_ac0f_90324b3f723erow2_col20 {\n",
       "            background-color:  #f7e8e4;\n",
       "        }    #T_9f403ca4_4e61_11e9_ac0f_90324b3f723erow2_col21 {\n",
       "            background-color:  #e0ecf0;\n",
       "        }    #T_9f403ca4_4e61_11e9_ac0f_90324b3f723erow2_col22 {\n",
       "            background-color:  #90b6c1;\n",
       "        }    #T_9f403ca4_4e61_11e9_ac0f_90324b3f723erow2_col23 {\n",
       "            background-color:  #f2f2f2;\n",
       "        }    #T_9f403ca4_4e61_11e9_ac0f_90324b3f723erow2_col24 {\n",
       "            background-color:  #699bab;\n",
       "        }    #T_9f403ca4_4e61_11e9_ac0f_90324b3f723erow3_col0 {\n",
       "            background-color:  #3f7f93;\n",
       "        }    #T_9f403ca4_4e61_11e9_ac0f_90324b3f723erow3_col1 {\n",
       "            background-color:  #83adba;\n",
       "        }    #T_9f403ca4_4e61_11e9_ac0f_90324b3f723erow3_col2 {\n",
       "            background-color:  #e5b6aa;\n",
       "        }    #T_9f403ca4_4e61_11e9_ac0f_90324b3f723erow3_col3 {\n",
       "            background-color:  #c3553a;\n",
       "        }    #T_9f403ca4_4e61_11e9_ac0f_90324b3f723erow3_col4 {\n",
       "            background-color:  #f9eeeb;\n",
       "        }    #T_9f403ca4_4e61_11e9_ac0f_90324b3f723erow3_col5 {\n",
       "            background-color:  #8eb4c0;\n",
       "        }    #T_9f403ca4_4e61_11e9_ac0f_90324b3f723erow3_col6 {\n",
       "            background-color:  #edcdc4;\n",
       "        }    #T_9f403ca4_4e61_11e9_ac0f_90324b3f723erow3_col7 {\n",
       "            background-color:  #7fabb8;\n",
       "        }    #T_9f403ca4_4e61_11e9_ac0f_90324b3f723erow3_col8 {\n",
       "            background-color:  #f2f2f2;\n",
       "        }    #T_9f403ca4_4e61_11e9_ac0f_90324b3f723erow3_col9 {\n",
       "            background-color:  #bfd6dd;\n",
       "        }    #T_9f403ca4_4e61_11e9_ac0f_90324b3f723erow3_col10 {\n",
       "            background-color:  #cee0e6;\n",
       "        }    #T_9f403ca4_4e61_11e9_ac0f_90324b3f723erow3_col11 {\n",
       "            background-color:  #cbdee4;\n",
       "        }    #T_9f403ca4_4e61_11e9_ac0f_90324b3f723erow3_col12 {\n",
       "            background-color:  #97bbc6;\n",
       "        }    #T_9f403ca4_4e61_11e9_ac0f_90324b3f723erow3_col13 {\n",
       "            background-color:  #f2dbd5;\n",
       "        }    #T_9f403ca4_4e61_11e9_ac0f_90324b3f723erow3_col14 {\n",
       "            background-color:  #98bcc7;\n",
       "        }    #T_9f403ca4_4e61_11e9_ac0f_90324b3f723erow3_col15 {\n",
       "            background-color:  #82adba;\n",
       "        }    #T_9f403ca4_4e61_11e9_ac0f_90324b3f723erow3_col16 {\n",
       "            background-color:  #7ca8b6;\n",
       "        }    #T_9f403ca4_4e61_11e9_ac0f_90324b3f723erow3_col17 {\n",
       "            background-color:  #8cb3bf;\n",
       "        }    #T_9f403ca4_4e61_11e9_ac0f_90324b3f723erow3_col18 {\n",
       "            background-color:  #a1c2cc;\n",
       "        }    #T_9f403ca4_4e61_11e9_ac0f_90324b3f723erow3_col19 {\n",
       "            background-color:  #c3d9df;\n",
       "        }    #T_9f403ca4_4e61_11e9_ac0f_90324b3f723erow3_col20 {\n",
       "            background-color:  #dc9c8c;\n",
       "        }    #T_9f403ca4_4e61_11e9_ac0f_90324b3f723erow3_col21 {\n",
       "            background-color:  #f2f2f2;\n",
       "        }    #T_9f403ca4_4e61_11e9_ac0f_90324b3f723erow3_col22 {\n",
       "            background-color:  #a9c7d0;\n",
       "        }    #T_9f403ca4_4e61_11e9_ac0f_90324b3f723erow3_col23 {\n",
       "            background-color:  #e3b1a4;\n",
       "        }    #T_9f403ca4_4e61_11e9_ac0f_90324b3f723erow3_col24 {\n",
       "            background-color:  #7aa7b5;\n",
       "        }    #T_9f403ca4_4e61_11e9_ac0f_90324b3f723erow4_col0 {\n",
       "            background-color:  #83adba;\n",
       "        }    #T_9f403ca4_4e61_11e9_ac0f_90324b3f723erow4_col1 {\n",
       "            background-color:  #699bab;\n",
       "        }    #T_9f403ca4_4e61_11e9_ac0f_90324b3f723erow4_col2 {\n",
       "            background-color:  #cb6d55;\n",
       "        }    #T_9f403ca4_4e61_11e9_ac0f_90324b3f723erow4_col3 {\n",
       "            background-color:  #f0d3cc;\n",
       "        }    #T_9f403ca4_4e61_11e9_ac0f_90324b3f723erow4_col4 {\n",
       "            background-color:  #c3553a;\n",
       "        }    #T_9f403ca4_4e61_11e9_ac0f_90324b3f723erow4_col5 {\n",
       "            background-color:  #73a2b1;\n",
       "        }    #T_9f403ca4_4e61_11e9_ac0f_90324b3f723erow4_col6 {\n",
       "            background-color:  #c1d7de;\n",
       "        }    #T_9f403ca4_4e61_11e9_ac0f_90324b3f723erow4_col7 {\n",
       "            background-color:  #699bab;\n",
       "        }    #T_9f403ca4_4e61_11e9_ac0f_90324b3f723erow4_col8 {\n",
       "            background-color:  #f2f2f2;\n",
       "        }    #T_9f403ca4_4e61_11e9_ac0f_90324b3f723erow4_col9 {\n",
       "            background-color:  #7ca8b6;\n",
       "        }    #T_9f403ca4_4e61_11e9_ac0f_90324b3f723erow4_col10 {\n",
       "            background-color:  #81acb9;\n",
       "        }    #T_9f403ca4_4e61_11e9_ac0f_90324b3f723erow4_col11 {\n",
       "            background-color:  #7fabb8;\n",
       "        }    #T_9f403ca4_4e61_11e9_ac0f_90324b3f723erow4_col12 {\n",
       "            background-color:  #9abdc7;\n",
       "        }    #T_9f403ca4_4e61_11e9_ac0f_90324b3f723erow4_col13 {\n",
       "            background-color:  #c3d9df;\n",
       "        }    #T_9f403ca4_4e61_11e9_ac0f_90324b3f723erow4_col14 {\n",
       "            background-color:  #9fc0ca;\n",
       "        }    #T_9f403ca4_4e61_11e9_ac0f_90324b3f723erow4_col15 {\n",
       "            background-color:  #6fa0af;\n",
       "        }    #T_9f403ca4_4e61_11e9_ac0f_90324b3f723erow4_col16 {\n",
       "            background-color:  #6196a7;\n",
       "        }    #T_9f403ca4_4e61_11e9_ac0f_90324b3f723erow4_col17 {\n",
       "            background-color:  #73a2b1;\n",
       "        }    #T_9f403ca4_4e61_11e9_ac0f_90324b3f723erow4_col18 {\n",
       "            background-color:  #7ca8b6;\n",
       "        }    #T_9f403ca4_4e61_11e9_ac0f_90324b3f723erow4_col19 {\n",
       "            background-color:  #82adba;\n",
       "        }    #T_9f403ca4_4e61_11e9_ac0f_90324b3f723erow4_col20 {\n",
       "            background-color:  #e8f1f4;\n",
       "        }    #T_9f403ca4_4e61_11e9_ac0f_90324b3f723erow4_col21 {\n",
       "            background-color:  #d1e2e7;\n",
       "        }    #T_9f403ca4_4e61_11e9_ac0f_90324b3f723erow4_col22 {\n",
       "            background-color:  #85aebb;\n",
       "        }    #T_9f403ca4_4e61_11e9_ac0f_90324b3f723erow4_col23 {\n",
       "            background-color:  #e3eef1;\n",
       "        }    #T_9f403ca4_4e61_11e9_ac0f_90324b3f723erow4_col24 {\n",
       "            background-color:  #5c93a4;\n",
       "        }    #T_9f403ca4_4e61_11e9_ac0f_90324b3f723erow5_col0 {\n",
       "            background-color:  #9dbfc9;\n",
       "        }    #T_9f403ca4_4e61_11e9_ac0f_90324b3f723erow5_col1 {\n",
       "            background-color:  #6a9cac;\n",
       "        }    #T_9f403ca4_4e61_11e9_ac0f_90324b3f723erow5_col2 {\n",
       "            background-color:  #adcad2;\n",
       "        }    #T_9f403ca4_4e61_11e9_ac0f_90324b3f723erow5_col3 {\n",
       "            background-color:  #dae8ec;\n",
       "        }    #T_9f403ca4_4e61_11e9_ac0f_90324b3f723erow5_col4 {\n",
       "            background-color:  #90b6c1;\n",
       "        }    #T_9f403ca4_4e61_11e9_ac0f_90324b3f723erow5_col5 {\n",
       "            background-color:  #c3553a;\n",
       "        }    #T_9f403ca4_4e61_11e9_ac0f_90324b3f723erow5_col6 {\n",
       "            background-color:  #e9f2f5;\n",
       "        }    #T_9f403ca4_4e61_11e9_ac0f_90324b3f723erow5_col7 {\n",
       "            background-color:  #e7bbb0;\n",
       "        }    #T_9f403ca4_4e61_11e9_ac0f_90324b3f723erow5_col8 {\n",
       "            background-color:  #f8ebe7;\n",
       "        }    #T_9f403ca4_4e61_11e9_ac0f_90324b3f723erow5_col9 {\n",
       "            background-color:  #8bb3bf;\n",
       "        }    #T_9f403ca4_4e61_11e9_ac0f_90324b3f723erow5_col10 {\n",
       "            background-color:  #94b9c4;\n",
       "        }    #T_9f403ca4_4e61_11e9_ac0f_90324b3f723erow5_col11 {\n",
       "            background-color:  #92b8c3;\n",
       "        }    #T_9f403ca4_4e61_11e9_ac0f_90324b3f723erow5_col12 {\n",
       "            background-color:  #8cb3bf;\n",
       "        }    #T_9f403ca4_4e61_11e9_ac0f_90324b3f723erow5_col13 {\n",
       "            background-color:  #adcad2;\n",
       "        }    #T_9f403ca4_4e61_11e9_ac0f_90324b3f723erow5_col14 {\n",
       "            background-color:  #83adba;\n",
       "        }    #T_9f403ca4_4e61_11e9_ac0f_90324b3f723erow5_col15 {\n",
       "            background-color:  #6498a8;\n",
       "        }    #T_9f403ca4_4e61_11e9_ac0f_90324b3f723erow5_col16 {\n",
       "            background-color:  #699bab;\n",
       "        }    #T_9f403ca4_4e61_11e9_ac0f_90324b3f723erow5_col17 {\n",
       "            background-color:  #699bab;\n",
       "        }    #T_9f403ca4_4e61_11e9_ac0f_90324b3f723erow5_col18 {\n",
       "            background-color:  #8bb3bf;\n",
       "        }    #T_9f403ca4_4e61_11e9_ac0f_90324b3f723erow5_col19 {\n",
       "            background-color:  #7fabb8;\n",
       "        }    #T_9f403ca4_4e61_11e9_ac0f_90324b3f723erow5_col20 {\n",
       "            background-color:  #e9f2f5;\n",
       "        }    #T_9f403ca4_4e61_11e9_ac0f_90324b3f723erow5_col21 {\n",
       "            background-color:  #e2edf1;\n",
       "        }    #T_9f403ca4_4e61_11e9_ac0f_90324b3f723erow5_col22 {\n",
       "            background-color:  #89b2be;\n",
       "        }    #T_9f403ca4_4e61_11e9_ac0f_90324b3f723erow5_col23 {\n",
       "            background-color:  #d5e5ea;\n",
       "        }    #T_9f403ca4_4e61_11e9_ac0f_90324b3f723erow5_col24 {\n",
       "            background-color:  #699bab;\n",
       "        }    #T_9f403ca4_4e61_11e9_ac0f_90324b3f723erow6_col0 {\n",
       "            background-color:  #76a4b2;\n",
       "        }    #T_9f403ca4_4e61_11e9_ac0f_90324b3f723erow6_col1 {\n",
       "            background-color:  #92b8c3;\n",
       "        }    #T_9f403ca4_4e61_11e9_ac0f_90324b3f723erow6_col2 {\n",
       "            background-color:  #f2f2f2;\n",
       "        }    #T_9f403ca4_4e61_11e9_ac0f_90324b3f723erow6_col3 {\n",
       "            background-color:  #e7baaf;\n",
       "        }    #T_9f403ca4_4e61_11e9_ac0f_90324b3f723erow6_col4 {\n",
       "            background-color:  #b8d1d9;\n",
       "        }    #T_9f403ca4_4e61_11e9_ac0f_90324b3f723erow6_col5 {\n",
       "            background-color:  #ccdfe4;\n",
       "        }    #T_9f403ca4_4e61_11e9_ac0f_90324b3f723erow6_col6 {\n",
       "            background-color:  #c3553a;\n",
       "        }    #T_9f403ca4_4e61_11e9_ac0f_90324b3f723erow6_col7 {\n",
       "            background-color:  #afcbd4;\n",
       "        }    #T_9f403ca4_4e61_11e9_ac0f_90324b3f723erow6_col8 {\n",
       "            background-color:  #d9e7ec;\n",
       "        }    #T_9f403ca4_4e61_11e9_ac0f_90324b3f723erow6_col9 {\n",
       "            background-color:  #cbdee4;\n",
       "        }    #T_9f403ca4_4e61_11e9_ac0f_90324b3f723erow6_col10 {\n",
       "            background-color:  #dbe9ed;\n",
       "        }    #T_9f403ca4_4e61_11e9_ac0f_90324b3f723erow6_col11 {\n",
       "            background-color:  #d7e6eb;\n",
       "        }    #T_9f403ca4_4e61_11e9_ac0f_90324b3f723erow6_col12 {\n",
       "            background-color:  #a8c6cf;\n",
       "        }    #T_9f403ca4_4e61_11e9_ac0f_90324b3f723erow6_col13 {\n",
       "            background-color:  #eac3b9;\n",
       "        }    #T_9f403ca4_4e61_11e9_ac0f_90324b3f723erow6_col14 {\n",
       "            background-color:  #a5c5ce;\n",
       "        }    #T_9f403ca4_4e61_11e9_ac0f_90324b3f723erow6_col15 {\n",
       "            background-color:  #6196a7;\n",
       "        }    #T_9f403ca4_4e61_11e9_ac0f_90324b3f723erow6_col16 {\n",
       "            background-color:  #7ca8b6;\n",
       "        }    #T_9f403ca4_4e61_11e9_ac0f_90324b3f723erow6_col17 {\n",
       "            background-color:  #6fa0af;\n",
       "        }    #T_9f403ca4_4e61_11e9_ac0f_90324b3f723erow6_col18 {\n",
       "            background-color:  #a9c7d0;\n",
       "        }    #T_9f403ca4_4e61_11e9_ac0f_90324b3f723erow6_col19 {\n",
       "            background-color:  #d3e3e8;\n",
       "        }    #T_9f403ca4_4e61_11e9_ac0f_90324b3f723erow6_col20 {\n",
       "            background-color:  #cb6e56;\n",
       "        }    #T_9f403ca4_4e61_11e9_ac0f_90324b3f723erow6_col21 {\n",
       "            background-color:  #c5dae0;\n",
       "        }    #T_9f403ca4_4e61_11e9_ac0f_90324b3f723erow6_col22 {\n",
       "            background-color:  #9bbec8;\n",
       "        }    #T_9f403ca4_4e61_11e9_ac0f_90324b3f723erow6_col23 {\n",
       "            background-color:  #e2ad9f;\n",
       "        }    #T_9f403ca4_4e61_11e9_ac0f_90324b3f723erow6_col24 {\n",
       "            background-color:  #7da9b7;\n",
       "        }    #T_9f403ca4_4e61_11e9_ac0f_90324b3f723erow7_col0 {\n",
       "            background-color:  #a4c4cd;\n",
       "        }    #T_9f403ca4_4e61_11e9_ac0f_90324b3f723erow7_col1 {\n",
       "            background-color:  #73a2b1;\n",
       "        }    #T_9f403ca4_4e61_11e9_ac0f_90324b3f723erow7_col2 {\n",
       "            background-color:  #a5c5ce;\n",
       "        }    #T_9f403ca4_4e61_11e9_ac0f_90324b3f723erow7_col3 {\n",
       "            background-color:  #d4e4e9;\n",
       "        }    #T_9f403ca4_4e61_11e9_ac0f_90324b3f723erow7_col4 {\n",
       "            background-color:  #8cb3bf;\n",
       "        }    #T_9f403ca4_4e61_11e9_ac0f_90324b3f723erow7_col5 {\n",
       "            background-color:  #e6b9ad;\n",
       "        }    #T_9f403ca4_4e61_11e9_ac0f_90324b3f723erow7_col6 {\n",
       "            background-color:  #d5e5ea;\n",
       "        }    #T_9f403ca4_4e61_11e9_ac0f_90324b3f723erow7_col7 {\n",
       "            background-color:  #c3553a;\n",
       "        }    #T_9f403ca4_4e61_11e9_ac0f_90324b3f723erow7_col8 {\n",
       "            background-color:  #f2f2f2;\n",
       "        }    #T_9f403ca4_4e61_11e9_ac0f_90324b3f723erow7_col9 {\n",
       "            background-color:  #76a4b2;\n",
       "        }    #T_9f403ca4_4e61_11e9_ac0f_90324b3f723erow7_col10 {\n",
       "            background-color:  #81acb9;\n",
       "        }    #T_9f403ca4_4e61_11e9_ac0f_90324b3f723erow7_col11 {\n",
       "            background-color:  #7fabb8;\n",
       "        }    #T_9f403ca4_4e61_11e9_ac0f_90324b3f723erow7_col12 {\n",
       "            background-color:  #76a4b2;\n",
       "        }    #T_9f403ca4_4e61_11e9_ac0f_90324b3f723erow7_col13 {\n",
       "            background-color:  #a5c5ce;\n",
       "        }    #T_9f403ca4_4e61_11e9_ac0f_90324b3f723erow7_col14 {\n",
       "            background-color:  #73a2b1;\n",
       "        }    #T_9f403ca4_4e61_11e9_ac0f_90324b3f723erow7_col15 {\n",
       "            background-color:  #70a1af;\n",
       "        }    #T_9f403ca4_4e61_11e9_ac0f_90324b3f723erow7_col16 {\n",
       "            background-color:  #6d9ead;\n",
       "        }    #T_9f403ca4_4e61_11e9_ac0f_90324b3f723erow7_col17 {\n",
       "            background-color:  #76a4b2;\n",
       "        }    #T_9f403ca4_4e61_11e9_ac0f_90324b3f723erow7_col18 {\n",
       "            background-color:  #7aa7b5;\n",
       "        }    #T_9f403ca4_4e61_11e9_ac0f_90324b3f723erow7_col19 {\n",
       "            background-color:  #7ca8b6;\n",
       "        }    #T_9f403ca4_4e61_11e9_ac0f_90324b3f723erow7_col20 {\n",
       "            background-color:  #dae8ec;\n",
       "        }    #T_9f403ca4_4e61_11e9_ac0f_90324b3f723erow7_col21 {\n",
       "            background-color:  #d7e6eb;\n",
       "        }    #T_9f403ca4_4e61_11e9_ac0f_90324b3f723erow7_col22 {\n",
       "            background-color:  #87b0bc;\n",
       "        }    #T_9f403ca4_4e61_11e9_ac0f_90324b3f723erow7_col23 {\n",
       "            background-color:  #cee0e6;\n",
       "        }    #T_9f403ca4_4e61_11e9_ac0f_90324b3f723erow7_col24 {\n",
       "            background-color:  #6d9ead;\n",
       "        }    #T_9f403ca4_4e61_11e9_ac0f_90324b3f723erow8_col0 {\n",
       "            background-color:  #7fabb8;\n",
       "        }    #T_9f403ca4_4e61_11e9_ac0f_90324b3f723erow8_col1 {\n",
       "            background-color:  #699bab;\n",
       "        }    #T_9f403ca4_4e61_11e9_ac0f_90324b3f723erow8_col2 {\n",
       "            background-color:  #f6e4df;\n",
       "        }    #T_9f403ca4_4e61_11e9_ac0f_90324b3f723erow8_col3 {\n",
       "            background-color:  #f0d6cf;\n",
       "        }    #T_9f403ca4_4e61_11e9_ac0f_90324b3f723erow8_col4 {\n",
       "            background-color:  #f2f2f2;\n",
       "        }    #T_9f403ca4_4e61_11e9_ac0f_90324b3f723erow8_col5 {\n",
       "            background-color:  #f2f2f2;\n",
       "        }    #T_9f403ca4_4e61_11e9_ac0f_90324b3f723erow8_col6 {\n",
       "            background-color:  #dfebef;\n",
       "        }    #T_9f403ca4_4e61_11e9_ac0f_90324b3f723erow8_col7 {\n",
       "            background-color:  #ddeaee;\n",
       "        }    #T_9f403ca4_4e61_11e9_ac0f_90324b3f723erow8_col8 {\n",
       "            background-color:  #c3553a;\n",
       "        }    #T_9f403ca4_4e61_11e9_ac0f_90324b3f723erow8_col9 {\n",
       "            background-color:  #7fabb8;\n",
       "        }    #T_9f403ca4_4e61_11e9_ac0f_90324b3f723erow8_col10 {\n",
       "            background-color:  #88b1bd;\n",
       "        }    #T_9f403ca4_4e61_11e9_ac0f_90324b3f723erow8_col11 {\n",
       "            background-color:  #87b0bc;\n",
       "        }    #T_9f403ca4_4e61_11e9_ac0f_90324b3f723erow8_col12 {\n",
       "            background-color:  #a5c5ce;\n",
       "        }    #T_9f403ca4_4e61_11e9_ac0f_90324b3f723erow8_col13 {\n",
       "            background-color:  #b4cfd7;\n",
       "        }    #T_9f403ca4_4e61_11e9_ac0f_90324b3f723erow8_col14 {\n",
       "            background-color:  #9fc0ca;\n",
       "        }    #T_9f403ca4_4e61_11e9_ac0f_90324b3f723erow8_col15 {\n",
       "            background-color:  #6b9dad;\n",
       "        }    #T_9f403ca4_4e61_11e9_ac0f_90324b3f723erow8_col16 {\n",
       "            background-color:  #6b9dad;\n",
       "        }    #T_9f403ca4_4e61_11e9_ac0f_90324b3f723erow8_col17 {\n",
       "            background-color:  #74a3b2;\n",
       "        }    #T_9f403ca4_4e61_11e9_ac0f_90324b3f723erow8_col18 {\n",
       "            background-color:  #79a7b4;\n",
       "        }    #T_9f403ca4_4e61_11e9_ac0f_90324b3f723erow8_col19 {\n",
       "            background-color:  #7da9b7;\n",
       "        }    #T_9f403ca4_4e61_11e9_ac0f_90324b3f723erow8_col20 {\n",
       "            background-color:  #f2f2f2;\n",
       "        }    #T_9f403ca4_4e61_11e9_ac0f_90324b3f723erow8_col21 {\n",
       "            background-color:  #f6e5e1;\n",
       "        }    #T_9f403ca4_4e61_11e9_ac0f_90324b3f723erow8_col22 {\n",
       "            background-color:  #85aebb;\n",
       "        }    #T_9f403ca4_4e61_11e9_ac0f_90324b3f723erow8_col23 {\n",
       "            background-color:  #edf5f7;\n",
       "        }    #T_9f403ca4_4e61_11e9_ac0f_90324b3f723erow8_col24 {\n",
       "            background-color:  #6a9cac;\n",
       "        }    #T_9f403ca4_4e61_11e9_ac0f_90324b3f723erow9_col0 {\n",
       "            background-color:  #87b0bc;\n",
       "        }    #T_9f403ca4_4e61_11e9_ac0f_90324b3f723erow9_col1 {\n",
       "            background-color:  #6a9cac;\n",
       "        }    #T_9f403ca4_4e61_11e9_ac0f_90324b3f723erow9_col2 {\n",
       "            background-color:  #adcad2;\n",
       "        }    #T_9f403ca4_4e61_11e9_ac0f_90324b3f723erow9_col3 {\n",
       "            background-color:  #f2f2f2;\n",
       "        }    #T_9f403ca4_4e61_11e9_ac0f_90324b3f723erow9_col4 {\n",
       "            background-color:  #7fabb8;\n",
       "        }    #T_9f403ca4_4e61_11e9_ac0f_90324b3f723erow9_col5 {\n",
       "            background-color:  #73a2b1;\n",
       "        }    #T_9f403ca4_4e61_11e9_ac0f_90324b3f723erow9_col6 {\n",
       "            background-color:  #d9e7ec;\n",
       "        }    #T_9f403ca4_4e61_11e9_ac0f_90324b3f723erow9_col7 {\n",
       "            background-color:  #548d9f;\n",
       "        }    #T_9f403ca4_4e61_11e9_ac0f_90324b3f723erow9_col8 {\n",
       "            background-color:  #87b0bc;\n",
       "        }    #T_9f403ca4_4e61_11e9_ac0f_90324b3f723erow9_col9 {\n",
       "            background-color:  #c3553a;\n",
       "        }    #T_9f403ca4_4e61_11e9_ac0f_90324b3f723erow9_col10 {\n",
       "            background-color:  #cc6f58;\n",
       "        }    #T_9f403ca4_4e61_11e9_ac0f_90324b3f723erow9_col11 {\n",
       "            background-color:  #c76147;\n",
       "        }    #T_9f403ca4_4e61_11e9_ac0f_90324b3f723erow9_col12 {\n",
       "            background-color:  #528c9e;\n",
       "        }    #T_9f403ca4_4e61_11e9_ac0f_90324b3f723erow9_col13 {\n",
       "            background-color:  #f5e2dd;\n",
       "        }    #T_9f403ca4_4e61_11e9_ac0f_90324b3f723erow9_col14 {\n",
       "            background-color:  #548d9f;\n",
       "        }    #T_9f403ca4_4e61_11e9_ac0f_90324b3f723erow9_col15 {\n",
       "            background-color:  #90b6c1;\n",
       "        }    #T_9f403ca4_4e61_11e9_ac0f_90324b3f723erow9_col16 {\n",
       "            background-color:  #699bab;\n",
       "        }    #T_9f403ca4_4e61_11e9_ac0f_90324b3f723erow9_col17 {\n",
       "            background-color:  #98bcc7;\n",
       "        }    #T_9f403ca4_4e61_11e9_ac0f_90324b3f723erow9_col18 {\n",
       "            background-color:  #aac8d1;\n",
       "        }    #T_9f403ca4_4e61_11e9_ac0f_90324b3f723erow9_col19 {\n",
       "            background-color:  #b2cdd5;\n",
       "        }    #T_9f403ca4_4e61_11e9_ac0f_90324b3f723erow9_col20 {\n",
       "            background-color:  #efd1ca;\n",
       "        }    #T_9f403ca4_4e61_11e9_ac0f_90324b3f723erow9_col21 {\n",
       "            background-color:  #6a9cac;\n",
       "        }    #T_9f403ca4_4e61_11e9_ac0f_90324b3f723erow9_col22 {\n",
       "            background-color:  #bcd4db;\n",
       "        }    #T_9f403ca4_4e61_11e9_ac0f_90324b3f723erow9_col23 {\n",
       "            background-color:  #f2f2f2;\n",
       "        }    #T_9f403ca4_4e61_11e9_ac0f_90324b3f723erow9_col24 {\n",
       "            background-color:  #5a91a2;\n",
       "        }    #T_9f403ca4_4e61_11e9_ac0f_90324b3f723erow10_col0 {\n",
       "            background-color:  #82adba;\n",
       "        }    #T_9f403ca4_4e61_11e9_ac0f_90324b3f723erow10_col1 {\n",
       "            background-color:  #6397a7;\n",
       "        }    #T_9f403ca4_4e61_11e9_ac0f_90324b3f723erow10_col2 {\n",
       "            background-color:  #afcbd4;\n",
       "        }    #T_9f403ca4_4e61_11e9_ac0f_90324b3f723erow10_col3 {\n",
       "            background-color:  #f2f2f2;\n",
       "        }    #T_9f403ca4_4e61_11e9_ac0f_90324b3f723erow10_col4 {\n",
       "            background-color:  #7fabb8;\n",
       "        }    #T_9f403ca4_4e61_11e9_ac0f_90324b3f723erow10_col5 {\n",
       "            background-color:  #78a6b4;\n",
       "        }    #T_9f403ca4_4e61_11e9_ac0f_90324b3f723erow10_col6 {\n",
       "            background-color:  #e3eef1;\n",
       "        }    #T_9f403ca4_4e61_11e9_ac0f_90324b3f723erow10_col7 {\n",
       "            background-color:  #5a91a2;\n",
       "        }    #T_9f403ca4_4e61_11e9_ac0f_90324b3f723erow10_col8 {\n",
       "            background-color:  #89b2be;\n",
       "        }    #T_9f403ca4_4e61_11e9_ac0f_90324b3f723erow10_col9 {\n",
       "            background-color:  #cc6f58;\n",
       "        }    #T_9f403ca4_4e61_11e9_ac0f_90324b3f723erow10_col10 {\n",
       "            background-color:  #c3553a;\n",
       "        }    #T_9f403ca4_4e61_11e9_ac0f_90324b3f723erow10_col11 {\n",
       "            background-color:  #c4583c;\n",
       "        }    #T_9f403ca4_4e61_11e9_ac0f_90324b3f723erow10_col12 {\n",
       "            background-color:  #518b9d;\n",
       "        }    #T_9f403ca4_4e61_11e9_ac0f_90324b3f723erow10_col13 {\n",
       "            background-color:  #f0d3cc;\n",
       "        }    #T_9f403ca4_4e61_11e9_ac0f_90324b3f723erow10_col14 {\n",
       "            background-color:  #548d9f;\n",
       "        }    #T_9f403ca4_4e61_11e9_ac0f_90324b3f723erow10_col15 {\n",
       "            background-color:  #98bcc7;\n",
       "        }    #T_9f403ca4_4e61_11e9_ac0f_90324b3f723erow10_col16 {\n",
       "            background-color:  #699bab;\n",
       "        }    #T_9f403ca4_4e61_11e9_ac0f_90324b3f723erow10_col17 {\n",
       "            background-color:  #a0c1cb;\n",
       "        }    #T_9f403ca4_4e61_11e9_ac0f_90324b3f723erow10_col18 {\n",
       "            background-color:  #b2cdd5;\n",
       "        }    #T_9f403ca4_4e61_11e9_ac0f_90324b3f723erow10_col19 {\n",
       "            background-color:  #bfd6dd;\n",
       "        }    #T_9f403ca4_4e61_11e9_ac0f_90324b3f723erow10_col20 {\n",
       "            background-color:  #e9c2b8;\n",
       "        }    #T_9f403ca4_4e61_11e9_ac0f_90324b3f723erow10_col21 {\n",
       "            background-color:  #679baa;\n",
       "        }    #T_9f403ca4_4e61_11e9_ac0f_90324b3f723erow10_col22 {\n",
       "            background-color:  #c7dbe1;\n",
       "        }    #T_9f403ca4_4e61_11e9_ac0f_90324b3f723erow10_col23 {\n",
       "            background-color:  #f2f2f2;\n",
       "        }    #T_9f403ca4_4e61_11e9_ac0f_90324b3f723erow10_col24 {\n",
       "            background-color:  #5c93a4;\n",
       "        }    #T_9f403ca4_4e61_11e9_ac0f_90324b3f723erow11_col0 {\n",
       "            background-color:  #83adba;\n",
       "        }    #T_9f403ca4_4e61_11e9_ac0f_90324b3f723erow11_col1 {\n",
       "            background-color:  #6397a7;\n",
       "        }    #T_9f403ca4_4e61_11e9_ac0f_90324b3f723erow11_col2 {\n",
       "            background-color:  #afcbd4;\n",
       "        }    #T_9f403ca4_4e61_11e9_ac0f_90324b3f723erow11_col3 {\n",
       "            background-color:  #f2f2f2;\n",
       "        }    #T_9f403ca4_4e61_11e9_ac0f_90324b3f723erow11_col4 {\n",
       "            background-color:  #7fabb8;\n",
       "        }    #T_9f403ca4_4e61_11e9_ac0f_90324b3f723erow11_col5 {\n",
       "            background-color:  #78a6b4;\n",
       "        }    #T_9f403ca4_4e61_11e9_ac0f_90324b3f723erow11_col6 {\n",
       "            background-color:  #e0ecf0;\n",
       "        }    #T_9f403ca4_4e61_11e9_ac0f_90324b3f723erow11_col7 {\n",
       "            background-color:  #5890a2;\n",
       "        }    #T_9f403ca4_4e61_11e9_ac0f_90324b3f723erow11_col8 {\n",
       "            background-color:  #89b2be;\n",
       "        }    #T_9f403ca4_4e61_11e9_ac0f_90324b3f723erow11_col9 {\n",
       "            background-color:  #c76147;\n",
       "        }    #T_9f403ca4_4e61_11e9_ac0f_90324b3f723erow11_col10 {\n",
       "            background-color:  #c4583c;\n",
       "        }    #T_9f403ca4_4e61_11e9_ac0f_90324b3f723erow11_col11 {\n",
       "            background-color:  #c3553a;\n",
       "        }    #T_9f403ca4_4e61_11e9_ac0f_90324b3f723erow11_col12 {\n",
       "            background-color:  #518b9d;\n",
       "        }    #T_9f403ca4_4e61_11e9_ac0f_90324b3f723erow11_col13 {\n",
       "            background-color:  #f0d6cf;\n",
       "        }    #T_9f403ca4_4e61_11e9_ac0f_90324b3f723erow11_col14 {\n",
       "            background-color:  #528c9e;\n",
       "        }    #T_9f403ca4_4e61_11e9_ac0f_90324b3f723erow11_col15 {\n",
       "            background-color:  #97bbc6;\n",
       "        }    #T_9f403ca4_4e61_11e9_ac0f_90324b3f723erow11_col16 {\n",
       "            background-color:  #699bab;\n",
       "        }    #T_9f403ca4_4e61_11e9_ac0f_90324b3f723erow11_col17 {\n",
       "            background-color:  #9fc0ca;\n",
       "        }    #T_9f403ca4_4e61_11e9_ac0f_90324b3f723erow11_col18 {\n",
       "            background-color:  #b0ccd4;\n",
       "        }    #T_9f403ca4_4e61_11e9_ac0f_90324b3f723erow11_col19 {\n",
       "            background-color:  #bbd3da;\n",
       "        }    #T_9f403ca4_4e61_11e9_ac0f_90324b3f723erow11_col20 {\n",
       "            background-color:  #ebc6bd;\n",
       "        }    #T_9f403ca4_4e61_11e9_ac0f_90324b3f723erow11_col21 {\n",
       "            background-color:  #679baa;\n",
       "        }    #T_9f403ca4_4e61_11e9_ac0f_90324b3f723erow11_col22 {\n",
       "            background-color:  #c3d9df;\n",
       "        }    #T_9f403ca4_4e61_11e9_ac0f_90324b3f723erow11_col23 {\n",
       "            background-color:  #f2f2f2;\n",
       "        }    #T_9f403ca4_4e61_11e9_ac0f_90324b3f723erow11_col24 {\n",
       "            background-color:  #5b92a3;\n",
       "        }    #T_9f403ca4_4e61_11e9_ac0f_90324b3f723erow12_col0 {\n",
       "            background-color:  #94b9c4;\n",
       "        }    #T_9f403ca4_4e61_11e9_ac0f_90324b3f723erow12_col1 {\n",
       "            background-color:  #6b9dad;\n",
       "        }    #T_9f403ca4_4e61_11e9_ac0f_90324b3f723erow12_col2 {\n",
       "            background-color:  #b8d1d9;\n",
       "        }    #T_9f403ca4_4e61_11e9_ac0f_90324b3f723erow12_col3 {\n",
       "            background-color:  #d9e7ec;\n",
       "        }    #T_9f403ca4_4e61_11e9_ac0f_90324b3f723erow12_col4 {\n",
       "            background-color:  #a9c7d0;\n",
       "        }    #T_9f403ca4_4e61_11e9_ac0f_90324b3f723erow12_col5 {\n",
       "            background-color:  #82adba;\n",
       "        }    #T_9f403ca4_4e61_11e9_ac0f_90324b3f723erow12_col6 {\n",
       "            background-color:  #c1d7de;\n",
       "        }    #T_9f403ca4_4e61_11e9_ac0f_90324b3f723erow12_col7 {\n",
       "            background-color:  #6498a8;\n",
       "        }    #T_9f403ca4_4e61_11e9_ac0f_90324b3f723erow12_col8 {\n",
       "            background-color:  #b8d1d9;\n",
       "        }    #T_9f403ca4_4e61_11e9_ac0f_90324b3f723erow12_col9 {\n",
       "            background-color:  #6196a7;\n",
       "        }    #T_9f403ca4_4e61_11e9_ac0f_90324b3f723erow12_col10 {\n",
       "            background-color:  #6599a9;\n",
       "        }    #T_9f403ca4_4e61_11e9_ac0f_90324b3f723erow12_col11 {\n",
       "            background-color:  #6498a8;\n",
       "        }    #T_9f403ca4_4e61_11e9_ac0f_90324b3f723erow12_col12 {\n",
       "            background-color:  #c3553a;\n",
       "        }    #T_9f403ca4_4e61_11e9_ac0f_90324b3f723erow12_col13 {\n",
       "            background-color:  #88b1bd;\n",
       "        }    #T_9f403ca4_4e61_11e9_ac0f_90324b3f723erow12_col14 {\n",
       "            background-color:  #c9664d;\n",
       "        }    #T_9f403ca4_4e61_11e9_ac0f_90324b3f723erow12_col15 {\n",
       "            background-color:  #6397a7;\n",
       "        }    #T_9f403ca4_4e61_11e9_ac0f_90324b3f723erow12_col16 {\n",
       "            background-color:  #6397a7;\n",
       "        }    #T_9f403ca4_4e61_11e9_ac0f_90324b3f723erow12_col17 {\n",
       "            background-color:  #699bab;\n",
       "        }    #T_9f403ca4_4e61_11e9_ac0f_90324b3f723erow12_col18 {\n",
       "            background-color:  #72a1b0;\n",
       "        }    #T_9f403ca4_4e61_11e9_ac0f_90324b3f723erow12_col19 {\n",
       "            background-color:  #85aebb;\n",
       "        }    #T_9f403ca4_4e61_11e9_ac0f_90324b3f723erow12_col20 {\n",
       "            background-color:  #c5dae0;\n",
       "        }    #T_9f403ca4_4e61_11e9_ac0f_90324b3f723erow12_col21 {\n",
       "            background-color:  #bcd4db;\n",
       "        }    #T_9f403ca4_4e61_11e9_ac0f_90324b3f723erow12_col22 {\n",
       "            background-color:  #78a6b4;\n",
       "        }    #T_9f403ca4_4e61_11e9_ac0f_90324b3f723erow12_col23 {\n",
       "            background-color:  #cee0e6;\n",
       "        }    #T_9f403ca4_4e61_11e9_ac0f_90324b3f723erow12_col24 {\n",
       "            background-color:  #6196a7;\n",
       "        }    #T_9f403ca4_4e61_11e9_ac0f_90324b3f723erow13_col0 {\n",
       "            background-color:  #5a91a2;\n",
       "        }    #T_9f403ca4_4e61_11e9_ac0f_90324b3f723erow13_col1 {\n",
       "            background-color:  #8cb3bf;\n",
       "        }    #T_9f403ca4_4e61_11e9_ac0f_90324b3f723erow13_col2 {\n",
       "            background-color:  #d7e6eb;\n",
       "        }    #T_9f403ca4_4e61_11e9_ac0f_90324b3f723erow13_col3 {\n",
       "            background-color:  #eed0c8;\n",
       "        }    #T_9f403ca4_4e61_11e9_ac0f_90324b3f723erow13_col4 {\n",
       "            background-color:  #a4c4cd;\n",
       "        }    #T_9f403ca4_4e61_11e9_ac0f_90324b3f723erow13_col5 {\n",
       "            background-color:  #6fa0af;\n",
       "        }    #T_9f403ca4_4e61_11e9_ac0f_90324b3f723erow13_col6 {\n",
       "            background-color:  #edcdc4;\n",
       "        }    #T_9f403ca4_4e61_11e9_ac0f_90324b3f723erow13_col7 {\n",
       "            background-color:  #5b92a3;\n",
       "        }    #T_9f403ca4_4e61_11e9_ac0f_90324b3f723erow13_col8 {\n",
       "            background-color:  #95b9c5;\n",
       "        }    #T_9f403ca4_4e61_11e9_ac0f_90324b3f723erow13_col9 {\n",
       "            background-color:  #f2f2f2;\n",
       "        }    #T_9f403ca4_4e61_11e9_ac0f_90324b3f723erow13_col10 {\n",
       "            background-color:  #f5e3de;\n",
       "        }    #T_9f403ca4_4e61_11e9_ac0f_90324b3f723erow13_col11 {\n",
       "            background-color:  #f6e6e2;\n",
       "        }    #T_9f403ca4_4e61_11e9_ac0f_90324b3f723erow13_col12 {\n",
       "            background-color:  #4c889a;\n",
       "        }    #T_9f403ca4_4e61_11e9_ac0f_90324b3f723erow13_col13 {\n",
       "            background-color:  #c3553a;\n",
       "        }    #T_9f403ca4_4e61_11e9_ac0f_90324b3f723erow13_col14 {\n",
       "            background-color:  #5e94a5;\n",
       "        }    #T_9f403ca4_4e61_11e9_ac0f_90324b3f723erow13_col15 {\n",
       "            background-color:  #7fabb8;\n",
       "        }    #T_9f403ca4_4e61_11e9_ac0f_90324b3f723erow13_col16 {\n",
       "            background-color:  #89b2be;\n",
       "        }    #T_9f403ca4_4e61_11e9_ac0f_90324b3f723erow13_col17 {\n",
       "            background-color:  #8cb3bf;\n",
       "        }    #T_9f403ca4_4e61_11e9_ac0f_90324b3f723erow13_col18 {\n",
       "            background-color:  #b9d2d9;\n",
       "        }    #T_9f403ca4_4e61_11e9_ac0f_90324b3f723erow13_col19 {\n",
       "            background-color:  #dbe9ed;\n",
       "        }    #T_9f403ca4_4e61_11e9_ac0f_90324b3f723erow13_col20 {\n",
       "            background-color:  #d8917f;\n",
       "        }    #T_9f403ca4_4e61_11e9_ac0f_90324b3f723erow13_col21 {\n",
       "            background-color:  #94b9c4;\n",
       "        }    #T_9f403ca4_4e61_11e9_ac0f_90324b3f723erow13_col22 {\n",
       "            background-color:  #b9d2d9;\n",
       "        }    #T_9f403ca4_4e61_11e9_ac0f_90324b3f723erow13_col23 {\n",
       "            background-color:  #dda090;\n",
       "        }    #T_9f403ca4_4e61_11e9_ac0f_90324b3f723erow13_col24 {\n",
       "            background-color:  #85aebb;\n",
       "        }    #T_9f403ca4_4e61_11e9_ac0f_90324b3f723erow14_col0 {\n",
       "            background-color:  #95b9c5;\n",
       "        }    #T_9f403ca4_4e61_11e9_ac0f_90324b3f723erow14_col1 {\n",
       "            background-color:  #6fa0af;\n",
       "        }    #T_9f403ca4_4e61_11e9_ac0f_90324b3f723erow14_col2 {\n",
       "            background-color:  #bbd3da;\n",
       "        }    #T_9f403ca4_4e61_11e9_ac0f_90324b3f723erow14_col3 {\n",
       "            background-color:  #dbe9ed;\n",
       "        }    #T_9f403ca4_4e61_11e9_ac0f_90324b3f723erow14_col4 {\n",
       "            background-color:  #b0ccd4;\n",
       "        }    #T_9f403ca4_4e61_11e9_ac0f_90324b3f723erow14_col5 {\n",
       "            background-color:  #7ca8b6;\n",
       "        }    #T_9f403ca4_4e61_11e9_ac0f_90324b3f723erow14_col6 {\n",
       "            background-color:  #c2d8df;\n",
       "        }    #T_9f403ca4_4e61_11e9_ac0f_90324b3f723erow14_col7 {\n",
       "            background-color:  #6397a7;\n",
       "        }    #T_9f403ca4_4e61_11e9_ac0f_90324b3f723erow14_col8 {\n",
       "            background-color:  #b3ced6;\n",
       "        }    #T_9f403ca4_4e61_11e9_ac0f_90324b3f723erow14_col9 {\n",
       "            background-color:  #6498a8;\n",
       "        }    #T_9f403ca4_4e61_11e9_ac0f_90324b3f723erow14_col10 {\n",
       "            background-color:  #6a9cac;\n",
       "        }    #T_9f403ca4_4e61_11e9_ac0f_90324b3f723erow14_col11 {\n",
       "            background-color:  #699bab;\n",
       "        }    #T_9f403ca4_4e61_11e9_ac0f_90324b3f723erow14_col12 {\n",
       "            background-color:  #c9664d;\n",
       "        }    #T_9f403ca4_4e61_11e9_ac0f_90324b3f723erow14_col13 {\n",
       "            background-color:  #9abdc7;\n",
       "        }    #T_9f403ca4_4e61_11e9_ac0f_90324b3f723erow14_col14 {\n",
       "            background-color:  #c3553a;\n",
       "        }    #T_9f403ca4_4e61_11e9_ac0f_90324b3f723erow14_col15 {\n",
       "            background-color:  #6599a9;\n",
       "        }    #T_9f403ca4_4e61_11e9_ac0f_90324b3f723erow14_col16 {\n",
       "            background-color:  #6599a9;\n",
       "        }    #T_9f403ca4_4e61_11e9_ac0f_90324b3f723erow14_col17 {\n",
       "            background-color:  #6d9ead;\n",
       "        }    #T_9f403ca4_4e61_11e9_ac0f_90324b3f723erow14_col18 {\n",
       "            background-color:  #74a3b2;\n",
       "        }    #T_9f403ca4_4e61_11e9_ac0f_90324b3f723erow14_col19 {\n",
       "            background-color:  #89b2be;\n",
       "        }    #T_9f403ca4_4e61_11e9_ac0f_90324b3f723erow14_col20 {\n",
       "            background-color:  #cbdee4;\n",
       "        }    #T_9f403ca4_4e61_11e9_ac0f_90324b3f723erow14_col21 {\n",
       "            background-color:  #bbd3da;\n",
       "        }    #T_9f403ca4_4e61_11e9_ac0f_90324b3f723erow14_col22 {\n",
       "            background-color:  #7ca8b6;\n",
       "        }    #T_9f403ca4_4e61_11e9_ac0f_90324b3f723erow14_col23 {\n",
       "            background-color:  #d3e3e8;\n",
       "        }    #T_9f403ca4_4e61_11e9_ac0f_90324b3f723erow14_col24 {\n",
       "            background-color:  #6599a9;\n",
       "        }    #T_9f403ca4_4e61_11e9_ac0f_90324b3f723erow15_col0 {\n",
       "            background-color:  #92b8c3;\n",
       "        }    #T_9f403ca4_4e61_11e9_ac0f_90324b3f723erow15_col1 {\n",
       "            background-color:  #448396;\n",
       "        }    #T_9f403ca4_4e61_11e9_ac0f_90324b3f723erow15_col2 {\n",
       "            background-color:  #9dbfc9;\n",
       "        }    #T_9f403ca4_4e61_11e9_ac0f_90324b3f723erow15_col3 {\n",
       "            background-color:  #c7dbe1;\n",
       "        }    #T_9f403ca4_4e61_11e9_ac0f_90324b3f723erow15_col4 {\n",
       "            background-color:  #7da9b7;\n",
       "        }    #T_9f403ca4_4e61_11e9_ac0f_90324b3f723erow15_col5 {\n",
       "            background-color:  #558ea0;\n",
       "        }    #T_9f403ca4_4e61_11e9_ac0f_90324b3f723erow15_col6 {\n",
       "            background-color:  #7fabb8;\n",
       "        }    #T_9f403ca4_4e61_11e9_ac0f_90324b3f723erow15_col7 {\n",
       "            background-color:  #5a91a2;\n",
       "        }    #T_9f403ca4_4e61_11e9_ac0f_90324b3f723erow15_col8 {\n",
       "            background-color:  #7fabb8;\n",
       "        }    #T_9f403ca4_4e61_11e9_ac0f_90324b3f723erow15_col9 {\n",
       "            background-color:  #9abdc7;\n",
       "        }    #T_9f403ca4_4e61_11e9_ac0f_90324b3f723erow15_col10 {\n",
       "            background-color:  #a5c5ce;\n",
       "        }    #T_9f403ca4_4e61_11e9_ac0f_90324b3f723erow15_col11 {\n",
       "            background-color:  #a4c4cd;\n",
       "        }    #T_9f403ca4_4e61_11e9_ac0f_90324b3f723erow15_col12 {\n",
       "            background-color:  #6095a6;\n",
       "        }    #T_9f403ca4_4e61_11e9_ac0f_90324b3f723erow15_col13 {\n",
       "            background-color:  #b0ccd4;\n",
       "        }    #T_9f403ca4_4e61_11e9_ac0f_90324b3f723erow15_col14 {\n",
       "            background-color:  #6196a7;\n",
       "        }    #T_9f403ca4_4e61_11e9_ac0f_90324b3f723erow15_col15 {\n",
       "            background-color:  #c3553a;\n",
       "        }    #T_9f403ca4_4e61_11e9_ac0f_90324b3f723erow15_col16 {\n",
       "            background-color:  #70a1af;\n",
       "        }    #T_9f403ca4_4e61_11e9_ac0f_90324b3f723erow15_col17 {\n",
       "            background-color:  #cb6e56;\n",
       "        }    #T_9f403ca4_4e61_11e9_ac0f_90324b3f723erow15_col18 {\n",
       "            background-color:  #7ca8b6;\n",
       "        }    #T_9f403ca4_4e61_11e9_ac0f_90324b3f723erow15_col19 {\n",
       "            background-color:  #88b1bd;\n",
       "        }    #T_9f403ca4_4e61_11e9_ac0f_90324b3f723erow15_col20 {\n",
       "            background-color:  #d9e7ec;\n",
       "        }    #T_9f403ca4_4e61_11e9_ac0f_90324b3f723erow15_col21 {\n",
       "            background-color:  #98bcc7;\n",
       "        }    #T_9f403ca4_4e61_11e9_ac0f_90324b3f723erow15_col22 {\n",
       "            background-color:  #e7bcb1;\n",
       "        }    #T_9f403ca4_4e61_11e9_ac0f_90324b3f723erow15_col23 {\n",
       "            background-color:  #f6e5e1;\n",
       "        }    #T_9f403ca4_4e61_11e9_ac0f_90324b3f723erow15_col24 {\n",
       "            background-color:  #679baa;\n",
       "        }    #T_9f403ca4_4e61_11e9_ac0f_90324b3f723erow16_col0 {\n",
       "            background-color:  #98bcc7;\n",
       "        }    #T_9f403ca4_4e61_11e9_ac0f_90324b3f723erow16_col1 {\n",
       "            background-color:  #679baa;\n",
       "        }    #T_9f403ca4_4e61_11e9_ac0f_90324b3f723erow16_col2 {\n",
       "            background-color:  #9bbec8;\n",
       "        }    #T_9f403ca4_4e61_11e9_ac0f_90324b3f723erow16_col3 {\n",
       "            background-color:  #c8dce2;\n",
       "        }    #T_9f403ca4_4e61_11e9_ac0f_90324b3f723erow16_col4 {\n",
       "            background-color:  #79a7b4;\n",
       "        }    #T_9f403ca4_4e61_11e9_ac0f_90324b3f723erow16_col5 {\n",
       "            background-color:  #6397a7;\n",
       "        }    #T_9f403ca4_4e61_11e9_ac0f_90324b3f723erow16_col6 {\n",
       "            background-color:  #9fc0ca;\n",
       "        }    #T_9f403ca4_4e61_11e9_ac0f_90324b3f723erow16_col7 {\n",
       "            background-color:  #5e94a5;\n",
       "        }    #T_9f403ca4_4e61_11e9_ac0f_90324b3f723erow16_col8 {\n",
       "            background-color:  #85aebb;\n",
       "        }    #T_9f403ca4_4e61_11e9_ac0f_90324b3f723erow16_col9 {\n",
       "            background-color:  #7ca8b6;\n",
       "        }    #T_9f403ca4_4e61_11e9_ac0f_90324b3f723erow16_col10 {\n",
       "            background-color:  #81acb9;\n",
       "        }    #T_9f403ca4_4e61_11e9_ac0f_90324b3f723erow16_col11 {\n",
       "            background-color:  #7fabb8;\n",
       "        }    #T_9f403ca4_4e61_11e9_ac0f_90324b3f723erow16_col12 {\n",
       "            background-color:  #679baa;\n",
       "        }    #T_9f403ca4_4e61_11e9_ac0f_90324b3f723erow16_col13 {\n",
       "            background-color:  #bfd6dd;\n",
       "        }    #T_9f403ca4_4e61_11e9_ac0f_90324b3f723erow16_col14 {\n",
       "            background-color:  #699bab;\n",
       "        }    #T_9f403ca4_4e61_11e9_ac0f_90324b3f723erow16_col15 {\n",
       "            background-color:  #78a6b4;\n",
       "        }    #T_9f403ca4_4e61_11e9_ac0f_90324b3f723erow16_col16 {\n",
       "            background-color:  #c3553a;\n",
       "        }    #T_9f403ca4_4e61_11e9_ac0f_90324b3f723erow16_col17 {\n",
       "            background-color:  #f2f2f2;\n",
       "        }    #T_9f403ca4_4e61_11e9_ac0f_90324b3f723erow16_col18 {\n",
       "            background-color:  #8bb3bf;\n",
       "        }    #T_9f403ca4_4e61_11e9_ac0f_90324b3f723erow16_col19 {\n",
       "            background-color:  #9bbec8;\n",
       "        }    #T_9f403ca4_4e61_11e9_ac0f_90324b3f723erow16_col20 {\n",
       "            background-color:  #ccdfe4;\n",
       "        }    #T_9f403ca4_4e61_11e9_ac0f_90324b3f723erow16_col21 {\n",
       "            background-color:  #a1c2cc;\n",
       "        }    #T_9f403ca4_4e61_11e9_ac0f_90324b3f723erow16_col22 {\n",
       "            background-color:  #e2edf1;\n",
       "        }    #T_9f403ca4_4e61_11e9_ac0f_90324b3f723erow16_col23 {\n",
       "            background-color:  #dae8ec;\n",
       "        }    #T_9f403ca4_4e61_11e9_ac0f_90324b3f723erow16_col24 {\n",
       "            background-color:  #c45a3f;\n",
       "        }    #T_9f403ca4_4e61_11e9_ac0f_90324b3f723erow17_col0 {\n",
       "            background-color:  #8cb3bf;\n",
       "        }    #T_9f403ca4_4e61_11e9_ac0f_90324b3f723erow17_col1 {\n",
       "            background-color:  #488598;\n",
       "        }    #T_9f403ca4_4e61_11e9_ac0f_90324b3f723erow17_col2 {\n",
       "            background-color:  #9fc0ca;\n",
       "        }    #T_9f403ca4_4e61_11e9_ac0f_90324b3f723erow17_col3 {\n",
       "            background-color:  #cadde3;\n",
       "        }    #T_9f403ca4_4e61_11e9_ac0f_90324b3f723erow17_col4 {\n",
       "            background-color:  #7da9b7;\n",
       "        }    #T_9f403ca4_4e61_11e9_ac0f_90324b3f723erow17_col5 {\n",
       "            background-color:  #558ea0;\n",
       "        }    #T_9f403ca4_4e61_11e9_ac0f_90324b3f723erow17_col6 {\n",
       "            background-color:  #85aebb;\n",
       "        }    #T_9f403ca4_4e61_11e9_ac0f_90324b3f723erow17_col7 {\n",
       "            background-color:  #5a91a2;\n",
       "        }    #T_9f403ca4_4e61_11e9_ac0f_90324b3f723erow17_col8 {\n",
       "            background-color:  #82adba;\n",
       "        }    #T_9f403ca4_4e61_11e9_ac0f_90324b3f723erow17_col9 {\n",
       "            background-color:  #9dbfc9;\n",
       "        }    #T_9f403ca4_4e61_11e9_ac0f_90324b3f723erow17_col10 {\n",
       "            background-color:  #a9c7d0;\n",
       "        }    #T_9f403ca4_4e61_11e9_ac0f_90324b3f723erow17_col11 {\n",
       "            background-color:  #a8c6cf;\n",
       "        }    #T_9f403ca4_4e61_11e9_ac0f_90324b3f723erow17_col12 {\n",
       "            background-color:  #6095a6;\n",
       "        }    #T_9f403ca4_4e61_11e9_ac0f_90324b3f723erow17_col13 {\n",
       "            background-color:  #b8d1d9;\n",
       "        }    #T_9f403ca4_4e61_11e9_ac0f_90324b3f723erow17_col14 {\n",
       "            background-color:  #6196a7;\n",
       "        }    #T_9f403ca4_4e61_11e9_ac0f_90324b3f723erow17_col15 {\n",
       "            background-color:  #cc6f58;\n",
       "        }    #T_9f403ca4_4e61_11e9_ac0f_90324b3f723erow17_col16 {\n",
       "            background-color:  #ecf4f7;\n",
       "        }    #T_9f403ca4_4e61_11e9_ac0f_90324b3f723erow17_col17 {\n",
       "            background-color:  #c3553a;\n",
       "        }    #T_9f403ca4_4e61_11e9_ac0f_90324b3f723erow17_col18 {\n",
       "            background-color:  #8bb3bf;\n",
       "        }    #T_9f403ca4_4e61_11e9_ac0f_90324b3f723erow17_col19 {\n",
       "            background-color:  #95b9c5;\n",
       "        }    #T_9f403ca4_4e61_11e9_ac0f_90324b3f723erow17_col20 {\n",
       "            background-color:  #e0ecf0;\n",
       "        }    #T_9f403ca4_4e61_11e9_ac0f_90324b3f723erow17_col21 {\n",
       "            background-color:  #a1c2cc;\n",
       "        }    #T_9f403ca4_4e61_11e9_ac0f_90324b3f723erow17_col22 {\n",
       "            background-color:  #dfa495;\n",
       "        }    #T_9f403ca4_4e61_11e9_ac0f_90324b3f723erow17_col23 {\n",
       "            background-color:  #f5e3de;\n",
       "        }    #T_9f403ca4_4e61_11e9_ac0f_90324b3f723erow17_col24 {\n",
       "            background-color:  #ddeaee;\n",
       "        }    #T_9f403ca4_4e61_11e9_ac0f_90324b3f723erow18_col0 {\n",
       "            background-color:  #91b7c2;\n",
       "        }    #T_9f403ca4_4e61_11e9_ac0f_90324b3f723erow18_col1 {\n",
       "            background-color:  #4c889a;\n",
       "        }    #T_9f403ca4_4e61_11e9_ac0f_90324b3f723erow18_col2 {\n",
       "            background-color:  #a9c7d0;\n",
       "        }    #T_9f403ca4_4e61_11e9_ac0f_90324b3f723erow18_col3 {\n",
       "            background-color:  #dfebef;\n",
       "        }    #T_9f403ca4_4e61_11e9_ac0f_90324b3f723erow18_col4 {\n",
       "            background-color:  #8bb3bf;\n",
       "        }    #T_9f403ca4_4e61_11e9_ac0f_90324b3f723erow18_col5 {\n",
       "            background-color:  #7da9b7;\n",
       "        }    #T_9f403ca4_4e61_11e9_ac0f_90324b3f723erow18_col6 {\n",
       "            background-color:  #bfd6dd;\n",
       "        }    #T_9f403ca4_4e61_11e9_ac0f_90324b3f723erow18_col7 {\n",
       "            background-color:  #6498a8;\n",
       "        }    #T_9f403ca4_4e61_11e9_ac0f_90324b3f723erow18_col8 {\n",
       "            background-color:  #8bb3bf;\n",
       "        }    #T_9f403ca4_4e61_11e9_ac0f_90324b3f723erow18_col9 {\n",
       "            background-color:  #b3ced6;\n",
       "        }    #T_9f403ca4_4e61_11e9_ac0f_90324b3f723erow18_col10 {\n",
       "            background-color:  #bfd6dd;\n",
       "        }    #T_9f403ca4_4e61_11e9_ac0f_90324b3f723erow18_col11 {\n",
       "            background-color:  #bcd4db;\n",
       "        }    #T_9f403ca4_4e61_11e9_ac0f_90324b3f723erow18_col12 {\n",
       "            background-color:  #6d9ead;\n",
       "        }    #T_9f403ca4_4e61_11e9_ac0f_90324b3f723erow18_col13 {\n",
       "            background-color:  #e2edf1;\n",
       "        }    #T_9f403ca4_4e61_11e9_ac0f_90324b3f723erow18_col14 {\n",
       "            background-color:  #6fa0af;\n",
       "        }    #T_9f403ca4_4e61_11e9_ac0f_90324b3f723erow18_col15 {\n",
       "            background-color:  #7ca8b6;\n",
       "        }    #T_9f403ca4_4e61_11e9_ac0f_90324b3f723erow18_col16 {\n",
       "            background-color:  #82adba;\n",
       "        }    #T_9f403ca4_4e61_11e9_ac0f_90324b3f723erow18_col17 {\n",
       "            background-color:  #90b6c1;\n",
       "        }    #T_9f403ca4_4e61_11e9_ac0f_90324b3f723erow18_col18 {\n",
       "            background-color:  #c3553a;\n",
       "        }    #T_9f403ca4_4e61_11e9_ac0f_90324b3f723erow18_col19 {\n",
       "            background-color:  #d17e68;\n",
       "        }    #T_9f403ca4_4e61_11e9_ac0f_90324b3f723erow18_col20 {\n",
       "            background-color:  #f2f2f2;\n",
       "        }    #T_9f403ca4_4e61_11e9_ac0f_90324b3f723erow18_col21 {\n",
       "            background-color:  #95b9c5;\n",
       "        }    #T_9f403ca4_4e61_11e9_ac0f_90324b3f723erow18_col22 {\n",
       "            background-color:  #dc9c8c;\n",
       "        }    #T_9f403ca4_4e61_11e9_ac0f_90324b3f723erow18_col23 {\n",
       "            background-color:  #ecf4f7;\n",
       "        }    #T_9f403ca4_4e61_11e9_ac0f_90324b3f723erow18_col24 {\n",
       "            background-color:  #70a1af;\n",
       "        }    #T_9f403ca4_4e61_11e9_ac0f_90324b3f723erow19_col0 {\n",
       "            background-color:  #8bb3bf;\n",
       "        }    #T_9f403ca4_4e61_11e9_ac0f_90324b3f723erow19_col1 {\n",
       "            background-color:  #578fa1;\n",
       "        }    #T_9f403ca4_4e61_11e9_ac0f_90324b3f723erow19_col2 {\n",
       "            background-color:  #b2cdd5;\n",
       "        }    #T_9f403ca4_4e61_11e9_ac0f_90324b3f723erow19_col3 {\n",
       "            background-color:  #f2f2f2;\n",
       "        }    #T_9f403ca4_4e61_11e9_ac0f_90324b3f723erow19_col4 {\n",
       "            background-color:  #89b2be;\n",
       "        }    #T_9f403ca4_4e61_11e9_ac0f_90324b3f723erow19_col5 {\n",
       "            background-color:  #6b9dad;\n",
       "        }    #T_9f403ca4_4e61_11e9_ac0f_90324b3f723erow19_col6 {\n",
       "            background-color:  #e2edf1;\n",
       "        }    #T_9f403ca4_4e61_11e9_ac0f_90324b3f723erow19_col7 {\n",
       "            background-color:  #6095a6;\n",
       "        }    #T_9f403ca4_4e61_11e9_ac0f_90324b3f723erow19_col8 {\n",
       "            background-color:  #88b1bd;\n",
       "        }    #T_9f403ca4_4e61_11e9_ac0f_90324b3f723erow19_col9 {\n",
       "            background-color:  #b4cfd7;\n",
       "        }    #T_9f403ca4_4e61_11e9_ac0f_90324b3f723erow19_col10 {\n",
       "            background-color:  #c7dbe1;\n",
       "        }    #T_9f403ca4_4e61_11e9_ac0f_90324b3f723erow19_col11 {\n",
       "            background-color:  #c2d8df;\n",
       "        }    #T_9f403ca4_4e61_11e9_ac0f_90324b3f723erow19_col12 {\n",
       "            background-color:  #7ca8b6;\n",
       "        }    #T_9f403ca4_4e61_11e9_ac0f_90324b3f723erow19_col13 {\n",
       "            background-color:  #f2f2f2;\n",
       "        }    #T_9f403ca4_4e61_11e9_ac0f_90324b3f723erow19_col14 {\n",
       "            background-color:  #7da9b7;\n",
       "        }    #T_9f403ca4_4e61_11e9_ac0f_90324b3f723erow19_col15 {\n",
       "            background-color:  #81acb9;\n",
       "        }    #T_9f403ca4_4e61_11e9_ac0f_90324b3f723erow19_col16 {\n",
       "            background-color:  #8eb4c0;\n",
       "        }    #T_9f403ca4_4e61_11e9_ac0f_90324b3f723erow19_col17 {\n",
       "            background-color:  #94b9c4;\n",
       "        }    #T_9f403ca4_4e61_11e9_ac0f_90324b3f723erow19_col18 {\n",
       "            background-color:  #d27f6a;\n",
       "        }    #T_9f403ca4_4e61_11e9_ac0f_90324b3f723erow19_col19 {\n",
       "            background-color:  #c3553a;\n",
       "        }    #T_9f403ca4_4e61_11e9_ac0f_90324b3f723erow19_col20 {\n",
       "            background-color:  #f5e2dd;\n",
       "        }    #T_9f403ca4_4e61_11e9_ac0f_90324b3f723erow19_col21 {\n",
       "            background-color:  #90b6c1;\n",
       "        }    #T_9f403ca4_4e61_11e9_ac0f_90324b3f723erow19_col22 {\n",
       "            background-color:  #e7bcb1;\n",
       "        }    #T_9f403ca4_4e61_11e9_ac0f_90324b3f723erow19_col23 {\n",
       "            background-color:  #f2f2f2;\n",
       "        }    #T_9f403ca4_4e61_11e9_ac0f_90324b3f723erow19_col24 {\n",
       "            background-color:  #7fabb8;\n",
       "        }    #T_9f403ca4_4e61_11e9_ac0f_90324b3f723erow20_col0 {\n",
       "            background-color:  #558ea0;\n",
       "        }    #T_9f403ca4_4e61_11e9_ac0f_90324b3f723erow20_col1 {\n",
       "            background-color:  #87b0bc;\n",
       "        }    #T_9f403ca4_4e61_11e9_ac0f_90324b3f723erow20_col2 {\n",
       "            background-color:  #f2f2f2;\n",
       "        }    #T_9f403ca4_4e61_11e9_ac0f_90324b3f723erow20_col3 {\n",
       "            background-color:  #da9887;\n",
       "        }    #T_9f403ca4_4e61_11e9_ac0f_90324b3f723erow20_col4 {\n",
       "            background-color:  #cadde3;\n",
       "        }    #T_9f403ca4_4e61_11e9_ac0f_90324b3f723erow20_col5 {\n",
       "            background-color:  #b4cfd7;\n",
       "        }    #T_9f403ca4_4e61_11e9_ac0f_90324b3f723erow20_col6 {\n",
       "            background-color:  #cc7059;\n",
       "        }    #T_9f403ca4_4e61_11e9_ac0f_90324b3f723erow20_col7 {\n",
       "            background-color:  #9bbec8;\n",
       "        }    #T_9f403ca4_4e61_11e9_ac0f_90324b3f723erow20_col8 {\n",
       "            background-color:  #dbe9ed;\n",
       "        }    #T_9f403ca4_4e61_11e9_ac0f_90324b3f723erow20_col9 {\n",
       "            background-color:  #f6e5e1;\n",
       "        }    #T_9f403ca4_4e61_11e9_ac0f_90324b3f723erow20_col10 {\n",
       "            background-color:  #efd1ca;\n",
       "        }    #T_9f403ca4_4e61_11e9_ac0f_90324b3f723erow20_col11 {\n",
       "            background-color:  #f0d6cf;\n",
       "        }    #T_9f403ca4_4e61_11e9_ac0f_90324b3f723erow20_col12 {\n",
       "            background-color:  #91b7c2;\n",
       "        }    #T_9f403ca4_4e61_11e9_ac0f_90324b3f723erow20_col13 {\n",
       "            background-color:  #d89281;\n",
       "        }    #T_9f403ca4_4e61_11e9_ac0f_90324b3f723erow20_col14 {\n",
       "            background-color:  #95b9c5;\n",
       "        }    #T_9f403ca4_4e61_11e9_ac0f_90324b3f723erow20_col15 {\n",
       "            background-color:  #acc9d2;\n",
       "        }    #T_9f403ca4_4e61_11e9_ac0f_90324b3f723erow20_col16 {\n",
       "            background-color:  #97bbc6;\n",
       "        }    #T_9f403ca4_4e61_11e9_ac0f_90324b3f723erow20_col17 {\n",
       "            background-color:  #b9d2d9;\n",
       "        }    #T_9f403ca4_4e61_11e9_ac0f_90324b3f723erow20_col18 {\n",
       "            background-color:  #d4e4e9;\n",
       "        }    #T_9f403ca4_4e61_11e9_ac0f_90324b3f723erow20_col19 {\n",
       "            background-color:  #f2f2f2;\n",
       "        }    #T_9f403ca4_4e61_11e9_ac0f_90324b3f723erow20_col20 {\n",
       "            background-color:  #c3553a;\n",
       "        }    #T_9f403ca4_4e61_11e9_ac0f_90324b3f723erow20_col21 {\n",
       "            background-color:  #cadde3;\n",
       "        }    #T_9f403ca4_4e61_11e9_ac0f_90324b3f723erow20_col22 {\n",
       "            background-color:  #e6f0f3;\n",
       "        }    #T_9f403ca4_4e61_11e9_ac0f_90324b3f723erow20_col23 {\n",
       "            background-color:  #d58875;\n",
       "        }    #T_9f403ca4_4e61_11e9_ac0f_90324b3f723erow20_col24 {\n",
       "            background-color:  #92b8c3;\n",
       "        }    #T_9f403ca4_4e61_11e9_ac0f_90324b3f723erow21_col0 {\n",
       "            background-color:  #7da9b7;\n",
       "        }    #T_9f403ca4_4e61_11e9_ac0f_90324b3f723erow21_col1 {\n",
       "            background-color:  #78a6b4;\n",
       "        }    #T_9f403ca4_4e61_11e9_ac0f_90324b3f723erow21_col2 {\n",
       "            background-color:  #ecf4f7;\n",
       "        }    #T_9f403ca4_4e61_11e9_ac0f_90324b3f723erow21_col3 {\n",
       "            background-color:  #f5e3de;\n",
       "        }    #T_9f403ca4_4e61_11e9_ac0f_90324b3f723erow21_col4 {\n",
       "            background-color:  #ccdfe4;\n",
       "        }    #T_9f403ca4_4e61_11e9_ac0f_90324b3f723erow21_col5 {\n",
       "            background-color:  #cadde3;\n",
       "        }    #T_9f403ca4_4e61_11e9_ac0f_90324b3f723erow21_col6 {\n",
       "            background-color:  #cbdee4;\n",
       "        }    #T_9f403ca4_4e61_11e9_ac0f_90324b3f723erow21_col7 {\n",
       "            background-color:  #b8d1d9;\n",
       "        }    #T_9f403ca4_4e61_11e9_ac0f_90324b3f723erow21_col8 {\n",
       "            background-color:  #f6e6e2;\n",
       "        }    #T_9f403ca4_4e61_11e9_ac0f_90324b3f723erow21_col9 {\n",
       "            background-color:  #6095a6;\n",
       "        }    #T_9f403ca4_4e61_11e9_ac0f_90324b3f723erow21_col10 {\n",
       "            background-color:  #6397a7;\n",
       "        }    #T_9f403ca4_4e61_11e9_ac0f_90324b3f723erow21_col11 {\n",
       "            background-color:  #6397a7;\n",
       "        }    #T_9f403ca4_4e61_11e9_ac0f_90324b3f723erow21_col12 {\n",
       "            background-color:  #a9c7d0;\n",
       "        }    #T_9f403ca4_4e61_11e9_ac0f_90324b3f723erow21_col13 {\n",
       "            background-color:  #b2cdd5;\n",
       "        }    #T_9f403ca4_4e61_11e9_ac0f_90324b3f723erow21_col14 {\n",
       "            background-color:  #a5c5ce;\n",
       "        }    #T_9f403ca4_4e61_11e9_ac0f_90324b3f723erow21_col15 {\n",
       "            background-color:  #85aebb;\n",
       "        }    #T_9f403ca4_4e61_11e9_ac0f_90324b3f723erow21_col16 {\n",
       "            background-color:  #88b1bd;\n",
       "        }    #T_9f403ca4_4e61_11e9_ac0f_90324b3f723erow21_col17 {\n",
       "            background-color:  #94b9c4;\n",
       "        }    #T_9f403ca4_4e61_11e9_ac0f_90324b3f723erow21_col18 {\n",
       "            background-color:  #83adba;\n",
       "        }    #T_9f403ca4_4e61_11e9_ac0f_90324b3f723erow21_col19 {\n",
       "            background-color:  #83adba;\n",
       "        }    #T_9f403ca4_4e61_11e9_ac0f_90324b3f723erow21_col20 {\n",
       "            background-color:  #e4eff2;\n",
       "        }    #T_9f403ca4_4e61_11e9_ac0f_90324b3f723erow21_col21 {\n",
       "            background-color:  #c3553a;\n",
       "        }    #T_9f403ca4_4e61_11e9_ac0f_90324b3f723erow21_col22 {\n",
       "            background-color:  #9fc0ca;\n",
       "        }    #T_9f403ca4_4e61_11e9_ac0f_90324b3f723erow21_col23 {\n",
       "            background-color:  #f3dcd6;\n",
       "        }    #T_9f403ca4_4e61_11e9_ac0f_90324b3f723erow21_col24 {\n",
       "            background-color:  #88b1bd;\n",
       "        }    #T_9f403ca4_4e61_11e9_ac0f_90324b3f723erow22_col0 {\n",
       "            background-color:  #85aebb;\n",
       "        }    #T_9f403ca4_4e61_11e9_ac0f_90324b3f723erow22_col1 {\n",
       "            background-color:  #3f7f93;\n",
       "        }    #T_9f403ca4_4e61_11e9_ac0f_90324b3f723erow22_col2 {\n",
       "            background-color:  #a9c7d0;\n",
       "        }    #T_9f403ca4_4e61_11e9_ac0f_90324b3f723erow22_col3 {\n",
       "            background-color:  #ddeaee;\n",
       "        }    #T_9f403ca4_4e61_11e9_ac0f_90324b3f723erow22_col4 {\n",
       "            background-color:  #88b1bd;\n",
       "        }    #T_9f403ca4_4e61_11e9_ac0f_90324b3f723erow22_col5 {\n",
       "            background-color:  #72a1b0;\n",
       "        }    #T_9f403ca4_4e61_11e9_ac0f_90324b3f723erow22_col6 {\n",
       "            background-color:  #a9c7d0;\n",
       "        }    #T_9f403ca4_4e61_11e9_ac0f_90324b3f723erow22_col7 {\n",
       "            background-color:  #6498a8;\n",
       "        }    #T_9f403ca4_4e61_11e9_ac0f_90324b3f723erow22_col8 {\n",
       "            background-color:  #8bb3bf;\n",
       "        }    #T_9f403ca4_4e61_11e9_ac0f_90324b3f723erow22_col9 {\n",
       "            background-color:  #bcd4db;\n",
       "        }    #T_9f403ca4_4e61_11e9_ac0f_90324b3f723erow22_col10 {\n",
       "            background-color:  #c8dce2;\n",
       "        }    #T_9f403ca4_4e61_11e9_ac0f_90324b3f723erow22_col11 {\n",
       "            background-color:  #c7dbe1;\n",
       "        }    #T_9f403ca4_4e61_11e9_ac0f_90324b3f723erow22_col12 {\n",
       "            background-color:  #699bab;\n",
       "        }    #T_9f403ca4_4e61_11e9_ac0f_90324b3f723erow22_col13 {\n",
       "            background-color:  #d9e7ec;\n",
       "        }    #T_9f403ca4_4e61_11e9_ac0f_90324b3f723erow22_col14 {\n",
       "            background-color:  #6a9cac;\n",
       "        }    #T_9f403ca4_4e61_11e9_ac0f_90324b3f723erow22_col15 {\n",
       "            background-color:  #e9c1b6;\n",
       "        }    #T_9f403ca4_4e61_11e9_ac0f_90324b3f723erow22_col16 {\n",
       "            background-color:  #d3e3e8;\n",
       "        }    #T_9f403ca4_4e61_11e9_ac0f_90324b3f723erow22_col17 {\n",
       "            background-color:  #dfa596;\n",
       "        }    #T_9f403ca4_4e61_11e9_ac0f_90324b3f723erow22_col18 {\n",
       "            background-color:  #dd9e8f;\n",
       "        }    #T_9f403ca4_4e61_11e9_ac0f_90324b3f723erow22_col19 {\n",
       "            background-color:  #e8beb4;\n",
       "        }    #T_9f403ca4_4e61_11e9_ac0f_90324b3f723erow22_col20 {\n",
       "            background-color:  #f2f2f2;\n",
       "        }    #T_9f403ca4_4e61_11e9_ac0f_90324b3f723erow22_col21 {\n",
       "            background-color:  #a5c5ce;\n",
       "        }    #T_9f403ca4_4e61_11e9_ac0f_90324b3f723erow22_col22 {\n",
       "            background-color:  #c3553a;\n",
       "        }    #T_9f403ca4_4e61_11e9_ac0f_90324b3f723erow22_col23 {\n",
       "            background-color:  #f5e2dd;\n",
       "        }    #T_9f403ca4_4e61_11e9_ac0f_90324b3f723erow22_col24 {\n",
       "            background-color:  #bdd5dc;\n",
       "        }    #T_9f403ca4_4e61_11e9_ac0f_90324b3f723erow23_col0 {\n",
       "            background-color:  #448396;\n",
       "        }    #T_9f403ca4_4e61_11e9_ac0f_90324b3f723erow23_col1 {\n",
       "            background-color:  #7da9b7;\n",
       "        }    #T_9f403ca4_4e61_11e9_ac0f_90324b3f723erow23_col2 {\n",
       "            background-color:  #f2f2f2;\n",
       "        }    #T_9f403ca4_4e61_11e9_ac0f_90324b3f723erow23_col3 {\n",
       "            background-color:  #e3afa2;\n",
       "        }    #T_9f403ca4_4e61_11e9_ac0f_90324b3f723erow23_col4 {\n",
       "            background-color:  #b8d1d9;\n",
       "        }    #T_9f403ca4_4e61_11e9_ac0f_90324b3f723erow23_col5 {\n",
       "            background-color:  #8eb4c0;\n",
       "        }    #T_9f403ca4_4e61_11e9_ac0f_90324b3f723erow23_col6 {\n",
       "            background-color:  #e7baaf;\n",
       "        }    #T_9f403ca4_4e61_11e9_ac0f_90324b3f723erow23_col7 {\n",
       "            background-color:  #7ca8b6;\n",
       "        }    #T_9f403ca4_4e61_11e9_ac0f_90324b3f723erow23_col8 {\n",
       "            background-color:  #c7dbe1;\n",
       "        }    #T_9f403ca4_4e61_11e9_ac0f_90324b3f723erow23_col9 {\n",
       "            background-color:  #d5e5ea;\n",
       "        }    #T_9f403ca4_4e61_11e9_ac0f_90324b3f723erow23_col10 {\n",
       "            background-color:  #e9f2f5;\n",
       "        }    #T_9f403ca4_4e61_11e9_ac0f_90324b3f723erow23_col11 {\n",
       "            background-color:  #e4eff2;\n",
       "        }    #T_9f403ca4_4e61_11e9_ac0f_90324b3f723erow23_col12 {\n",
       "            background-color:  #90b6c1;\n",
       "        }    #T_9f403ca4_4e61_11e9_ac0f_90324b3f723erow23_col13 {\n",
       "            background-color:  #dfa495;\n",
       "        }    #T_9f403ca4_4e61_11e9_ac0f_90324b3f723erow23_col14 {\n",
       "            background-color:  #92b8c3;\n",
       "        }    #T_9f403ca4_4e61_11e9_ac0f_90324b3f723erow23_col15 {\n",
       "            background-color:  #edf5f7;\n",
       "        }    #T_9f403ca4_4e61_11e9_ac0f_90324b3f723erow23_col16 {\n",
       "            background-color:  #9abdc7;\n",
       "        }    #T_9f403ca4_4e61_11e9_ac0f_90324b3f723erow23_col17 {\n",
       "            background-color:  #f2f2f2;\n",
       "        }    #T_9f403ca4_4e61_11e9_ac0f_90324b3f723erow23_col18 {\n",
       "            background-color:  #b7d0d8;\n",
       "        }    #T_9f403ca4_4e61_11e9_ac0f_90324b3f723erow23_col19 {\n",
       "            background-color:  #d0e1e6;\n",
       "        }    #T_9f403ca4_4e61_11e9_ac0f_90324b3f723erow23_col20 {\n",
       "            background-color:  #d68b78;\n",
       "        }    #T_9f403ca4_4e61_11e9_ac0f_90324b3f723erow23_col21 {\n",
       "            background-color:  #f2f2f2;\n",
       "        }    #T_9f403ca4_4e61_11e9_ac0f_90324b3f723erow23_col22 {\n",
       "            background-color:  #f2f2f2;\n",
       "        }    #T_9f403ca4_4e61_11e9_ac0f_90324b3f723erow23_col23 {\n",
       "            background-color:  #c3553a;\n",
       "        }    #T_9f403ca4_4e61_11e9_ac0f_90324b3f723erow23_col24 {\n",
       "            background-color:  #97bbc6;\n",
       "        }    #T_9f403ca4_4e61_11e9_ac0f_90324b3f723erow24_col0 {\n",
       "            background-color:  #9abdc7;\n",
       "        }    #T_9f403ca4_4e61_11e9_ac0f_90324b3f723erow24_col1 {\n",
       "            background-color:  #6a9cac;\n",
       "        }    #T_9f403ca4_4e61_11e9_ac0f_90324b3f723erow24_col2 {\n",
       "            background-color:  #98bcc7;\n",
       "        }    #T_9f403ca4_4e61_11e9_ac0f_90324b3f723erow24_col3 {\n",
       "            background-color:  #c8dce2;\n",
       "        }    #T_9f403ca4_4e61_11e9_ac0f_90324b3f723erow24_col4 {\n",
       "            background-color:  #76a4b2;\n",
       "        }    #T_9f403ca4_4e61_11e9_ac0f_90324b3f723erow24_col5 {\n",
       "            background-color:  #6498a8;\n",
       "        }    #T_9f403ca4_4e61_11e9_ac0f_90324b3f723erow24_col6 {\n",
       "            background-color:  #a0c1cb;\n",
       "        }    #T_9f403ca4_4e61_11e9_ac0f_90324b3f723erow24_col7 {\n",
       "            background-color:  #6095a6;\n",
       "        }    #T_9f403ca4_4e61_11e9_ac0f_90324b3f723erow24_col8 {\n",
       "            background-color:  #85aebb;\n",
       "        }    #T_9f403ca4_4e61_11e9_ac0f_90324b3f723erow24_col9 {\n",
       "            background-color:  #6fa0af;\n",
       "        }    #T_9f403ca4_4e61_11e9_ac0f_90324b3f723erow24_col10 {\n",
       "            background-color:  #76a4b2;\n",
       "        }    #T_9f403ca4_4e61_11e9_ac0f_90324b3f723erow24_col11 {\n",
       "            background-color:  #74a3b2;\n",
       "        }    #T_9f403ca4_4e61_11e9_ac0f_90324b3f723erow24_col12 {\n",
       "            background-color:  #699bab;\n",
       "        }    #T_9f403ca4_4e61_11e9_ac0f_90324b3f723erow24_col13 {\n",
       "            background-color:  #bcd4db;\n",
       "        }    #T_9f403ca4_4e61_11e9_ac0f_90324b3f723erow24_col14 {\n",
       "            background-color:  #699bab;\n",
       "        }    #T_9f403ca4_4e61_11e9_ac0f_90324b3f723erow24_col15 {\n",
       "            background-color:  #70a1af;\n",
       "        }    #T_9f403ca4_4e61_11e9_ac0f_90324b3f723erow24_col16 {\n",
       "            background-color:  #c45a3f;\n",
       "        }    #T_9f403ca4_4e61_11e9_ac0f_90324b3f723erow24_col17 {\n",
       "            background-color:  #e8f1f4;\n",
       "        }    #T_9f403ca4_4e61_11e9_ac0f_90324b3f723erow24_col18 {\n",
       "            background-color:  #79a7b4;\n",
       "        }    #T_9f403ca4_4e61_11e9_ac0f_90324b3f723erow24_col19 {\n",
       "            background-color:  #8eb4c0;\n",
       "        }    #T_9f403ca4_4e61_11e9_ac0f_90324b3f723erow24_col20 {\n",
       "            background-color:  #cadde3;\n",
       "        }    #T_9f403ca4_4e61_11e9_ac0f_90324b3f723erow24_col21 {\n",
       "            background-color:  #a3c3cc;\n",
       "        }    #T_9f403ca4_4e61_11e9_ac0f_90324b3f723erow24_col22 {\n",
       "            background-color:  #ccdfe4;\n",
       "        }    #T_9f403ca4_4e61_11e9_ac0f_90324b3f723erow24_col23 {\n",
       "            background-color:  #d9e7ec;\n",
       "        }    #T_9f403ca4_4e61_11e9_ac0f_90324b3f723erow24_col24 {\n",
       "            background-color:  #c3553a;\n",
       "        }</style>  \n",
       "<table id=\"T_9f403ca4_4e61_11e9_ac0f_90324b3f723e\" > \n",
       "<thead>    <tr> \n",
       "        <th class=\"blank level0\" ></th> \n",
       "        <th class=\"col_heading level0 col0\" >Sector_score</th> \n",
       "        <th class=\"col_heading level0 col1\" >LOCATION_ID</th> \n",
       "        <th class=\"col_heading level0 col2\" >PARA_A</th> \n",
       "        <th class=\"col_heading level0 col3\" >Score_A</th> \n",
       "        <th class=\"col_heading level0 col4\" >Risk_A</th> \n",
       "        <th class=\"col_heading level0 col5\" >PARA_B</th> \n",
       "        <th class=\"col_heading level0 col6\" >Score_B</th> \n",
       "        <th class=\"col_heading level0 col7\" >Risk_B</th> \n",
       "        <th class=\"col_heading level0 col8\" >TOTAL</th> \n",
       "        <th class=\"col_heading level0 col9\" >numbers</th> \n",
       "        <th class=\"col_heading level0 col10\" >Score_B.1</th> \n",
       "        <th class=\"col_heading level0 col11\" >Risk_C</th> \n",
       "        <th class=\"col_heading level0 col12\" >Money_Value</th> \n",
       "        <th class=\"col_heading level0 col13\" >Score_MV</th> \n",
       "        <th class=\"col_heading level0 col14\" >Risk_D</th> \n",
       "        <th class=\"col_heading level0 col15\" >District_Loss</th> \n",
       "        <th class=\"col_heading level0 col16\" >PROB</th> \n",
       "        <th class=\"col_heading level0 col17\" >RiSk_E</th> \n",
       "        <th class=\"col_heading level0 col18\" >History</th> \n",
       "        <th class=\"col_heading level0 col19\" >Prob</th> \n",
       "        <th class=\"col_heading level0 col20\" >Score</th> \n",
       "        <th class=\"col_heading level0 col21\" >Inherent_Risk</th> \n",
       "        <th class=\"col_heading level0 col22\" >CONTROL_RISK</th> \n",
       "        <th class=\"col_heading level0 col23\" >Risk</th> \n",
       "        <th class=\"col_heading level0 col24\" >Loss</th> \n",
       "    </tr></thead> \n",
       "<tbody>    <tr> \n",
       "        <th id=\"T_9f403ca4_4e61_11e9_ac0f_90324b3f723elevel0_row0\" class=\"row_heading level0 row0\" >Sector_score</th> \n",
       "        <td id=\"T_9f403ca4_4e61_11e9_ac0f_90324b3f723erow0_col0\" class=\"data row0 col0\" >1</td> \n",
       "        <td id=\"T_9f403ca4_4e61_11e9_ac0f_90324b3f723erow0_col1\" class=\"data row0 col1\" >-0.052</td> \n",
       "        <td id=\"T_9f403ca4_4e61_11e9_ac0f_90324b3f723erow0_col2\" class=\"data row0 col2\" >-0.26</td> \n",
       "        <td id=\"T_9f403ca4_4e61_11e9_ac0f_90324b3f723erow0_col3\" class=\"data row0 col3\" >-0.42</td> \n",
       "        <td id=\"T_9f403ca4_4e61_11e9_ac0f_90324b3f723erow0_col4\" class=\"data row0 col4\" >-0.17</td> \n",
       "        <td id=\"T_9f403ca4_4e61_11e9_ac0f_90324b3f723erow0_col5\" class=\"data row0 col5\" >-0.068</td> \n",
       "        <td id=\"T_9f403ca4_4e61_11e9_ac0f_90324b3f723erow0_col6\" class=\"data row0 col6\" >-0.21</td> \n",
       "        <td id=\"T_9f403ca4_4e61_11e9_ac0f_90324b3f723erow0_col7\" class=\"data row0 col7\" >-0.04</td> \n",
       "        <td id=\"T_9f403ca4_4e61_11e9_ac0f_90324b3f723erow0_col8\" class=\"data row0 col8\" >-0.18</td> \n",
       "        <td id=\"T_9f403ca4_4e61_11e9_ac0f_90324b3f723erow0_col9\" class=\"data row0 col9\" >-0.15</td> \n",
       "        <td id=\"T_9f403ca4_4e61_11e9_ac0f_90324b3f723erow0_col10\" class=\"data row0 col10\" >-0.17</td> \n",
       "        <td id=\"T_9f403ca4_4e61_11e9_ac0f_90324b3f723erow0_col11\" class=\"data row0 col11\" >-0.16</td> \n",
       "        <td id=\"T_9f403ca4_4e61_11e9_ac0f_90324b3f723erow0_col12\" class=\"data row0 col12\" >-0.1</td> \n",
       "        <td id=\"T_9f403ca4_4e61_11e9_ac0f_90324b3f723erow0_col13\" class=\"data row0 col13\" >-0.32</td> \n",
       "        <td id=\"T_9f403ca4_4e61_11e9_ac0f_90324b3f723erow0_col14\" class=\"data row0 col14\" >-0.094</td> \n",
       "        <td id=\"T_9f403ca4_4e61_11e9_ac0f_90324b3f723erow0_col15\" class=\"data row0 col15\" >-0.11</td> \n",
       "        <td id=\"T_9f403ca4_4e61_11e9_ac0f_90324b3f723erow0_col16\" class=\"data row0 col16\" >-0.086</td> \n",
       "        <td id=\"T_9f403ca4_4e61_11e9_ac0f_90324b3f723erow0_col17\" class=\"data row0 col17\" >-0.13</td> \n",
       "        <td id=\"T_9f403ca4_4e61_11e9_ac0f_90324b3f723erow0_col18\" class=\"data row0 col18\" >-0.11</td> \n",
       "        <td id=\"T_9f403ca4_4e61_11e9_ac0f_90324b3f723erow0_col19\" class=\"data row0 col19\" >-0.14</td> \n",
       "        <td id=\"T_9f403ca4_4e61_11e9_ac0f_90324b3f723erow0_col20\" class=\"data row0 col20\" >-0.33</td> \n",
       "        <td id=\"T_9f403ca4_4e61_11e9_ac0f_90324b3f723erow0_col21\" class=\"data row0 col21\" >-0.18</td> \n",
       "        <td id=\"T_9f403ca4_4e61_11e9_ac0f_90324b3f723erow0_col22\" class=\"data row0 col22\" >-0.16</td> \n",
       "        <td id=\"T_9f403ca4_4e61_11e9_ac0f_90324b3f723erow0_col23\" class=\"data row0 col23\" >-0.39</td> \n",
       "        <td id=\"T_9f403ca4_4e61_11e9_ac0f_90324b3f723erow0_col24\" class=\"data row0 col24\" >-0.082</td> \n",
       "    </tr>    <tr> \n",
       "        <th id=\"T_9f403ca4_4e61_11e9_ac0f_90324b3f723elevel0_row1\" class=\"row_heading level0 row1\" >LOCATION_ID</th> \n",
       "        <td id=\"T_9f403ca4_4e61_11e9_ac0f_90324b3f723erow1_col0\" class=\"data row1 col0\" >-0.052</td> \n",
       "        <td id=\"T_9f403ca4_4e61_11e9_ac0f_90324b3f723erow1_col1\" class=\"data row1 col1\" >1</td> \n",
       "        <td id=\"T_9f403ca4_4e61_11e9_ac0f_90324b3f723erow1_col2\" class=\"data row1 col2\" >0.02</td> \n",
       "        <td id=\"T_9f403ca4_4e61_11e9_ac0f_90324b3f723erow1_col3\" class=\"data row1 col3\" >0.079</td> \n",
       "        <td id=\"T_9f403ca4_4e61_11e9_ac0f_90324b3f723erow1_col4\" class=\"data row1 col4\" >0.0015</td> \n",
       "        <td id=\"T_9f403ca4_4e61_11e9_ac0f_90324b3f723erow1_col5\" class=\"data row1 col5\" >0.0065</td> \n",
       "        <td id=\"T_9f403ca4_4e61_11e9_ac0f_90324b3f723erow1_col6\" class=\"data row1 col6\" >0.13</td> \n",
       "        <td id=\"T_9f403ca4_4e61_11e9_ac0f_90324b3f723erow1_col7\" class=\"data row1 col7\" >0.03</td> \n",
       "        <td id=\"T_9f403ca4_4e61_11e9_ac0f_90324b3f723erow1_col8\" class=\"data row1 col8\" >-0.00077</td> \n",
       "        <td id=\"T_9f403ca4_4e61_11e9_ac0f_90324b3f723erow1_col9\" class=\"data row1 col9\" >0.0067</td> \n",
       "        <td id=\"T_9f403ca4_4e61_11e9_ac0f_90324b3f723erow1_col10\" class=\"data row1 col10\" >-0.018</td> \n",
       "        <td id=\"T_9f403ca4_4e61_11e9_ac0f_90324b3f723erow1_col11\" class=\"data row1 col11\" >-0.015</td> \n",
       "        <td id=\"T_9f403ca4_4e61_11e9_ac0f_90324b3f723erow1_col12\" class=\"data row1 col12\" >0.0079</td> \n",
       "        <td id=\"T_9f403ca4_4e61_11e9_ac0f_90324b3f723erow1_col13\" class=\"data row1 col13\" >0.11</td> \n",
       "        <td id=\"T_9f403ca4_4e61_11e9_ac0f_90324b3f723erow1_col14\" class=\"data row1 col14\" >0.018</td> \n",
       "        <td id=\"T_9f403ca4_4e61_11e9_ac0f_90324b3f723erow1_col15\" class=\"data row1 col15\" >-0.11</td> \n",
       "        <td id=\"T_9f403ca4_4e61_11e9_ac0f_90324b3f723erow1_col16\" class=\"data row1 col16\" >-0.0034</td> \n",
       "        <td id=\"T_9f403ca4_4e61_11e9_ac0f_90324b3f723erow1_col17\" class=\"data row1 col17\" >-0.097</td> \n",
       "        <td id=\"T_9f403ca4_4e61_11e9_ac0f_90324b3f723erow1_col18\" class=\"data row1 col18\" >-0.082</td> \n",
       "        <td id=\"T_9f403ca4_4e61_11e9_ac0f_90324b3f723erow1_col19\" class=\"data row1 col19\" >-0.054</td> \n",
       "        <td id=\"T_9f403ca4_4e61_11e9_ac0f_90324b3f723erow1_col20\" class=\"data row1 col20\" >0.088</td> \n",
       "        <td id=\"T_9f403ca4_4e61_11e9_ac0f_90324b3f723erow1_col21\" class=\"data row1 col21\" >0.044</td> \n",
       "        <td id=\"T_9f403ca4_4e61_11e9_ac0f_90324b3f723erow1_col22\" class=\"data row1 col22\" >-0.12</td> \n",
       "        <td id=\"T_9f403ca4_4e61_11e9_ac0f_90324b3f723erow1_col23\" class=\"data row1 col23\" >0.063</td> \n",
       "        <td id=\"T_9f403ca4_4e61_11e9_ac0f_90324b3f723erow1_col24\" class=\"data row1 col24\" >0.0064</td> \n",
       "    </tr>    <tr> \n",
       "        <th id=\"T_9f403ca4_4e61_11e9_ac0f_90324b3f723elevel0_row2\" class=\"row_heading level0 row2\" >PARA_A</th> \n",
       "        <td id=\"T_9f403ca4_4e61_11e9_ac0f_90324b3f723erow2_col0\" class=\"data row2 col0\" >-0.26</td> \n",
       "        <td id=\"T_9f403ca4_4e61_11e9_ac0f_90324b3f723erow2_col1\" class=\"data row2 col1\" >0.02</td> \n",
       "        <td id=\"T_9f403ca4_4e61_11e9_ac0f_90324b3f723erow2_col2\" class=\"data row2 col2\" >1</td> \n",
       "        <td id=\"T_9f403ca4_4e61_11e9_ac0f_90324b3f723erow2_col3\" class=\"data row2 col3\" >0.64</td> \n",
       "        <td id=\"T_9f403ca4_4e61_11e9_ac0f_90324b3f723erow2_col4\" class=\"data row2 col4\" >0.91</td> \n",
       "        <td id=\"T_9f403ca4_4e61_11e9_ac0f_90324b3f723erow2_col5\" class=\"data row2 col5\" >0.11</td> \n",
       "        <td id=\"T_9f403ca4_4e61_11e9_ac0f_90324b3f723erow2_col6\" class=\"data row2 col6\" >0.33</td> \n",
       "        <td id=\"T_9f403ca4_4e61_11e9_ac0f_90324b3f723erow2_col7\" class=\"data row2 col7\" >0.086</td> \n",
       "        <td id=\"T_9f403ca4_4e61_11e9_ac0f_90324b3f723erow2_col8\" class=\"data row2 col8\" >0.46</td> \n",
       "        <td id=\"T_9f403ca4_4e61_11e9_ac0f_90324b3f723erow2_col9\" class=\"data row2 col9\" >0.11</td> \n",
       "        <td id=\"T_9f403ca4_4e61_11e9_ac0f_90324b3f723erow2_col10\" class=\"data row2 col10\" >0.12</td> \n",
       "        <td id=\"T_9f403ca4_4e61_11e9_ac0f_90324b3f723erow2_col11\" class=\"data row2 col11\" >0.11</td> \n",
       "        <td id=\"T_9f403ca4_4e61_11e9_ac0f_90324b3f723erow2_col12\" class=\"data row2 col12\" >0.14</td> \n",
       "        <td id=\"T_9f403ca4_4e61_11e9_ac0f_90324b3f723erow2_col13\" class=\"data row2 col13\" >0.24</td> \n",
       "        <td id=\"T_9f403ca4_4e61_11e9_ac0f_90324b3f723erow2_col14\" class=\"data row2 col14\" >0.15</td> \n",
       "        <td id=\"T_9f403ca4_4e61_11e9_ac0f_90324b3f723erow2_col15\" class=\"data row2 col15\" >0.054</td> \n",
       "        <td id=\"T_9f403ca4_4e61_11e9_ac0f_90324b3f723erow2_col16\" class=\"data row2 col16\" >0.05</td> \n",
       "        <td id=\"T_9f403ca4_4e61_11e9_ac0f_90324b3f723erow2_col17\" class=\"data row2 col17\" >0.059</td> \n",
       "        <td id=\"T_9f403ca4_4e61_11e9_ac0f_90324b3f723erow2_col18\" class=\"data row2 col18\" >0.091</td> \n",
       "        <td id=\"T_9f403ca4_4e61_11e9_ac0f_90324b3f723erow2_col19\" class=\"data row2 col19\" >0.12</td> \n",
       "        <td id=\"T_9f403ca4_4e61_11e9_ac0f_90324b3f723erow2_col20\" class=\"data row2 col20\" >0.41</td> \n",
       "        <td id=\"T_9f403ca4_4e61_11e9_ac0f_90324b3f723erow2_col21\" class=\"data row2 col21\" >0.32</td> \n",
       "        <td id=\"T_9f403ca4_4e61_11e9_ac0f_90324b3f723erow2_col22\" class=\"data row2 col22\" >0.092</td> \n",
       "        <td id=\"T_9f403ca4_4e61_11e9_ac0f_90324b3f723erow2_col23\" class=\"data row2 col23\" >0.33</td> \n",
       "        <td id=\"T_9f403ca4_4e61_11e9_ac0f_90324b3f723erow2_col24\" class=\"data row2 col24\" >0.039</td> \n",
       "    </tr>    <tr> \n",
       "        <th id=\"T_9f403ca4_4e61_11e9_ac0f_90324b3f723elevel0_row3\" class=\"row_heading level0 row3\" >Score_A</th> \n",
       "        <td id=\"T_9f403ca4_4e61_11e9_ac0f_90324b3f723erow3_col0\" class=\"data row3 col0\" >-0.42</td> \n",
       "        <td id=\"T_9f403ca4_4e61_11e9_ac0f_90324b3f723erow3_col1\" class=\"data row3 col1\" >0.079</td> \n",
       "        <td id=\"T_9f403ca4_4e61_11e9_ac0f_90324b3f723erow3_col2\" class=\"data row3 col2\" >0.64</td> \n",
       "        <td id=\"T_9f403ca4_4e61_11e9_ac0f_90324b3f723erow3_col3\" class=\"data row3 col3\" >1</td> \n",
       "        <td id=\"T_9f403ca4_4e61_11e9_ac0f_90324b3f723erow3_col4\" class=\"data row3 col4\" >0.46</td> \n",
       "        <td id=\"T_9f403ca4_4e61_11e9_ac0f_90324b3f723erow3_col5\" class=\"data row3 col5\" >0.16</td> \n",
       "        <td id=\"T_9f403ca4_4e61_11e9_ac0f_90324b3f723erow3_col6\" class=\"data row3 col6\" >0.57</td> \n",
       "        <td id=\"T_9f403ca4_4e61_11e9_ac0f_90324b3f723erow3_col7\" class=\"data row3 col7\" >0.14</td> \n",
       "        <td id=\"T_9f403ca4_4e61_11e9_ac0f_90324b3f723erow3_col8\" class=\"data row3 col8\" >0.46</td> \n",
       "        <td id=\"T_9f403ca4_4e61_11e9_ac0f_90324b3f723erow3_col9\" class=\"data row3 col9\" >0.24</td> \n",
       "        <td id=\"T_9f403ca4_4e61_11e9_ac0f_90324b3f723erow3_col10\" class=\"data row3 col10\" >0.27</td> \n",
       "        <td id=\"T_9f403ca4_4e61_11e9_ac0f_90324b3f723erow3_col11\" class=\"data row3 col11\" >0.26</td> \n",
       "        <td id=\"T_9f403ca4_4e61_11e9_ac0f_90324b3f723erow3_col12\" class=\"data row3 col12\" >0.15</td> \n",
       "        <td id=\"T_9f403ca4_4e61_11e9_ac0f_90324b3f723erow3_col13\" class=\"data row3 col13\" >0.47</td> \n",
       "        <td id=\"T_9f403ca4_4e61_11e9_ac0f_90324b3f723erow3_col14\" class=\"data row3 col14\" >0.16</td> \n",
       "        <td id=\"T_9f403ca4_4e61_11e9_ac0f_90324b3f723erow3_col15\" class=\"data row3 col15\" >0.086</td> \n",
       "        <td id=\"T_9f403ca4_4e61_11e9_ac0f_90324b3f723erow3_col16\" class=\"data row3 col16\" >0.091</td> \n",
       "        <td id=\"T_9f403ca4_4e61_11e9_ac0f_90324b3f723erow3_col17\" class=\"data row3 col17\" >0.1</td> \n",
       "        <td id=\"T_9f403ca4_4e61_11e9_ac0f_90324b3f723erow3_col18\" class=\"data row3 col18\" >0.18</td> \n",
       "        <td id=\"T_9f403ca4_4e61_11e9_ac0f_90324b3f723erow3_col19\" class=\"data row3 col19\" >0.26</td> \n",
       "        <td id=\"T_9f403ca4_4e61_11e9_ac0f_90324b3f723erow3_col20\" class=\"data row3 col20\" >0.72</td> \n",
       "        <td id=\"T_9f403ca4_4e61_11e9_ac0f_90324b3f723erow3_col21\" class=\"data row3 col21\" >0.4</td> \n",
       "        <td id=\"T_9f403ca4_4e61_11e9_ac0f_90324b3f723erow3_col22\" class=\"data row3 col22\" >0.17</td> \n",
       "        <td id=\"T_9f403ca4_4e61_11e9_ac0f_90324b3f723erow3_col23\" class=\"data row3 col23\" >0.62</td> \n",
       "        <td id=\"T_9f403ca4_4e61_11e9_ac0f_90324b3f723erow3_col24\" class=\"data row3 col24\" >0.091</td> \n",
       "    </tr>    <tr> \n",
       "        <th id=\"T_9f403ca4_4e61_11e9_ac0f_90324b3f723elevel0_row4\" class=\"row_heading level0 row4\" >Risk_A</th> \n",
       "        <td id=\"T_9f403ca4_4e61_11e9_ac0f_90324b3f723erow4_col0\" class=\"data row4 col0\" >-0.17</td> \n",
       "        <td id=\"T_9f403ca4_4e61_11e9_ac0f_90324b3f723erow4_col1\" class=\"data row4 col1\" >0.0015</td> \n",
       "        <td id=\"T_9f403ca4_4e61_11e9_ac0f_90324b3f723erow4_col2\" class=\"data row4 col2\" >0.91</td> \n",
       "        <td id=\"T_9f403ca4_4e61_11e9_ac0f_90324b3f723erow4_col3\" class=\"data row4 col3\" >0.46</td> \n",
       "        <td id=\"T_9f403ca4_4e61_11e9_ac0f_90324b3f723erow4_col4\" class=\"data row4 col4\" >1</td> \n",
       "        <td id=\"T_9f403ca4_4e61_11e9_ac0f_90324b3f723erow4_col5\" class=\"data row4 col5\" >0.081</td> \n",
       "        <td id=\"T_9f403ca4_4e61_11e9_ac0f_90324b3f723erow4_col6\" class=\"data row4 col6\" >0.2</td> \n",
       "        <td id=\"T_9f403ca4_4e61_11e9_ac0f_90324b3f723erow4_col7\" class=\"data row4 col7\" >0.076</td> \n",
       "        <td id=\"T_9f403ca4_4e61_11e9_ac0f_90324b3f723erow4_col8\" class=\"data row4 col8\" >0.39</td> \n",
       "        <td id=\"T_9f403ca4_4e61_11e9_ac0f_90324b3f723erow4_col9\" class=\"data row4 col9\" >0.034</td> \n",
       "        <td id=\"T_9f403ca4_4e61_11e9_ac0f_90324b3f723erow4_col10\" class=\"data row4 col10\" >0.035</td> \n",
       "        <td id=\"T_9f403ca4_4e61_11e9_ac0f_90324b3f723erow4_col11\" class=\"data row4 col11\" >0.035</td> \n",
       "        <td id=\"T_9f403ca4_4e61_11e9_ac0f_90324b3f723erow4_col12\" class=\"data row4 col12\" >0.16</td> \n",
       "        <td id=\"T_9f403ca4_4e61_11e9_ac0f_90324b3f723erow4_col13\" class=\"data row4 col13\" >0.14</td> \n",
       "        <td id=\"T_9f403ca4_4e61_11e9_ac0f_90324b3f723erow4_col14\" class=\"data row4 col14\" >0.18</td> \n",
       "        <td id=\"T_9f403ca4_4e61_11e9_ac0f_90324b3f723erow4_col15\" class=\"data row4 col15\" >0.03</td> \n",
       "        <td id=\"T_9f403ca4_4e61_11e9_ac0f_90324b3f723erow4_col16\" class=\"data row4 col16\" >0.013</td> \n",
       "        <td id=\"T_9f403ca4_4e61_11e9_ac0f_90324b3f723erow4_col17\" class=\"data row4 col17\" >0.027</td> \n",
       "        <td id=\"T_9f403ca4_4e61_11e9_ac0f_90324b3f723erow4_col18\" class=\"data row4 col18\" >0.067</td> \n",
       "        <td id=\"T_9f403ca4_4e61_11e9_ac0f_90324b3f723erow4_col19\" class=\"data row4 col19\" >0.066</td> \n",
       "        <td id=\"T_9f403ca4_4e61_11e9_ac0f_90324b3f723erow4_col20\" class=\"data row4 col20\" >0.26</td> \n",
       "        <td id=\"T_9f403ca4_4e61_11e9_ac0f_90324b3f723erow4_col21\" class=\"data row4 col21\" >0.27</td> \n",
       "        <td id=\"T_9f403ca4_4e61_11e9_ac0f_90324b3f723erow4_col22\" class=\"data row4 col22\" >0.059</td> \n",
       "        <td id=\"T_9f403ca4_4e61_11e9_ac0f_90324b3f723erow4_col23\" class=\"data row4 col23\" >0.21</td> \n",
       "        <td id=\"T_9f403ca4_4e61_11e9_ac0f_90324b3f723erow4_col24\" class=\"data row4 col24\" >0.0034</td> \n",
       "    </tr>    <tr> \n",
       "        <th id=\"T_9f403ca4_4e61_11e9_ac0f_90324b3f723elevel0_row5\" class=\"row_heading level0 row5\" >PARA_B</th> \n",
       "        <td id=\"T_9f403ca4_4e61_11e9_ac0f_90324b3f723erow5_col0\" class=\"data row5 col0\" >-0.068</td> \n",
       "        <td id=\"T_9f403ca4_4e61_11e9_ac0f_90324b3f723erow5_col1\" class=\"data row5 col1\" >0.0065</td> \n",
       "        <td id=\"T_9f403ca4_4e61_11e9_ac0f_90324b3f723erow5_col2\" class=\"data row5 col2\" >0.11</td> \n",
       "        <td id=\"T_9f403ca4_4e61_11e9_ac0f_90324b3f723erow5_col3\" class=\"data row5 col3\" >0.16</td> \n",
       "        <td id=\"T_9f403ca4_4e61_11e9_ac0f_90324b3f723erow5_col4\" class=\"data row5 col4\" >0.081</td> \n",
       "        <td id=\"T_9f403ca4_4e61_11e9_ac0f_90324b3f723erow5_col5\" class=\"data row5 col5\" >1</td> \n",
       "        <td id=\"T_9f403ca4_4e61_11e9_ac0f_90324b3f723erow5_col6\" class=\"data row5 col6\" >0.33</td> \n",
       "        <td id=\"T_9f403ca4_4e61_11e9_ac0f_90324b3f723erow5_col7\" class=\"data row5 col7\" >0.68</td> \n",
       "        <td id=\"T_9f403ca4_4e61_11e9_ac0f_90324b3f723erow5_col8\" class=\"data row5 col8\" >0.47</td> \n",
       "        <td id=\"T_9f403ca4_4e61_11e9_ac0f_90324b3f723erow5_col9\" class=\"data row5 col9\" >0.079</td> \n",
       "        <td id=\"T_9f403ca4_4e61_11e9_ac0f_90324b3f723erow5_col10\" class=\"data row5 col10\" >0.094</td> \n",
       "        <td id=\"T_9f403ca4_4e61_11e9_ac0f_90324b3f723erow5_col11\" class=\"data row5 col11\" >0.094</td> \n",
       "        <td id=\"T_9f403ca4_4e61_11e9_ac0f_90324b3f723erow5_col12\" class=\"data row5 col12\" >0.12</td> \n",
       "        <td id=\"T_9f403ca4_4e61_11e9_ac0f_90324b3f723erow5_col13\" class=\"data row5 col13\" >0.067</td> \n",
       "        <td id=\"T_9f403ca4_4e61_11e9_ac0f_90324b3f723erow5_col14\" class=\"data row5 col14\" >0.1</td> \n",
       "        <td id=\"T_9f403ca4_4e61_11e9_ac0f_90324b3f723erow5_col15\" class=\"data row5 col15\" >-0.0015</td> \n",
       "        <td id=\"T_9f403ca4_4e61_11e9_ac0f_90324b3f723erow5_col16\" class=\"data row5 col16\" >0.035</td> \n",
       "        <td id=\"T_9f403ca4_4e61_11e9_ac0f_90324b3f723erow5_col17\" class=\"data row5 col17\" >-0.0034</td> \n",
       "        <td id=\"T_9f403ca4_4e61_11e9_ac0f_90324b3f723erow5_col18\" class=\"data row5 col18\" >0.11</td> \n",
       "        <td id=\"T_9f403ca4_4e61_11e9_ac0f_90324b3f723erow5_col19\" class=\"data row5 col19\" >0.058</td> \n",
       "        <td id=\"T_9f403ca4_4e61_11e9_ac0f_90324b3f723erow5_col20\" class=\"data row5 col20\" >0.26</td> \n",
       "        <td id=\"T_9f403ca4_4e61_11e9_ac0f_90324b3f723erow5_col21\" class=\"data row5 col21\" >0.32</td> \n",
       "        <td id=\"T_9f403ca4_4e61_11e9_ac0f_90324b3f723erow5_col22\" class=\"data row5 col22\" >0.074</td> \n",
       "        <td id=\"T_9f403ca4_4e61_11e9_ac0f_90324b3f723erow5_col23\" class=\"data row5 col23\" >0.16</td> \n",
       "        <td id=\"T_9f403ca4_4e61_11e9_ac0f_90324b3f723erow5_col24\" class=\"data row5 col24\" >0.04</td> \n",
       "    </tr>    <tr> \n",
       "        <th id=\"T_9f403ca4_4e61_11e9_ac0f_90324b3f723elevel0_row6\" class=\"row_heading level0 row6\" >Score_B</th> \n",
       "        <td id=\"T_9f403ca4_4e61_11e9_ac0f_90324b3f723erow6_col0\" class=\"data row6 col0\" >-0.21</td> \n",
       "        <td id=\"T_9f403ca4_4e61_11e9_ac0f_90324b3f723erow6_col1\" class=\"data row6 col1\" >0.13</td> \n",
       "        <td id=\"T_9f403ca4_4e61_11e9_ac0f_90324b3f723erow6_col2\" class=\"data row6 col2\" >0.33</td> \n",
       "        <td id=\"T_9f403ca4_4e61_11e9_ac0f_90324b3f723erow6_col3\" class=\"data row6 col3\" >0.57</td> \n",
       "        <td id=\"T_9f403ca4_4e61_11e9_ac0f_90324b3f723erow6_col4\" class=\"data row6 col4\" >0.2</td> \n",
       "        <td id=\"T_9f403ca4_4e61_11e9_ac0f_90324b3f723erow6_col5\" class=\"data row6 col5\" >0.33</td> \n",
       "        <td id=\"T_9f403ca4_4e61_11e9_ac0f_90324b3f723erow6_col6\" class=\"data row6 col6\" >1</td> \n",
       "        <td id=\"T_9f403ca4_4e61_11e9_ac0f_90324b3f723erow6_col7\" class=\"data row6 col7\" >0.27</td> \n",
       "        <td id=\"T_9f403ca4_4e61_11e9_ac0f_90324b3f723erow6_col8\" class=\"data row6 col8\" >0.3</td> \n",
       "        <td id=\"T_9f403ca4_4e61_11e9_ac0f_90324b3f723erow6_col9\" class=\"data row6 col9\" >0.28</td> \n",
       "        <td id=\"T_9f403ca4_4e61_11e9_ac0f_90324b3f723erow6_col10\" class=\"data row6 col10\" >0.31</td> \n",
       "        <td id=\"T_9f403ca4_4e61_11e9_ac0f_90324b3f723erow6_col11\" class=\"data row6 col11\" >0.3</td> \n",
       "        <td id=\"T_9f403ca4_4e61_11e9_ac0f_90324b3f723erow6_col12\" class=\"data row6 col12\" >0.2</td> \n",
       "        <td id=\"T_9f403ca4_4e61_11e9_ac0f_90324b3f723erow6_col13\" class=\"data row6 col13\" >0.56</td> \n",
       "        <td id=\"T_9f403ca4_4e61_11e9_ac0f_90324b3f723erow6_col14\" class=\"data row6 col14\" >0.2</td> \n",
       "        <td id=\"T_9f403ca4_4e61_11e9_ac0f_90324b3f723erow6_col15\" class=\"data row6 col15\" >-0.0077</td> \n",
       "        <td id=\"T_9f403ca4_4e61_11e9_ac0f_90324b3f723erow6_col16\" class=\"data row6 col16\" >0.091</td> \n",
       "        <td id=\"T_9f403ca4_4e61_11e9_ac0f_90324b3f723erow6_col17\" class=\"data row6 col17\" >0.012</td> \n",
       "        <td id=\"T_9f403ca4_4e61_11e9_ac0f_90324b3f723erow6_col18\" class=\"data row6 col18\" >0.2</td> \n",
       "        <td id=\"T_9f403ca4_4e61_11e9_ac0f_90324b3f723erow6_col19\" class=\"data row6 col19\" >0.31</td> \n",
       "        <td id=\"T_9f403ca4_4e61_11e9_ac0f_90324b3f723erow6_col20\" class=\"data row6 col20\" >0.9</td> \n",
       "        <td id=\"T_9f403ca4_4e61_11e9_ac0f_90324b3f723erow6_col21\" class=\"data row6 col21\" >0.23</td> \n",
       "        <td id=\"T_9f403ca4_4e61_11e9_ac0f_90324b3f723erow6_col22\" class=\"data row6 col22\" >0.12</td> \n",
       "        <td id=\"T_9f403ca4_4e61_11e9_ac0f_90324b3f723erow6_col23\" class=\"data row6 col23\" >0.63</td> \n",
       "        <td id=\"T_9f403ca4_4e61_11e9_ac0f_90324b3f723erow6_col24\" class=\"data row6 col24\" >0.097</td> \n",
       "    </tr>    <tr> \n",
       "        <th id=\"T_9f403ca4_4e61_11e9_ac0f_90324b3f723elevel0_row7\" class=\"row_heading level0 row7\" >Risk_B</th> \n",
       "        <td id=\"T_9f403ca4_4e61_11e9_ac0f_90324b3f723erow7_col0\" class=\"data row7 col0\" >-0.04</td> \n",
       "        <td id=\"T_9f403ca4_4e61_11e9_ac0f_90324b3f723erow7_col1\" class=\"data row7 col1\" >0.03</td> \n",
       "        <td id=\"T_9f403ca4_4e61_11e9_ac0f_90324b3f723erow7_col2\" class=\"data row7 col2\" >0.086</td> \n",
       "        <td id=\"T_9f403ca4_4e61_11e9_ac0f_90324b3f723erow7_col3\" class=\"data row7 col3\" >0.14</td> \n",
       "        <td id=\"T_9f403ca4_4e61_11e9_ac0f_90324b3f723erow7_col4\" class=\"data row7 col4\" >0.076</td> \n",
       "        <td id=\"T_9f403ca4_4e61_11e9_ac0f_90324b3f723erow7_col5\" class=\"data row7 col5\" >0.68</td> \n",
       "        <td id=\"T_9f403ca4_4e61_11e9_ac0f_90324b3f723erow7_col6\" class=\"data row7 col6\" >0.27</td> \n",
       "        <td id=\"T_9f403ca4_4e61_11e9_ac0f_90324b3f723erow7_col7\" class=\"data row7 col7\" >1</td> \n",
       "        <td id=\"T_9f403ca4_4e61_11e9_ac0f_90324b3f723erow7_col8\" class=\"data row7 col8\" >0.39</td> \n",
       "        <td id=\"T_9f403ca4_4e61_11e9_ac0f_90324b3f723erow7_col9\" class=\"data row7 col9\" >0.02</td> \n",
       "        <td id=\"T_9f403ca4_4e61_11e9_ac0f_90324b3f723erow7_col10\" class=\"data row7 col10\" >0.035</td> \n",
       "        <td id=\"T_9f403ca4_4e61_11e9_ac0f_90324b3f723erow7_col11\" class=\"data row7 col11\" >0.032</td> \n",
       "        <td id=\"T_9f403ca4_4e61_11e9_ac0f_90324b3f723erow7_col12\" class=\"data row7 col12\" >0.062</td> \n",
       "        <td id=\"T_9f403ca4_4e61_11e9_ac0f_90324b3f723erow7_col13\" class=\"data row7 col13\" >0.039</td> \n",
       "        <td id=\"T_9f403ca4_4e61_11e9_ac0f_90324b3f723erow7_col14\" class=\"data row7 col14\" >0.058</td> \n",
       "        <td id=\"T_9f403ca4_4e61_11e9_ac0f_90324b3f723erow7_col15\" class=\"data row7 col15\" >0.036</td> \n",
       "        <td id=\"T_9f403ca4_4e61_11e9_ac0f_90324b3f723erow7_col16\" class=\"data row7 col16\" >0.046</td> \n",
       "        <td id=\"T_9f403ca4_4e61_11e9_ac0f_90324b3f723erow7_col17\" class=\"data row7 col17\" >0.034</td> \n",
       "        <td id=\"T_9f403ca4_4e61_11e9_ac0f_90324b3f723erow7_col18\" class=\"data row7 col18\" >0.063</td> \n",
       "        <td id=\"T_9f403ca4_4e61_11e9_ac0f_90324b3f723erow7_col19\" class=\"data row7 col19\" >0.051</td> \n",
       "        <td id=\"T_9f403ca4_4e61_11e9_ac0f_90324b3f723erow7_col20\" class=\"data row7 col20\" >0.21</td> \n",
       "        <td id=\"T_9f403ca4_4e61_11e9_ac0f_90324b3f723erow7_col21\" class=\"data row7 col21\" >0.29</td> \n",
       "        <td id=\"T_9f403ca4_4e61_11e9_ac0f_90324b3f723erow7_col22\" class=\"data row7 col22\" >0.064</td> \n",
       "        <td id=\"T_9f403ca4_4e61_11e9_ac0f_90324b3f723erow7_col23\" class=\"data row7 col23\" >0.13</td> \n",
       "        <td id=\"T_9f403ca4_4e61_11e9_ac0f_90324b3f723erow7_col24\" class=\"data row7 col24\" >0.051</td> \n",
       "    </tr>    <tr> \n",
       "        <th id=\"T_9f403ca4_4e61_11e9_ac0f_90324b3f723elevel0_row8\" class=\"row_heading level0 row8\" >TOTAL</th> \n",
       "        <td id=\"T_9f403ca4_4e61_11e9_ac0f_90324b3f723erow8_col0\" class=\"data row8 col0\" >-0.18</td> \n",
       "        <td id=\"T_9f403ca4_4e61_11e9_ac0f_90324b3f723erow8_col1\" class=\"data row8 col1\" >-0.00077</td> \n",
       "        <td id=\"T_9f403ca4_4e61_11e9_ac0f_90324b3f723erow8_col2\" class=\"data row8 col2\" >0.46</td> \n",
       "        <td id=\"T_9f403ca4_4e61_11e9_ac0f_90324b3f723erow8_col3\" class=\"data row8 col3\" >0.46</td> \n",
       "        <td id=\"T_9f403ca4_4e61_11e9_ac0f_90324b3f723erow8_col4\" class=\"data row8 col4\" >0.39</td> \n",
       "        <td id=\"T_9f403ca4_4e61_11e9_ac0f_90324b3f723erow8_col5\" class=\"data row8 col5\" >0.47</td> \n",
       "        <td id=\"T_9f403ca4_4e61_11e9_ac0f_90324b3f723erow8_col6\" class=\"data row8 col6\" >0.3</td> \n",
       "        <td id=\"T_9f403ca4_4e61_11e9_ac0f_90324b3f723erow8_col7\" class=\"data row8 col7\" >0.39</td> \n",
       "        <td id=\"T_9f403ca4_4e61_11e9_ac0f_90324b3f723erow8_col8\" class=\"data row8 col8\" >1</td> \n",
       "        <td id=\"T_9f403ca4_4e61_11e9_ac0f_90324b3f723erow8_col9\" class=\"data row8 col9\" >0.047</td> \n",
       "        <td id=\"T_9f403ca4_4e61_11e9_ac0f_90324b3f723erow8_col10\" class=\"data row8 col10\" >0.056</td> \n",
       "        <td id=\"T_9f403ca4_4e61_11e9_ac0f_90324b3f723erow8_col11\" class=\"data row8 col11\" >0.057</td> \n",
       "        <td id=\"T_9f403ca4_4e61_11e9_ac0f_90324b3f723erow8_col12\" class=\"data row8 col12\" >0.2</td> \n",
       "        <td id=\"T_9f403ca4_4e61_11e9_ac0f_90324b3f723erow8_col13\" class=\"data row8 col13\" >0.094</td> \n",
       "        <td id=\"T_9f403ca4_4e61_11e9_ac0f_90324b3f723erow8_col14\" class=\"data row8 col14\" >0.18</td> \n",
       "        <td id=\"T_9f403ca4_4e61_11e9_ac0f_90324b3f723erow8_col15\" class=\"data row8 col15\" >0.022</td> \n",
       "        <td id=\"T_9f403ca4_4e61_11e9_ac0f_90324b3f723erow8_col16\" class=\"data row8 col16\" >0.042</td> \n",
       "        <td id=\"T_9f403ca4_4e61_11e9_ac0f_90324b3f723erow8_col17\" class=\"data row8 col17\" >0.033</td> \n",
       "        <td id=\"T_9f403ca4_4e61_11e9_ac0f_90324b3f723erow8_col18\" class=\"data row8 col18\" >0.057</td> \n",
       "        <td id=\"T_9f403ca4_4e61_11e9_ac0f_90324b3f723erow8_col19\" class=\"data row8 col19\" >0.052</td> \n",
       "        <td id=\"T_9f403ca4_4e61_11e9_ac0f_90324b3f723erow8_col20\" class=\"data row8 col20\" >0.31</td> \n",
       "        <td id=\"T_9f403ca4_4e61_11e9_ac0f_90324b3f723erow8_col21\" class=\"data row8 col21\" >0.49</td> \n",
       "        <td id=\"T_9f403ca4_4e61_11e9_ac0f_90324b3f723erow8_col22\" class=\"data row8 col22\" >0.059</td> \n",
       "        <td id=\"T_9f403ca4_4e61_11e9_ac0f_90324b3f723erow8_col23\" class=\"data row8 col23\" >0.24</td> \n",
       "        <td id=\"T_9f403ca4_4e61_11e9_ac0f_90324b3f723erow8_col24\" class=\"data row8 col24\" >0.042</td> \n",
       "    </tr>    <tr> \n",
       "        <th id=\"T_9f403ca4_4e61_11e9_ac0f_90324b3f723elevel0_row9\" class=\"row_heading level0 row9\" >numbers</th> \n",
       "        <td id=\"T_9f403ca4_4e61_11e9_ac0f_90324b3f723erow9_col0\" class=\"data row9 col0\" >-0.15</td> \n",
       "        <td id=\"T_9f403ca4_4e61_11e9_ac0f_90324b3f723erow9_col1\" class=\"data row9 col1\" >0.0067</td> \n",
       "        <td id=\"T_9f403ca4_4e61_11e9_ac0f_90324b3f723erow9_col2\" class=\"data row9 col2\" >0.11</td> \n",
       "        <td id=\"T_9f403ca4_4e61_11e9_ac0f_90324b3f723erow9_col3\" class=\"data row9 col3\" >0.24</td> \n",
       "        <td id=\"T_9f403ca4_4e61_11e9_ac0f_90324b3f723erow9_col4\" class=\"data row9 col4\" >0.034</td> \n",
       "        <td id=\"T_9f403ca4_4e61_11e9_ac0f_90324b3f723erow9_col5\" class=\"data row9 col5\" >0.079</td> \n",
       "        <td id=\"T_9f403ca4_4e61_11e9_ac0f_90324b3f723erow9_col6\" class=\"data row9 col6\" >0.28</td> \n",
       "        <td id=\"T_9f403ca4_4e61_11e9_ac0f_90324b3f723erow9_col7\" class=\"data row9 col7\" >0.02</td> \n",
       "        <td id=\"T_9f403ca4_4e61_11e9_ac0f_90324b3f723erow9_col8\" class=\"data row9 col8\" >0.047</td> \n",
       "        <td id=\"T_9f403ca4_4e61_11e9_ac0f_90324b3f723erow9_col9\" class=\"data row9 col9\" >1</td> \n",
       "        <td id=\"T_9f403ca4_4e61_11e9_ac0f_90324b3f723erow9_col10\" class=\"data row9 col10\" >0.91</td> \n",
       "        <td id=\"T_9f403ca4_4e61_11e9_ac0f_90324b3f723erow9_col11\" class=\"data row9 col11\" >0.96</td> \n",
       "        <td id=\"T_9f403ca4_4e61_11e9_ac0f_90324b3f723erow9_col12\" class=\"data row9 col12\" >-0.045</td> \n",
       "        <td id=\"T_9f403ca4_4e61_11e9_ac0f_90324b3f723erow9_col13\" class=\"data row9 col13\" >0.45</td> \n",
       "        <td id=\"T_9f403ca4_4e61_11e9_ac0f_90324b3f723erow9_col14\" class=\"data row9 col14\" >-0.034</td> \n",
       "        <td id=\"T_9f403ca4_4e61_11e9_ac0f_90324b3f723erow9_col15\" class=\"data row9 col15\" >0.12</td> \n",
       "        <td id=\"T_9f403ca4_4e61_11e9_ac0f_90324b3f723erow9_col16\" class=\"data row9 col16\" >0.035</td> \n",
       "        <td id=\"T_9f403ca4_4e61_11e9_ac0f_90324b3f723erow9_col17\" class=\"data row9 col17\" >0.14</td> \n",
       "        <td id=\"T_9f403ca4_4e61_11e9_ac0f_90324b3f723erow9_col18\" class=\"data row9 col18\" >0.2</td> \n",
       "        <td id=\"T_9f403ca4_4e61_11e9_ac0f_90324b3f723erow9_col19\" class=\"data row9 col19\" >0.21</td> \n",
       "        <td id=\"T_9f403ca4_4e61_11e9_ac0f_90324b3f723erow9_col20\" class=\"data row9 col20\" >0.5</td> \n",
       "        <td id=\"T_9f403ca4_4e61_11e9_ac0f_90324b3f723erow9_col21\" class=\"data row9 col21\" >-0.05</td> \n",
       "        <td id=\"T_9f403ca4_4e61_11e9_ac0f_90324b3f723erow9_col22\" class=\"data row9 col22\" >0.23</td> \n",
       "        <td id=\"T_9f403ca4_4e61_11e9_ac0f_90324b3f723erow9_col23\" class=\"data row9 col23\" >0.31</td> \n",
       "        <td id=\"T_9f403ca4_4e61_11e9_ac0f_90324b3f723erow9_col24\" class=\"data row9 col24\" >-0.0024</td> \n",
       "    </tr>    <tr> \n",
       "        <th id=\"T_9f403ca4_4e61_11e9_ac0f_90324b3f723elevel0_row10\" class=\"row_heading level0 row10\" >Score_B.1</th> \n",
       "        <td id=\"T_9f403ca4_4e61_11e9_ac0f_90324b3f723erow10_col0\" class=\"data row10 col0\" >-0.17</td> \n",
       "        <td id=\"T_9f403ca4_4e61_11e9_ac0f_90324b3f723erow10_col1\" class=\"data row10 col1\" >-0.018</td> \n",
       "        <td id=\"T_9f403ca4_4e61_11e9_ac0f_90324b3f723erow10_col2\" class=\"data row10 col2\" >0.12</td> \n",
       "        <td id=\"T_9f403ca4_4e61_11e9_ac0f_90324b3f723erow10_col3\" class=\"data row10 col3\" >0.27</td> \n",
       "        <td id=\"T_9f403ca4_4e61_11e9_ac0f_90324b3f723erow10_col4\" class=\"data row10 col4\" >0.035</td> \n",
       "        <td id=\"T_9f403ca4_4e61_11e9_ac0f_90324b3f723erow10_col5\" class=\"data row10 col5\" >0.094</td> \n",
       "        <td id=\"T_9f403ca4_4e61_11e9_ac0f_90324b3f723erow10_col6\" class=\"data row10 col6\" >0.31</td> \n",
       "        <td id=\"T_9f403ca4_4e61_11e9_ac0f_90324b3f723erow10_col7\" class=\"data row10 col7\" >0.035</td> \n",
       "        <td id=\"T_9f403ca4_4e61_11e9_ac0f_90324b3f723erow10_col8\" class=\"data row10 col8\" >0.056</td> \n",
       "        <td id=\"T_9f403ca4_4e61_11e9_ac0f_90324b3f723erow10_col9\" class=\"data row10 col9\" >0.91</td> \n",
       "        <td id=\"T_9f403ca4_4e61_11e9_ac0f_90324b3f723erow10_col10\" class=\"data row10 col10\" >1</td> \n",
       "        <td id=\"T_9f403ca4_4e61_11e9_ac0f_90324b3f723erow10_col11\" class=\"data row10 col11\" >0.99</td> \n",
       "        <td id=\"T_9f403ca4_4e61_11e9_ac0f_90324b3f723erow10_col12\" class=\"data row10 col12\" >-0.046</td> \n",
       "        <td id=\"T_9f403ca4_4e61_11e9_ac0f_90324b3f723erow10_col13\" class=\"data row10 col13\" >0.51</td> \n",
       "        <td id=\"T_9f403ca4_4e61_11e9_ac0f_90324b3f723erow10_col14\" class=\"data row10 col14\" >-0.034</td> \n",
       "        <td id=\"T_9f403ca4_4e61_11e9_ac0f_90324b3f723erow10_col15\" class=\"data row10 col15\" >0.15</td> \n",
       "        <td id=\"T_9f403ca4_4e61_11e9_ac0f_90324b3f723erow10_col16\" class=\"data row10 col16\" >0.036</td> \n",
       "        <td id=\"T_9f403ca4_4e61_11e9_ac0f_90324b3f723erow10_col17\" class=\"data row10 col17\" >0.16</td> \n",
       "        <td id=\"T_9f403ca4_4e61_11e9_ac0f_90324b3f723erow10_col18\" class=\"data row10 col18\" >0.23</td> \n",
       "        <td id=\"T_9f403ca4_4e61_11e9_ac0f_90324b3f723erow10_col19\" class=\"data row10 col19\" >0.25</td> \n",
       "        <td id=\"T_9f403ca4_4e61_11e9_ac0f_90324b3f723erow10_col20\" class=\"data row10 col20\" >0.57</td> \n",
       "        <td id=\"T_9f403ca4_4e61_11e9_ac0f_90324b3f723erow10_col21\" class=\"data row10 col21\" >-0.057</td> \n",
       "        <td id=\"T_9f403ca4_4e61_11e9_ac0f_90324b3f723erow10_col22\" class=\"data row10 col22\" >0.26</td> \n",
       "        <td id=\"T_9f403ca4_4e61_11e9_ac0f_90324b3f723erow10_col23\" class=\"data row10 col23\" >0.35</td> \n",
       "        <td id=\"T_9f403ca4_4e61_11e9_ac0f_90324b3f723erow10_col24\" class=\"data row10 col24\" >0.0038</td> \n",
       "    </tr>    <tr> \n",
       "        <th id=\"T_9f403ca4_4e61_11e9_ac0f_90324b3f723elevel0_row11\" class=\"row_heading level0 row11\" >Risk_C</th> \n",
       "        <td id=\"T_9f403ca4_4e61_11e9_ac0f_90324b3f723erow11_col0\" class=\"data row11 col0\" >-0.16</td> \n",
       "        <td id=\"T_9f403ca4_4e61_11e9_ac0f_90324b3f723erow11_col1\" class=\"data row11 col1\" >-0.015</td> \n",
       "        <td id=\"T_9f403ca4_4e61_11e9_ac0f_90324b3f723erow11_col2\" class=\"data row11 col2\" >0.11</td> \n",
       "        <td id=\"T_9f403ca4_4e61_11e9_ac0f_90324b3f723erow11_col3\" class=\"data row11 col3\" >0.26</td> \n",
       "        <td id=\"T_9f403ca4_4e61_11e9_ac0f_90324b3f723erow11_col4\" class=\"data row11 col4\" >0.035</td> \n",
       "        <td id=\"T_9f403ca4_4e61_11e9_ac0f_90324b3f723erow11_col5\" class=\"data row11 col5\" >0.094</td> \n",
       "        <td id=\"T_9f403ca4_4e61_11e9_ac0f_90324b3f723erow11_col6\" class=\"data row11 col6\" >0.3</td> \n",
       "        <td id=\"T_9f403ca4_4e61_11e9_ac0f_90324b3f723erow11_col7\" class=\"data row11 col7\" >0.032</td> \n",
       "        <td id=\"T_9f403ca4_4e61_11e9_ac0f_90324b3f723erow11_col8\" class=\"data row11 col8\" >0.057</td> \n",
       "        <td id=\"T_9f403ca4_4e61_11e9_ac0f_90324b3f723erow11_col9\" class=\"data row11 col9\" >0.96</td> \n",
       "        <td id=\"T_9f403ca4_4e61_11e9_ac0f_90324b3f723erow11_col10\" class=\"data row11 col10\" >0.99</td> \n",
       "        <td id=\"T_9f403ca4_4e61_11e9_ac0f_90324b3f723erow11_col11\" class=\"data row11 col11\" >1</td> \n",
       "        <td id=\"T_9f403ca4_4e61_11e9_ac0f_90324b3f723erow11_col12\" class=\"data row11 col12\" >-0.047</td> \n",
       "        <td id=\"T_9f403ca4_4e61_11e9_ac0f_90324b3f723erow11_col13\" class=\"data row11 col13\" >0.49</td> \n",
       "        <td id=\"T_9f403ca4_4e61_11e9_ac0f_90324b3f723erow11_col14\" class=\"data row11 col14\" >-0.035</td> \n",
       "        <td id=\"T_9f403ca4_4e61_11e9_ac0f_90324b3f723erow11_col15\" class=\"data row11 col15\" >0.15</td> \n",
       "        <td id=\"T_9f403ca4_4e61_11e9_ac0f_90324b3f723erow11_col16\" class=\"data row11 col16\" >0.035</td> \n",
       "        <td id=\"T_9f403ca4_4e61_11e9_ac0f_90324b3f723erow11_col17\" class=\"data row11 col17\" >0.15</td> \n",
       "        <td id=\"T_9f403ca4_4e61_11e9_ac0f_90324b3f723erow11_col18\" class=\"data row11 col18\" >0.22</td> \n",
       "        <td id=\"T_9f403ca4_4e61_11e9_ac0f_90324b3f723erow11_col19\" class=\"data row11 col19\" >0.24</td> \n",
       "        <td id=\"T_9f403ca4_4e61_11e9_ac0f_90324b3f723erow11_col20\" class=\"data row11 col20\" >0.55</td> \n",
       "        <td id=\"T_9f403ca4_4e61_11e9_ac0f_90324b3f723erow11_col21\" class=\"data row11 col21\" >-0.055</td> \n",
       "        <td id=\"T_9f403ca4_4e61_11e9_ac0f_90324b3f723erow11_col22\" class=\"data row11 col22\" >0.25</td> \n",
       "        <td id=\"T_9f403ca4_4e61_11e9_ac0f_90324b3f723erow11_col23\" class=\"data row11 col23\" >0.34</td> \n",
       "        <td id=\"T_9f403ca4_4e61_11e9_ac0f_90324b3f723erow11_col24\" class=\"data row11 col24\" >0.0001</td> \n",
       "    </tr>    <tr> \n",
       "        <th id=\"T_9f403ca4_4e61_11e9_ac0f_90324b3f723elevel0_row12\" class=\"row_heading level0 row12\" >Money_Value</th> \n",
       "        <td id=\"T_9f403ca4_4e61_11e9_ac0f_90324b3f723erow12_col0\" class=\"data row12 col0\" >-0.1</td> \n",
       "        <td id=\"T_9f403ca4_4e61_11e9_ac0f_90324b3f723erow12_col1\" class=\"data row12 col1\" >0.0079</td> \n",
       "        <td id=\"T_9f403ca4_4e61_11e9_ac0f_90324b3f723erow12_col2\" class=\"data row12 col2\" >0.14</td> \n",
       "        <td id=\"T_9f403ca4_4e61_11e9_ac0f_90324b3f723erow12_col3\" class=\"data row12 col3\" >0.15</td> \n",
       "        <td id=\"T_9f403ca4_4e61_11e9_ac0f_90324b3f723erow12_col4\" class=\"data row12 col4\" >0.16</td> \n",
       "        <td id=\"T_9f403ca4_4e61_11e9_ac0f_90324b3f723erow12_col5\" class=\"data row12 col5\" >0.12</td> \n",
       "        <td id=\"T_9f403ca4_4e61_11e9_ac0f_90324b3f723erow12_col6\" class=\"data row12 col6\" >0.2</td> \n",
       "        <td id=\"T_9f403ca4_4e61_11e9_ac0f_90324b3f723erow12_col7\" class=\"data row12 col7\" >0.062</td> \n",
       "        <td id=\"T_9f403ca4_4e61_11e9_ac0f_90324b3f723erow12_col8\" class=\"data row12 col8\" >0.2</td> \n",
       "        <td id=\"T_9f403ca4_4e61_11e9_ac0f_90324b3f723erow12_col9\" class=\"data row12 col9\" >-0.045</td> \n",
       "        <td id=\"T_9f403ca4_4e61_11e9_ac0f_90324b3f723erow12_col10\" class=\"data row12 col10\" >-0.046</td> \n",
       "        <td id=\"T_9f403ca4_4e61_11e9_ac0f_90324b3f723erow12_col11\" class=\"data row12 col11\" >-0.047</td> \n",
       "        <td id=\"T_9f403ca4_4e61_11e9_ac0f_90324b3f723erow12_col12\" class=\"data row12 col12\" >1</td> \n",
       "        <td id=\"T_9f403ca4_4e61_11e9_ac0f_90324b3f723erow12_col13\" class=\"data row12 col13\" >-0.061</td> \n",
       "        <td id=\"T_9f403ca4_4e61_11e9_ac0f_90324b3f723erow12_col14\" class=\"data row12 col14\" >0.94</td> \n",
       "        <td id=\"T_9f403ca4_4e61_11e9_ac0f_90324b3f723erow12_col15\" class=\"data row12 col15\" >-0.0045</td> \n",
       "        <td id=\"T_9f403ca4_4e61_11e9_ac0f_90324b3f723erow12_col16\" class=\"data row12 col16\" >0.017</td> \n",
       "        <td id=\"T_9f403ca4_4e61_11e9_ac0f_90324b3f723erow12_col17\" class=\"data row12 col17\" >-0.0035</td> \n",
       "        <td id=\"T_9f403ca4_4e61_11e9_ac0f_90324b3f723erow12_col18\" class=\"data row12 col18\" >0.035</td> \n",
       "        <td id=\"T_9f403ca4_4e61_11e9_ac0f_90324b3f723erow12_col19\" class=\"data row12 col19\" >0.075</td> \n",
       "        <td id=\"T_9f403ca4_4e61_11e9_ac0f_90324b3f723erow12_col20\" class=\"data row12 col20\" >0.14</td> \n",
       "        <td id=\"T_9f403ca4_4e61_11e9_ac0f_90324b3f723erow12_col21\" class=\"data row12 col21\" >0.21</td> \n",
       "        <td id=\"T_9f403ca4_4e61_11e9_ac0f_90324b3f723erow12_col22\" class=\"data row12 col22\" >0.02</td> \n",
       "        <td id=\"T_9f403ca4_4e61_11e9_ac0f_90324b3f723erow12_col23\" class=\"data row12 col23\" >0.13</td> \n",
       "        <td id=\"T_9f403ca4_4e61_11e9_ac0f_90324b3f723erow12_col24\" class=\"data row12 col24\" >0.019</td> \n",
       "    </tr>    <tr> \n",
       "        <th id=\"T_9f403ca4_4e61_11e9_ac0f_90324b3f723elevel0_row13\" class=\"row_heading level0 row13\" >Score_MV</th> \n",
       "        <td id=\"T_9f403ca4_4e61_11e9_ac0f_90324b3f723erow13_col0\" class=\"data row13 col0\" >-0.32</td> \n",
       "        <td id=\"T_9f403ca4_4e61_11e9_ac0f_90324b3f723erow13_col1\" class=\"data row13 col1\" >0.11</td> \n",
       "        <td id=\"T_9f403ca4_4e61_11e9_ac0f_90324b3f723erow13_col2\" class=\"data row13 col2\" >0.24</td> \n",
       "        <td id=\"T_9f403ca4_4e61_11e9_ac0f_90324b3f723erow13_col3\" class=\"data row13 col3\" >0.47</td> \n",
       "        <td id=\"T_9f403ca4_4e61_11e9_ac0f_90324b3f723erow13_col4\" class=\"data row13 col4\" >0.14</td> \n",
       "        <td id=\"T_9f403ca4_4e61_11e9_ac0f_90324b3f723erow13_col5\" class=\"data row13 col5\" >0.067</td> \n",
       "        <td id=\"T_9f403ca4_4e61_11e9_ac0f_90324b3f723erow13_col6\" class=\"data row13 col6\" >0.56</td> \n",
       "        <td id=\"T_9f403ca4_4e61_11e9_ac0f_90324b3f723erow13_col7\" class=\"data row13 col7\" >0.039</td> \n",
       "        <td id=\"T_9f403ca4_4e61_11e9_ac0f_90324b3f723erow13_col8\" class=\"data row13 col8\" >0.094</td> \n",
       "        <td id=\"T_9f403ca4_4e61_11e9_ac0f_90324b3f723erow13_col9\" class=\"data row13 col9\" >0.45</td> \n",
       "        <td id=\"T_9f403ca4_4e61_11e9_ac0f_90324b3f723erow13_col10\" class=\"data row13 col10\" >0.51</td> \n",
       "        <td id=\"T_9f403ca4_4e61_11e9_ac0f_90324b3f723erow13_col11\" class=\"data row13 col11\" >0.49</td> \n",
       "        <td id=\"T_9f403ca4_4e61_11e9_ac0f_90324b3f723erow13_col12\" class=\"data row13 col12\" >-0.061</td> \n",
       "        <td id=\"T_9f403ca4_4e61_11e9_ac0f_90324b3f723erow13_col13\" class=\"data row13 col13\" >1</td> \n",
       "        <td id=\"T_9f403ca4_4e61_11e9_ac0f_90324b3f723erow13_col14\" class=\"data row13 col14\" >-0.0011</td> \n",
       "        <td id=\"T_9f403ca4_4e61_11e9_ac0f_90324b3f723erow13_col15\" class=\"data row13 col15\" >0.079</td> \n",
       "        <td id=\"T_9f403ca4_4e61_11e9_ac0f_90324b3f723erow13_col16\" class=\"data row13 col16\" >0.13</td> \n",
       "        <td id=\"T_9f403ca4_4e61_11e9_ac0f_90324b3f723erow13_col17\" class=\"data row13 col17\" >0.1</td> \n",
       "        <td id=\"T_9f403ca4_4e61_11e9_ac0f_90324b3f723erow13_col18\" class=\"data row13 col18\" >0.25</td> \n",
       "        <td id=\"T_9f403ca4_4e61_11e9_ac0f_90324b3f723erow13_col19\" class=\"data row13 col19\" >0.33</td> \n",
       "        <td id=\"T_9f403ca4_4e61_11e9_ac0f_90324b3f723erow13_col20\" class=\"data row13 col20\" >0.76</td> \n",
       "        <td id=\"T_9f403ca4_4e61_11e9_ac0f_90324b3f723erow13_col21\" class=\"data row13 col21\" >0.084</td> \n",
       "        <td id=\"T_9f403ca4_4e61_11e9_ac0f_90324b3f723erow13_col22\" class=\"data row13 col22\" >0.22</td> \n",
       "        <td id=\"T_9f403ca4_4e61_11e9_ac0f_90324b3f723erow13_col23\" class=\"data row13 col23\" >0.69</td> \n",
       "        <td id=\"T_9f403ca4_4e61_11e9_ac0f_90324b3f723erow13_col24\" class=\"data row13 col24\" >0.12</td> \n",
       "    </tr>    <tr> \n",
       "        <th id=\"T_9f403ca4_4e61_11e9_ac0f_90324b3f723elevel0_row14\" class=\"row_heading level0 row14\" >Risk_D</th> \n",
       "        <td id=\"T_9f403ca4_4e61_11e9_ac0f_90324b3f723erow14_col0\" class=\"data row14 col0\" >-0.094</td> \n",
       "        <td id=\"T_9f403ca4_4e61_11e9_ac0f_90324b3f723erow14_col1\" class=\"data row14 col1\" >0.018</td> \n",
       "        <td id=\"T_9f403ca4_4e61_11e9_ac0f_90324b3f723erow14_col2\" class=\"data row14 col2\" >0.15</td> \n",
       "        <td id=\"T_9f403ca4_4e61_11e9_ac0f_90324b3f723erow14_col3\" class=\"data row14 col3\" >0.16</td> \n",
       "        <td id=\"T_9f403ca4_4e61_11e9_ac0f_90324b3f723erow14_col4\" class=\"data row14 col4\" >0.18</td> \n",
       "        <td id=\"T_9f403ca4_4e61_11e9_ac0f_90324b3f723erow14_col5\" class=\"data row14 col5\" >0.1</td> \n",
       "        <td id=\"T_9f403ca4_4e61_11e9_ac0f_90324b3f723erow14_col6\" class=\"data row14 col6\" >0.2</td> \n",
       "        <td id=\"T_9f403ca4_4e61_11e9_ac0f_90324b3f723erow14_col7\" class=\"data row14 col7\" >0.058</td> \n",
       "        <td id=\"T_9f403ca4_4e61_11e9_ac0f_90324b3f723erow14_col8\" class=\"data row14 col8\" >0.18</td> \n",
       "        <td id=\"T_9f403ca4_4e61_11e9_ac0f_90324b3f723erow14_col9\" class=\"data row14 col9\" >-0.034</td> \n",
       "        <td id=\"T_9f403ca4_4e61_11e9_ac0f_90324b3f723erow14_col10\" class=\"data row14 col10\" >-0.034</td> \n",
       "        <td id=\"T_9f403ca4_4e61_11e9_ac0f_90324b3f723erow14_col11\" class=\"data row14 col11\" >-0.035</td> \n",
       "        <td id=\"T_9f403ca4_4e61_11e9_ac0f_90324b3f723erow14_col12\" class=\"data row14 col12\" >0.94</td> \n",
       "        <td id=\"T_9f403ca4_4e61_11e9_ac0f_90324b3f723erow14_col13\" class=\"data row14 col13\" >-0.0011</td> \n",
       "        <td id=\"T_9f403ca4_4e61_11e9_ac0f_90324b3f723erow14_col14\" class=\"data row14 col14\" >1</td> \n",
       "        <td id=\"T_9f403ca4_4e61_11e9_ac0f_90324b3f723erow14_col15\" class=\"data row14 col15\" >0.0056</td> \n",
       "        <td id=\"T_9f403ca4_4e61_11e9_ac0f_90324b3f723erow14_col16\" class=\"data row14 col16\" >0.026</td> \n",
       "        <td id=\"T_9f403ca4_4e61_11e9_ac0f_90324b3f723erow14_col17\" class=\"data row14 col17\" >0.0077</td> \n",
       "        <td id=\"T_9f403ca4_4e61_11e9_ac0f_90324b3f723erow14_col18\" class=\"data row14 col18\" >0.046</td> \n",
       "        <td id=\"T_9f403ca4_4e61_11e9_ac0f_90324b3f723erow14_col19\" class=\"data row14 col19\" >0.089</td> \n",
       "        <td id=\"T_9f403ca4_4e61_11e9_ac0f_90324b3f723erow14_col20\" class=\"data row14 col20\" >0.16</td> \n",
       "        <td id=\"T_9f403ca4_4e61_11e9_ac0f_90324b3f723erow14_col21\" class=\"data row14 col21\" >0.2</td> \n",
       "        <td id=\"T_9f403ca4_4e61_11e9_ac0f_90324b3f723erow14_col22\" class=\"data row14 col22\" >0.033</td> \n",
       "        <td id=\"T_9f403ca4_4e61_11e9_ac0f_90324b3f723erow14_col23\" class=\"data row14 col23\" >0.15</td> \n",
       "        <td id=\"T_9f403ca4_4e61_11e9_ac0f_90324b3f723erow14_col24\" class=\"data row14 col24\" >0.028</td> \n",
       "    </tr>    <tr> \n",
       "        <th id=\"T_9f403ca4_4e61_11e9_ac0f_90324b3f723elevel0_row15\" class=\"row_heading level0 row15\" >District_Loss</th> \n",
       "        <td id=\"T_9f403ca4_4e61_11e9_ac0f_90324b3f723erow15_col0\" class=\"data row15 col0\" >-0.11</td> \n",
       "        <td id=\"T_9f403ca4_4e61_11e9_ac0f_90324b3f723erow15_col1\" class=\"data row15 col1\" >-0.11</td> \n",
       "        <td id=\"T_9f403ca4_4e61_11e9_ac0f_90324b3f723erow15_col2\" class=\"data row15 col2\" >0.054</td> \n",
       "        <td id=\"T_9f403ca4_4e61_11e9_ac0f_90324b3f723erow15_col3\" class=\"data row15 col3\" >0.086</td> \n",
       "        <td id=\"T_9f403ca4_4e61_11e9_ac0f_90324b3f723erow15_col4\" class=\"data row15 col4\" >0.03</td> \n",
       "        <td id=\"T_9f403ca4_4e61_11e9_ac0f_90324b3f723erow15_col5\" class=\"data row15 col5\" >-0.0015</td> \n",
       "        <td id=\"T_9f403ca4_4e61_11e9_ac0f_90324b3f723erow15_col6\" class=\"data row15 col6\" >-0.0077</td> \n",
       "        <td id=\"T_9f403ca4_4e61_11e9_ac0f_90324b3f723erow15_col7\" class=\"data row15 col7\" >0.036</td> \n",
       "        <td id=\"T_9f403ca4_4e61_11e9_ac0f_90324b3f723erow15_col8\" class=\"data row15 col8\" >0.022</td> \n",
       "        <td id=\"T_9f403ca4_4e61_11e9_ac0f_90324b3f723erow15_col9\" class=\"data row15 col9\" >0.12</td> \n",
       "        <td id=\"T_9f403ca4_4e61_11e9_ac0f_90324b3f723erow15_col10\" class=\"data row15 col10\" >0.15</td> \n",
       "        <td id=\"T_9f403ca4_4e61_11e9_ac0f_90324b3f723erow15_col11\" class=\"data row15 col11\" >0.15</td> \n",
       "        <td id=\"T_9f403ca4_4e61_11e9_ac0f_90324b3f723erow15_col12\" class=\"data row15 col12\" >-0.0045</td> \n",
       "        <td id=\"T_9f403ca4_4e61_11e9_ac0f_90324b3f723erow15_col13\" class=\"data row15 col13\" >0.079</td> \n",
       "        <td id=\"T_9f403ca4_4e61_11e9_ac0f_90324b3f723erow15_col14\" class=\"data row15 col14\" >0.0056</td> \n",
       "        <td id=\"T_9f403ca4_4e61_11e9_ac0f_90324b3f723erow15_col15\" class=\"data row15 col15\" >1</td> \n",
       "        <td id=\"T_9f403ca4_4e61_11e9_ac0f_90324b3f723erow15_col16\" class=\"data row15 col16\" >0.055</td> \n",
       "        <td id=\"T_9f403ca4_4e61_11e9_ac0f_90324b3f723erow15_col17\" class=\"data row15 col17\" >0.91</td> \n",
       "        <td id=\"T_9f403ca4_4e61_11e9_ac0f_90324b3f723erow15_col18\" class=\"data row15 col18\" >0.069</td> \n",
       "        <td id=\"T_9f403ca4_4e61_11e9_ac0f_90324b3f723erow15_col19\" class=\"data row15 col19\" >0.083</td> \n",
       "        <td id=\"T_9f403ca4_4e61_11e9_ac0f_90324b3f723erow15_col20\" class=\"data row15 col20\" >0.21</td> \n",
       "        <td id=\"T_9f403ca4_4e61_11e9_ac0f_90324b3f723erow15_col21\" class=\"data row15 col21\" >0.095</td> \n",
       "        <td id=\"T_9f403ca4_4e61_11e9_ac0f_90324b3f723erow15_col22\" class=\"data row15 col22\" >0.64</td> \n",
       "        <td id=\"T_9f403ca4_4e61_11e9_ac0f_90324b3f723erow15_col23\" class=\"data row15 col23\" >0.4</td> \n",
       "        <td id=\"T_9f403ca4_4e61_11e9_ac0f_90324b3f723erow15_col24\" class=\"data row15 col24\" >0.036</td> \n",
       "    </tr>    <tr> \n",
       "        <th id=\"T_9f403ca4_4e61_11e9_ac0f_90324b3f723elevel0_row16\" class=\"row_heading level0 row16\" >PROB</th> \n",
       "        <td id=\"T_9f403ca4_4e61_11e9_ac0f_90324b3f723erow16_col0\" class=\"data row16 col0\" >-0.086</td> \n",
       "        <td id=\"T_9f403ca4_4e61_11e9_ac0f_90324b3f723erow16_col1\" class=\"data row16 col1\" >-0.0034</td> \n",
       "        <td id=\"T_9f403ca4_4e61_11e9_ac0f_90324b3f723erow16_col2\" class=\"data row16 col2\" >0.05</td> \n",
       "        <td id=\"T_9f403ca4_4e61_11e9_ac0f_90324b3f723erow16_col3\" class=\"data row16 col3\" >0.091</td> \n",
       "        <td id=\"T_9f403ca4_4e61_11e9_ac0f_90324b3f723erow16_col4\" class=\"data row16 col4\" >0.013</td> \n",
       "        <td id=\"T_9f403ca4_4e61_11e9_ac0f_90324b3f723erow16_col5\" class=\"data row16 col5\" >0.035</td> \n",
       "        <td id=\"T_9f403ca4_4e61_11e9_ac0f_90324b3f723erow16_col6\" class=\"data row16 col6\" >0.091</td> \n",
       "        <td id=\"T_9f403ca4_4e61_11e9_ac0f_90324b3f723erow16_col7\" class=\"data row16 col7\" >0.046</td> \n",
       "        <td id=\"T_9f403ca4_4e61_11e9_ac0f_90324b3f723erow16_col8\" class=\"data row16 col8\" >0.042</td> \n",
       "        <td id=\"T_9f403ca4_4e61_11e9_ac0f_90324b3f723erow16_col9\" class=\"data row16 col9\" >0.035</td> \n",
       "        <td id=\"T_9f403ca4_4e61_11e9_ac0f_90324b3f723erow16_col10\" class=\"data row16 col10\" >0.036</td> \n",
       "        <td id=\"T_9f403ca4_4e61_11e9_ac0f_90324b3f723erow16_col11\" class=\"data row16 col11\" >0.035</td> \n",
       "        <td id=\"T_9f403ca4_4e61_11e9_ac0f_90324b3f723erow16_col12\" class=\"data row16 col12\" >0.017</td> \n",
       "        <td id=\"T_9f403ca4_4e61_11e9_ac0f_90324b3f723erow16_col13\" class=\"data row16 col13\" >0.13</td> \n",
       "        <td id=\"T_9f403ca4_4e61_11e9_ac0f_90324b3f723erow16_col14\" class=\"data row16 col14\" >0.026</td> \n",
       "        <td id=\"T_9f403ca4_4e61_11e9_ac0f_90324b3f723erow16_col15\" class=\"data row16 col15\" >0.055</td> \n",
       "        <td id=\"T_9f403ca4_4e61_11e9_ac0f_90324b3f723erow16_col16\" class=\"data row16 col16\" >1</td> \n",
       "        <td id=\"T_9f403ca4_4e61_11e9_ac0f_90324b3f723erow16_col17\" class=\"data row16 col17\" >0.41</td> \n",
       "        <td id=\"T_9f403ca4_4e61_11e9_ac0f_90324b3f723erow16_col18\" class=\"data row16 col18\" >0.11</td> \n",
       "        <td id=\"T_9f403ca4_4e61_11e9_ac0f_90324b3f723erow16_col19\" class=\"data row16 col19\" >0.14</td> \n",
       "        <td id=\"T_9f403ca4_4e61_11e9_ac0f_90324b3f723erow16_col20\" class=\"data row16 col20\" >0.17</td> \n",
       "        <td id=\"T_9f403ca4_4e61_11e9_ac0f_90324b3f723erow16_col21\" class=\"data row16 col21\" >0.13</td> \n",
       "        <td id=\"T_9f403ca4_4e61_11e9_ac0f_90324b3f723erow16_col22\" class=\"data row16 col22\" >0.34</td> \n",
       "        <td id=\"T_9f403ca4_4e61_11e9_ac0f_90324b3f723erow16_col23\" class=\"data row16 col23\" >0.18</td> \n",
       "        <td id=\"T_9f403ca4_4e61_11e9_ac0f_90324b3f723erow16_col24\" class=\"data row16 col24\" >0.98</td> \n",
       "    </tr>    <tr> \n",
       "        <th id=\"T_9f403ca4_4e61_11e9_ac0f_90324b3f723elevel0_row17\" class=\"row_heading level0 row17\" >RiSk_E</th> \n",
       "        <td id=\"T_9f403ca4_4e61_11e9_ac0f_90324b3f723erow17_col0\" class=\"data row17 col0\" >-0.13</td> \n",
       "        <td id=\"T_9f403ca4_4e61_11e9_ac0f_90324b3f723erow17_col1\" class=\"data row17 col1\" >-0.097</td> \n",
       "        <td id=\"T_9f403ca4_4e61_11e9_ac0f_90324b3f723erow17_col2\" class=\"data row17 col2\" >0.059</td> \n",
       "        <td id=\"T_9f403ca4_4e61_11e9_ac0f_90324b3f723erow17_col3\" class=\"data row17 col3\" >0.1</td> \n",
       "        <td id=\"T_9f403ca4_4e61_11e9_ac0f_90324b3f723erow17_col4\" class=\"data row17 col4\" >0.027</td> \n",
       "        <td id=\"T_9f403ca4_4e61_11e9_ac0f_90324b3f723erow17_col5\" class=\"data row17 col5\" >-0.0034</td> \n",
       "        <td id=\"T_9f403ca4_4e61_11e9_ac0f_90324b3f723erow17_col6\" class=\"data row17 col6\" >0.012</td> \n",
       "        <td id=\"T_9f403ca4_4e61_11e9_ac0f_90324b3f723erow17_col7\" class=\"data row17 col7\" >0.034</td> \n",
       "        <td id=\"T_9f403ca4_4e61_11e9_ac0f_90324b3f723erow17_col8\" class=\"data row17 col8\" >0.033</td> \n",
       "        <td id=\"T_9f403ca4_4e61_11e9_ac0f_90324b3f723erow17_col9\" class=\"data row17 col9\" >0.14</td> \n",
       "        <td id=\"T_9f403ca4_4e61_11e9_ac0f_90324b3f723erow17_col10\" class=\"data row17 col10\" >0.16</td> \n",
       "        <td id=\"T_9f403ca4_4e61_11e9_ac0f_90324b3f723erow17_col11\" class=\"data row17 col11\" >0.15</td> \n",
       "        <td id=\"T_9f403ca4_4e61_11e9_ac0f_90324b3f723erow17_col12\" class=\"data row17 col12\" >-0.0035</td> \n",
       "        <td id=\"T_9f403ca4_4e61_11e9_ac0f_90324b3f723erow17_col13\" class=\"data row17 col13\" >0.1</td> \n",
       "        <td id=\"T_9f403ca4_4e61_11e9_ac0f_90324b3f723erow17_col14\" class=\"data row17 col14\" >0.0077</td> \n",
       "        <td id=\"T_9f403ca4_4e61_11e9_ac0f_90324b3f723erow17_col15\" class=\"data row17 col15\" >0.91</td> \n",
       "        <td id=\"T_9f403ca4_4e61_11e9_ac0f_90324b3f723erow17_col16\" class=\"data row17 col16\" >0.41</td> \n",
       "        <td id=\"T_9f403ca4_4e61_11e9_ac0f_90324b3f723erow17_col17\" class=\"data row17 col17\" >1</td> \n",
       "        <td id=\"T_9f403ca4_4e61_11e9_ac0f_90324b3f723erow17_col18\" class=\"data row17 col18\" >0.11</td> \n",
       "        <td id=\"T_9f403ca4_4e61_11e9_ac0f_90324b3f723erow17_col19\" class=\"data row17 col19\" >0.12</td> \n",
       "        <td id=\"T_9f403ca4_4e61_11e9_ac0f_90324b3f723erow17_col20\" class=\"data row17 col20\" >0.23</td> \n",
       "        <td id=\"T_9f403ca4_4e61_11e9_ac0f_90324b3f723erow17_col21\" class=\"data row17 col21\" >0.12</td> \n",
       "        <td id=\"T_9f403ca4_4e61_11e9_ac0f_90324b3f723erow17_col22\" class=\"data row17 col22\" >0.73</td> \n",
       "        <td id=\"T_9f403ca4_4e61_11e9_ac0f_90324b3f723erow17_col23\" class=\"data row17 col23\" >0.41</td> \n",
       "        <td id=\"T_9f403ca4_4e61_11e9_ac0f_90324b3f723erow17_col24\" class=\"data row17 col24\" >0.37</td> \n",
       "    </tr>    <tr> \n",
       "        <th id=\"T_9f403ca4_4e61_11e9_ac0f_90324b3f723elevel0_row18\" class=\"row_heading level0 row18\" >History</th> \n",
       "        <td id=\"T_9f403ca4_4e61_11e9_ac0f_90324b3f723erow18_col0\" class=\"data row18 col0\" >-0.11</td> \n",
       "        <td id=\"T_9f403ca4_4e61_11e9_ac0f_90324b3f723erow18_col1\" class=\"data row18 col1\" >-0.082</td> \n",
       "        <td id=\"T_9f403ca4_4e61_11e9_ac0f_90324b3f723erow18_col2\" class=\"data row18 col2\" >0.091</td> \n",
       "        <td id=\"T_9f403ca4_4e61_11e9_ac0f_90324b3f723erow18_col3\" class=\"data row18 col3\" >0.18</td> \n",
       "        <td id=\"T_9f403ca4_4e61_11e9_ac0f_90324b3f723erow18_col4\" class=\"data row18 col4\" >0.067</td> \n",
       "        <td id=\"T_9f403ca4_4e61_11e9_ac0f_90324b3f723erow18_col5\" class=\"data row18 col5\" >0.11</td> \n",
       "        <td id=\"T_9f403ca4_4e61_11e9_ac0f_90324b3f723erow18_col6\" class=\"data row18 col6\" >0.2</td> \n",
       "        <td id=\"T_9f403ca4_4e61_11e9_ac0f_90324b3f723erow18_col7\" class=\"data row18 col7\" >0.063</td> \n",
       "        <td id=\"T_9f403ca4_4e61_11e9_ac0f_90324b3f723erow18_col8\" class=\"data row18 col8\" >0.057</td> \n",
       "        <td id=\"T_9f403ca4_4e61_11e9_ac0f_90324b3f723erow18_col9\" class=\"data row18 col9\" >0.2</td> \n",
       "        <td id=\"T_9f403ca4_4e61_11e9_ac0f_90324b3f723erow18_col10\" class=\"data row18 col10\" >0.23</td> \n",
       "        <td id=\"T_9f403ca4_4e61_11e9_ac0f_90324b3f723erow18_col11\" class=\"data row18 col11\" >0.22</td> \n",
       "        <td id=\"T_9f403ca4_4e61_11e9_ac0f_90324b3f723erow18_col12\" class=\"data row18 col12\" >0.035</td> \n",
       "        <td id=\"T_9f403ca4_4e61_11e9_ac0f_90324b3f723erow18_col13\" class=\"data row18 col13\" >0.25</td> \n",
       "        <td id=\"T_9f403ca4_4e61_11e9_ac0f_90324b3f723erow18_col14\" class=\"data row18 col14\" >0.046</td> \n",
       "        <td id=\"T_9f403ca4_4e61_11e9_ac0f_90324b3f723erow18_col15\" class=\"data row18 col15\" >0.069</td> \n",
       "        <td id=\"T_9f403ca4_4e61_11e9_ac0f_90324b3f723erow18_col16\" class=\"data row18 col16\" >0.11</td> \n",
       "        <td id=\"T_9f403ca4_4e61_11e9_ac0f_90324b3f723erow18_col17\" class=\"data row18 col17\" >0.11</td> \n",
       "        <td id=\"T_9f403ca4_4e61_11e9_ac0f_90324b3f723erow18_col18\" class=\"data row18 col18\" >1</td> \n",
       "        <td id=\"T_9f403ca4_4e61_11e9_ac0f_90324b3f723erow18_col19\" class=\"data row18 col19\" >0.86</td> \n",
       "        <td id=\"T_9f403ca4_4e61_11e9_ac0f_90324b3f723erow18_col20\" class=\"data row18 col20\" >0.33</td> \n",
       "        <td id=\"T_9f403ca4_4e61_11e9_ac0f_90324b3f723erow18_col21\" class=\"data row18 col21\" >0.087</td> \n",
       "        <td id=\"T_9f403ca4_4e61_11e9_ac0f_90324b3f723erow18_col22\" class=\"data row18 col22\" >0.76</td> \n",
       "        <td id=\"T_9f403ca4_4e61_11e9_ac0f_90324b3f723erow18_col23\" class=\"data row18 col23\" >0.24</td> \n",
       "        <td id=\"T_9f403ca4_4e61_11e9_ac0f_90324b3f723erow18_col24\" class=\"data row18 col24\" >0.06</td> \n",
       "    </tr>    <tr> \n",
       "        <th id=\"T_9f403ca4_4e61_11e9_ac0f_90324b3f723elevel0_row19\" class=\"row_heading level0 row19\" >Prob</th> \n",
       "        <td id=\"T_9f403ca4_4e61_11e9_ac0f_90324b3f723erow19_col0\" class=\"data row19 col0\" >-0.14</td> \n",
       "        <td id=\"T_9f403ca4_4e61_11e9_ac0f_90324b3f723erow19_col1\" class=\"data row19 col1\" >-0.054</td> \n",
       "        <td id=\"T_9f403ca4_4e61_11e9_ac0f_90324b3f723erow19_col2\" class=\"data row19 col2\" >0.12</td> \n",
       "        <td id=\"T_9f403ca4_4e61_11e9_ac0f_90324b3f723erow19_col3\" class=\"data row19 col3\" >0.26</td> \n",
       "        <td id=\"T_9f403ca4_4e61_11e9_ac0f_90324b3f723erow19_col4\" class=\"data row19 col4\" >0.066</td> \n",
       "        <td id=\"T_9f403ca4_4e61_11e9_ac0f_90324b3f723erow19_col5\" class=\"data row19 col5\" >0.058</td> \n",
       "        <td id=\"T_9f403ca4_4e61_11e9_ac0f_90324b3f723erow19_col6\" class=\"data row19 col6\" >0.31</td> \n",
       "        <td id=\"T_9f403ca4_4e61_11e9_ac0f_90324b3f723erow19_col7\" class=\"data row19 col7\" >0.051</td> \n",
       "        <td id=\"T_9f403ca4_4e61_11e9_ac0f_90324b3f723erow19_col8\" class=\"data row19 col8\" >0.052</td> \n",
       "        <td id=\"T_9f403ca4_4e61_11e9_ac0f_90324b3f723erow19_col9\" class=\"data row19 col9\" >0.21</td> \n",
       "        <td id=\"T_9f403ca4_4e61_11e9_ac0f_90324b3f723erow19_col10\" class=\"data row19 col10\" >0.25</td> \n",
       "        <td id=\"T_9f403ca4_4e61_11e9_ac0f_90324b3f723erow19_col11\" class=\"data row19 col11\" >0.24</td> \n",
       "        <td id=\"T_9f403ca4_4e61_11e9_ac0f_90324b3f723erow19_col12\" class=\"data row19 col12\" >0.075</td> \n",
       "        <td id=\"T_9f403ca4_4e61_11e9_ac0f_90324b3f723erow19_col13\" class=\"data row19 col13\" >0.33</td> \n",
       "        <td id=\"T_9f403ca4_4e61_11e9_ac0f_90324b3f723erow19_col14\" class=\"data row19 col14\" >0.089</td> \n",
       "        <td id=\"T_9f403ca4_4e61_11e9_ac0f_90324b3f723erow19_col15\" class=\"data row19 col15\" >0.083</td> \n",
       "        <td id=\"T_9f403ca4_4e61_11e9_ac0f_90324b3f723erow19_col16\" class=\"data row19 col16\" >0.14</td> \n",
       "        <td id=\"T_9f403ca4_4e61_11e9_ac0f_90324b3f723erow19_col17\" class=\"data row19 col17\" >0.12</td> \n",
       "        <td id=\"T_9f403ca4_4e61_11e9_ac0f_90324b3f723erow19_col18\" class=\"data row19 col18\" >0.86</td> \n",
       "        <td id=\"T_9f403ca4_4e61_11e9_ac0f_90324b3f723erow19_col19\" class=\"data row19 col19\" >1</td> \n",
       "        <td id=\"T_9f403ca4_4e61_11e9_ac0f_90324b3f723erow19_col20\" class=\"data row19 col20\" >0.44</td> \n",
       "        <td id=\"T_9f403ca4_4e61_11e9_ac0f_90324b3f723erow19_col21\" class=\"data row19 col21\" >0.069</td> \n",
       "        <td id=\"T_9f403ca4_4e61_11e9_ac0f_90324b3f723erow19_col22\" class=\"data row19 col22\" >0.64</td> \n",
       "        <td id=\"T_9f403ca4_4e61_11e9_ac0f_90324b3f723erow19_col23\" class=\"data row19 col23\" >0.3</td> \n",
       "        <td id=\"T_9f403ca4_4e61_11e9_ac0f_90324b3f723erow19_col24\" class=\"data row19 col24\" >0.1</td> \n",
       "    </tr>    <tr> \n",
       "        <th id=\"T_9f403ca4_4e61_11e9_ac0f_90324b3f723elevel0_row20\" class=\"row_heading level0 row20\" >Score</th> \n",
       "        <td id=\"T_9f403ca4_4e61_11e9_ac0f_90324b3f723erow20_col0\" class=\"data row20 col0\" >-0.33</td> \n",
       "        <td id=\"T_9f403ca4_4e61_11e9_ac0f_90324b3f723erow20_col1\" class=\"data row20 col1\" >0.088</td> \n",
       "        <td id=\"T_9f403ca4_4e61_11e9_ac0f_90324b3f723erow20_col2\" class=\"data row20 col2\" >0.41</td> \n",
       "        <td id=\"T_9f403ca4_4e61_11e9_ac0f_90324b3f723erow20_col3\" class=\"data row20 col3\" >0.72</td> \n",
       "        <td id=\"T_9f403ca4_4e61_11e9_ac0f_90324b3f723erow20_col4\" class=\"data row20 col4\" >0.26</td> \n",
       "        <td id=\"T_9f403ca4_4e61_11e9_ac0f_90324b3f723erow20_col5\" class=\"data row20 col5\" >0.26</td> \n",
       "        <td id=\"T_9f403ca4_4e61_11e9_ac0f_90324b3f723erow20_col6\" class=\"data row20 col6\" >0.9</td> \n",
       "        <td id=\"T_9f403ca4_4e61_11e9_ac0f_90324b3f723erow20_col7\" class=\"data row20 col7\" >0.21</td> \n",
       "        <td id=\"T_9f403ca4_4e61_11e9_ac0f_90324b3f723erow20_col8\" class=\"data row20 col8\" >0.31</td> \n",
       "        <td id=\"T_9f403ca4_4e61_11e9_ac0f_90324b3f723erow20_col9\" class=\"data row20 col9\" >0.5</td> \n",
       "        <td id=\"T_9f403ca4_4e61_11e9_ac0f_90324b3f723erow20_col10\" class=\"data row20 col10\" >0.57</td> \n",
       "        <td id=\"T_9f403ca4_4e61_11e9_ac0f_90324b3f723erow20_col11\" class=\"data row20 col11\" >0.55</td> \n",
       "        <td id=\"T_9f403ca4_4e61_11e9_ac0f_90324b3f723erow20_col12\" class=\"data row20 col12\" >0.14</td> \n",
       "        <td id=\"T_9f403ca4_4e61_11e9_ac0f_90324b3f723erow20_col13\" class=\"data row20 col13\" >0.76</td> \n",
       "        <td id=\"T_9f403ca4_4e61_11e9_ac0f_90324b3f723erow20_col14\" class=\"data row20 col14\" >0.16</td> \n",
       "        <td id=\"T_9f403ca4_4e61_11e9_ac0f_90324b3f723erow20_col15\" class=\"data row20 col15\" >0.21</td> \n",
       "        <td id=\"T_9f403ca4_4e61_11e9_ac0f_90324b3f723erow20_col16\" class=\"data row20 col16\" >0.17</td> \n",
       "        <td id=\"T_9f403ca4_4e61_11e9_ac0f_90324b3f723erow20_col17\" class=\"data row20 col17\" >0.23</td> \n",
       "        <td id=\"T_9f403ca4_4e61_11e9_ac0f_90324b3f723erow20_col18\" class=\"data row20 col18\" >0.33</td> \n",
       "        <td id=\"T_9f403ca4_4e61_11e9_ac0f_90324b3f723erow20_col19\" class=\"data row20 col19\" >0.44</td> \n",
       "        <td id=\"T_9f403ca4_4e61_11e9_ac0f_90324b3f723erow20_col20\" class=\"data row20 col20\" >1</td> \n",
       "        <td id=\"T_9f403ca4_4e61_11e9_ac0f_90324b3f723erow20_col21\" class=\"data row20 col21\" >0.25</td> \n",
       "        <td id=\"T_9f403ca4_4e61_11e9_ac0f_90324b3f723erow20_col22\" class=\"data row20 col22\" >0.35</td> \n",
       "        <td id=\"T_9f403ca4_4e61_11e9_ac0f_90324b3f723erow20_col23\" class=\"data row20 col23\" >0.78</td> \n",
       "        <td id=\"T_9f403ca4_4e61_11e9_ac0f_90324b3f723erow20_col24\" class=\"data row20 col24\" >0.16</td> \n",
       "    </tr>    <tr> \n",
       "        <th id=\"T_9f403ca4_4e61_11e9_ac0f_90324b3f723elevel0_row21\" class=\"row_heading level0 row21\" >Inherent_Risk</th> \n",
       "        <td id=\"T_9f403ca4_4e61_11e9_ac0f_90324b3f723erow21_col0\" class=\"data row21 col0\" >-0.18</td> \n",
       "        <td id=\"T_9f403ca4_4e61_11e9_ac0f_90324b3f723erow21_col1\" class=\"data row21 col1\" >0.044</td> \n",
       "        <td id=\"T_9f403ca4_4e61_11e9_ac0f_90324b3f723erow21_col2\" class=\"data row21 col2\" >0.32</td> \n",
       "        <td id=\"T_9f403ca4_4e61_11e9_ac0f_90324b3f723erow21_col3\" class=\"data row21 col3\" >0.4</td> \n",
       "        <td id=\"T_9f403ca4_4e61_11e9_ac0f_90324b3f723erow21_col4\" class=\"data row21 col4\" >0.27</td> \n",
       "        <td id=\"T_9f403ca4_4e61_11e9_ac0f_90324b3f723erow21_col5\" class=\"data row21 col5\" >0.32</td> \n",
       "        <td id=\"T_9f403ca4_4e61_11e9_ac0f_90324b3f723erow21_col6\" class=\"data row21 col6\" >0.23</td> \n",
       "        <td id=\"T_9f403ca4_4e61_11e9_ac0f_90324b3f723erow21_col7\" class=\"data row21 col7\" >0.29</td> \n",
       "        <td id=\"T_9f403ca4_4e61_11e9_ac0f_90324b3f723erow21_col8\" class=\"data row21 col8\" >0.49</td> \n",
       "        <td id=\"T_9f403ca4_4e61_11e9_ac0f_90324b3f723erow21_col9\" class=\"data row21 col9\" >-0.05</td> \n",
       "        <td id=\"T_9f403ca4_4e61_11e9_ac0f_90324b3f723erow21_col10\" class=\"data row21 col10\" >-0.057</td> \n",
       "        <td id=\"T_9f403ca4_4e61_11e9_ac0f_90324b3f723erow21_col11\" class=\"data row21 col11\" >-0.055</td> \n",
       "        <td id=\"T_9f403ca4_4e61_11e9_ac0f_90324b3f723erow21_col12\" class=\"data row21 col12\" >0.21</td> \n",
       "        <td id=\"T_9f403ca4_4e61_11e9_ac0f_90324b3f723erow21_col13\" class=\"data row21 col13\" >0.084</td> \n",
       "        <td id=\"T_9f403ca4_4e61_11e9_ac0f_90324b3f723erow21_col14\" class=\"data row21 col14\" >0.2</td> \n",
       "        <td id=\"T_9f403ca4_4e61_11e9_ac0f_90324b3f723erow21_col15\" class=\"data row21 col15\" >0.095</td> \n",
       "        <td id=\"T_9f403ca4_4e61_11e9_ac0f_90324b3f723erow21_col16\" class=\"data row21 col16\" >0.13</td> \n",
       "        <td id=\"T_9f403ca4_4e61_11e9_ac0f_90324b3f723erow21_col17\" class=\"data row21 col17\" >0.12</td> \n",
       "        <td id=\"T_9f403ca4_4e61_11e9_ac0f_90324b3f723erow21_col18\" class=\"data row21 col18\" >0.087</td> \n",
       "        <td id=\"T_9f403ca4_4e61_11e9_ac0f_90324b3f723erow21_col19\" class=\"data row21 col19\" >0.069</td> \n",
       "        <td id=\"T_9f403ca4_4e61_11e9_ac0f_90324b3f723erow21_col20\" class=\"data row21 col20\" >0.25</td> \n",
       "        <td id=\"T_9f403ca4_4e61_11e9_ac0f_90324b3f723erow21_col21\" class=\"data row21 col21\" >1</td> \n",
       "        <td id=\"T_9f403ca4_4e61_11e9_ac0f_90324b3f723erow21_col22\" class=\"data row21 col22\" >0.14</td> \n",
       "        <td id=\"T_9f403ca4_4e61_11e9_ac0f_90324b3f723erow21_col23\" class=\"data row21 col23\" >0.44</td> \n",
       "        <td id=\"T_9f403ca4_4e61_11e9_ac0f_90324b3f723erow21_col24\" class=\"data row21 col24\" >0.13</td> \n",
       "    </tr>    <tr> \n",
       "        <th id=\"T_9f403ca4_4e61_11e9_ac0f_90324b3f723elevel0_row22\" class=\"row_heading level0 row22\" >CONTROL_RISK</th> \n",
       "        <td id=\"T_9f403ca4_4e61_11e9_ac0f_90324b3f723erow22_col0\" class=\"data row22 col0\" >-0.16</td> \n",
       "        <td id=\"T_9f403ca4_4e61_11e9_ac0f_90324b3f723erow22_col1\" class=\"data row22 col1\" >-0.12</td> \n",
       "        <td id=\"T_9f403ca4_4e61_11e9_ac0f_90324b3f723erow22_col2\" class=\"data row22 col2\" >0.092</td> \n",
       "        <td id=\"T_9f403ca4_4e61_11e9_ac0f_90324b3f723erow22_col3\" class=\"data row22 col3\" >0.17</td> \n",
       "        <td id=\"T_9f403ca4_4e61_11e9_ac0f_90324b3f723erow22_col4\" class=\"data row22 col4\" >0.059</td> \n",
       "        <td id=\"T_9f403ca4_4e61_11e9_ac0f_90324b3f723erow22_col5\" class=\"data row22 col5\" >0.074</td> \n",
       "        <td id=\"T_9f403ca4_4e61_11e9_ac0f_90324b3f723erow22_col6\" class=\"data row22 col6\" >0.12</td> \n",
       "        <td id=\"T_9f403ca4_4e61_11e9_ac0f_90324b3f723erow22_col7\" class=\"data row22 col7\" >0.064</td> \n",
       "        <td id=\"T_9f403ca4_4e61_11e9_ac0f_90324b3f723erow22_col8\" class=\"data row22 col8\" >0.059</td> \n",
       "        <td id=\"T_9f403ca4_4e61_11e9_ac0f_90324b3f723erow22_col9\" class=\"data row22 col9\" >0.23</td> \n",
       "        <td id=\"T_9f403ca4_4e61_11e9_ac0f_90324b3f723erow22_col10\" class=\"data row22 col10\" >0.26</td> \n",
       "        <td id=\"T_9f403ca4_4e61_11e9_ac0f_90324b3f723erow22_col11\" class=\"data row22 col11\" >0.25</td> \n",
       "        <td id=\"T_9f403ca4_4e61_11e9_ac0f_90324b3f723erow22_col12\" class=\"data row22 col12\" >0.02</td> \n",
       "        <td id=\"T_9f403ca4_4e61_11e9_ac0f_90324b3f723erow22_col13\" class=\"data row22 col13\" >0.22</td> \n",
       "        <td id=\"T_9f403ca4_4e61_11e9_ac0f_90324b3f723erow22_col14\" class=\"data row22 col14\" >0.033</td> \n",
       "        <td id=\"T_9f403ca4_4e61_11e9_ac0f_90324b3f723erow22_col15\" class=\"data row22 col15\" >0.64</td> \n",
       "        <td id=\"T_9f403ca4_4e61_11e9_ac0f_90324b3f723erow22_col16\" class=\"data row22 col16\" >0.34</td> \n",
       "        <td id=\"T_9f403ca4_4e61_11e9_ac0f_90324b3f723erow22_col17\" class=\"data row22 col17\" >0.73</td> \n",
       "        <td id=\"T_9f403ca4_4e61_11e9_ac0f_90324b3f723erow22_col18\" class=\"data row22 col18\" >0.76</td> \n",
       "        <td id=\"T_9f403ca4_4e61_11e9_ac0f_90324b3f723erow22_col19\" class=\"data row22 col19\" >0.64</td> \n",
       "        <td id=\"T_9f403ca4_4e61_11e9_ac0f_90324b3f723erow22_col20\" class=\"data row22 col20\" >0.35</td> \n",
       "        <td id=\"T_9f403ca4_4e61_11e9_ac0f_90324b3f723erow22_col21\" class=\"data row22 col21\" >0.14</td> \n",
       "        <td id=\"T_9f403ca4_4e61_11e9_ac0f_90324b3f723erow22_col22\" class=\"data row22 col22\" >1</td> \n",
       "        <td id=\"T_9f403ca4_4e61_11e9_ac0f_90324b3f723erow22_col23\" class=\"data row22 col23\" >0.41</td> \n",
       "        <td id=\"T_9f403ca4_4e61_11e9_ac0f_90324b3f723erow22_col24\" class=\"data row22 col24\" >0.28</td> \n",
       "    </tr>    <tr> \n",
       "        <th id=\"T_9f403ca4_4e61_11e9_ac0f_90324b3f723elevel0_row23\" class=\"row_heading level0 row23\" >Risk</th> \n",
       "        <td id=\"T_9f403ca4_4e61_11e9_ac0f_90324b3f723erow23_col0\" class=\"data row23 col0\" >-0.39</td> \n",
       "        <td id=\"T_9f403ca4_4e61_11e9_ac0f_90324b3f723erow23_col1\" class=\"data row23 col1\" >0.063</td> \n",
       "        <td id=\"T_9f403ca4_4e61_11e9_ac0f_90324b3f723erow23_col2\" class=\"data row23 col2\" >0.33</td> \n",
       "        <td id=\"T_9f403ca4_4e61_11e9_ac0f_90324b3f723erow23_col3\" class=\"data row23 col3\" >0.62</td> \n",
       "        <td id=\"T_9f403ca4_4e61_11e9_ac0f_90324b3f723erow23_col4\" class=\"data row23 col4\" >0.21</td> \n",
       "        <td id=\"T_9f403ca4_4e61_11e9_ac0f_90324b3f723erow23_col5\" class=\"data row23 col5\" >0.16</td> \n",
       "        <td id=\"T_9f403ca4_4e61_11e9_ac0f_90324b3f723erow23_col6\" class=\"data row23 col6\" >0.63</td> \n",
       "        <td id=\"T_9f403ca4_4e61_11e9_ac0f_90324b3f723erow23_col7\" class=\"data row23 col7\" >0.13</td> \n",
       "        <td id=\"T_9f403ca4_4e61_11e9_ac0f_90324b3f723erow23_col8\" class=\"data row23 col8\" >0.24</td> \n",
       "        <td id=\"T_9f403ca4_4e61_11e9_ac0f_90324b3f723erow23_col9\" class=\"data row23 col9\" >0.31</td> \n",
       "        <td id=\"T_9f403ca4_4e61_11e9_ac0f_90324b3f723erow23_col10\" class=\"data row23 col10\" >0.35</td> \n",
       "        <td id=\"T_9f403ca4_4e61_11e9_ac0f_90324b3f723erow23_col11\" class=\"data row23 col11\" >0.34</td> \n",
       "        <td id=\"T_9f403ca4_4e61_11e9_ac0f_90324b3f723erow23_col12\" class=\"data row23 col12\" >0.13</td> \n",
       "        <td id=\"T_9f403ca4_4e61_11e9_ac0f_90324b3f723erow23_col13\" class=\"data row23 col13\" >0.69</td> \n",
       "        <td id=\"T_9f403ca4_4e61_11e9_ac0f_90324b3f723erow23_col14\" class=\"data row23 col14\" >0.15</td> \n",
       "        <td id=\"T_9f403ca4_4e61_11e9_ac0f_90324b3f723erow23_col15\" class=\"data row23 col15\" >0.4</td> \n",
       "        <td id=\"T_9f403ca4_4e61_11e9_ac0f_90324b3f723erow23_col16\" class=\"data row23 col16\" >0.18</td> \n",
       "        <td id=\"T_9f403ca4_4e61_11e9_ac0f_90324b3f723erow23_col17\" class=\"data row23 col17\" >0.41</td> \n",
       "        <td id=\"T_9f403ca4_4e61_11e9_ac0f_90324b3f723erow23_col18\" class=\"data row23 col18\" >0.24</td> \n",
       "        <td id=\"T_9f403ca4_4e61_11e9_ac0f_90324b3f723erow23_col19\" class=\"data row23 col19\" >0.3</td> \n",
       "        <td id=\"T_9f403ca4_4e61_11e9_ac0f_90324b3f723erow23_col20\" class=\"data row23 col20\" >0.78</td> \n",
       "        <td id=\"T_9f403ca4_4e61_11e9_ac0f_90324b3f723erow23_col21\" class=\"data row23 col21\" >0.44</td> \n",
       "        <td id=\"T_9f403ca4_4e61_11e9_ac0f_90324b3f723erow23_col22\" class=\"data row23 col22\" >0.41</td> \n",
       "        <td id=\"T_9f403ca4_4e61_11e9_ac0f_90324b3f723erow23_col23\" class=\"data row23 col23\" >1</td> \n",
       "        <td id=\"T_9f403ca4_4e61_11e9_ac0f_90324b3f723erow23_col24\" class=\"data row23 col24\" >0.17</td> \n",
       "    </tr>    <tr> \n",
       "        <th id=\"T_9f403ca4_4e61_11e9_ac0f_90324b3f723elevel0_row24\" class=\"row_heading level0 row24\" >Loss</th> \n",
       "        <td id=\"T_9f403ca4_4e61_11e9_ac0f_90324b3f723erow24_col0\" class=\"data row24 col0\" >-0.082</td> \n",
       "        <td id=\"T_9f403ca4_4e61_11e9_ac0f_90324b3f723erow24_col1\" class=\"data row24 col1\" >0.0064</td> \n",
       "        <td id=\"T_9f403ca4_4e61_11e9_ac0f_90324b3f723erow24_col2\" class=\"data row24 col2\" >0.039</td> \n",
       "        <td id=\"T_9f403ca4_4e61_11e9_ac0f_90324b3f723erow24_col3\" class=\"data row24 col3\" >0.091</td> \n",
       "        <td id=\"T_9f403ca4_4e61_11e9_ac0f_90324b3f723erow24_col4\" class=\"data row24 col4\" >0.0034</td> \n",
       "        <td id=\"T_9f403ca4_4e61_11e9_ac0f_90324b3f723erow24_col5\" class=\"data row24 col5\" >0.04</td> \n",
       "        <td id=\"T_9f403ca4_4e61_11e9_ac0f_90324b3f723erow24_col6\" class=\"data row24 col6\" >0.097</td> \n",
       "        <td id=\"T_9f403ca4_4e61_11e9_ac0f_90324b3f723erow24_col7\" class=\"data row24 col7\" >0.051</td> \n",
       "        <td id=\"T_9f403ca4_4e61_11e9_ac0f_90324b3f723erow24_col8\" class=\"data row24 col8\" >0.042</td> \n",
       "        <td id=\"T_9f403ca4_4e61_11e9_ac0f_90324b3f723erow24_col9\" class=\"data row24 col9\" >-0.0024</td> \n",
       "        <td id=\"T_9f403ca4_4e61_11e9_ac0f_90324b3f723erow24_col10\" class=\"data row24 col10\" >0.0038</td> \n",
       "        <td id=\"T_9f403ca4_4e61_11e9_ac0f_90324b3f723erow24_col11\" class=\"data row24 col11\" >0.0001</td> \n",
       "        <td id=\"T_9f403ca4_4e61_11e9_ac0f_90324b3f723erow24_col12\" class=\"data row24 col12\" >0.019</td> \n",
       "        <td id=\"T_9f403ca4_4e61_11e9_ac0f_90324b3f723erow24_col13\" class=\"data row24 col13\" >0.12</td> \n",
       "        <td id=\"T_9f403ca4_4e61_11e9_ac0f_90324b3f723erow24_col14\" class=\"data row24 col14\" >0.028</td> \n",
       "        <td id=\"T_9f403ca4_4e61_11e9_ac0f_90324b3f723erow24_col15\" class=\"data row24 col15\" >0.036</td> \n",
       "        <td id=\"T_9f403ca4_4e61_11e9_ac0f_90324b3f723erow24_col16\" class=\"data row24 col16\" >0.98</td> \n",
       "        <td id=\"T_9f403ca4_4e61_11e9_ac0f_90324b3f723erow24_col17\" class=\"data row24 col17\" >0.37</td> \n",
       "        <td id=\"T_9f403ca4_4e61_11e9_ac0f_90324b3f723erow24_col18\" class=\"data row24 col18\" >0.06</td> \n",
       "        <td id=\"T_9f403ca4_4e61_11e9_ac0f_90324b3f723erow24_col19\" class=\"data row24 col19\" >0.1</td> \n",
       "        <td id=\"T_9f403ca4_4e61_11e9_ac0f_90324b3f723erow24_col20\" class=\"data row24 col20\" >0.16</td> \n",
       "        <td id=\"T_9f403ca4_4e61_11e9_ac0f_90324b3f723erow24_col21\" class=\"data row24 col21\" >0.13</td> \n",
       "        <td id=\"T_9f403ca4_4e61_11e9_ac0f_90324b3f723erow24_col22\" class=\"data row24 col22\" >0.28</td> \n",
       "        <td id=\"T_9f403ca4_4e61_11e9_ac0f_90324b3f723erow24_col23\" class=\"data row24 col23\" >0.17</td> \n",
       "        <td id=\"T_9f403ca4_4e61_11e9_ac0f_90324b3f723erow24_col24\" class=\"data row24 col24\" >1</td> \n",
       "    </tr></tbody> \n",
       "</table> "
      ],
      "text/plain": [
       "<pandas.io.formats.style.Styler at 0x197bc5a8630>"
      ]
     },
     "execution_count": 25,
     "metadata": {},
     "output_type": "execute_result"
    }
   ],
   "source": [
    "import seaborn as sns\n",
    "corr = class_df.corr()\n",
    "corr.style.background_gradient(cmap='coolwarm')\n",
    "# 'RdBu_r' & 'BrBG' are other good diverging colormaps\n",
    "cm = sns.diverging_palette(220, 20, sep=20, as_cmap=True) \n",
    "corr.style.background_gradient(cmap=cm).set_precision(2)"
   ]
  },
  {
   "cell_type": "markdown",
   "metadata": {},
   "source": [
    "There are some interesting correlations. Let's keep the top 10 correlated columns with the target column 'Risk' for the classification problem."
   ]
  },
  {
   "cell_type": "code",
   "execution_count": 26,
   "metadata": {},
   "outputs": [],
   "source": [
    "#Keeping the top 10 correlated pairs with Risk\n",
    "class_df = class_df.loc[:,[\"Score_A\", \"Score_B\", \"Score_MV\", \"Score\", \"RiSk_E\", \"District_Loss\",\n",
    "               \"CONTROL_RISK\", \"Score_B.1\",\"Sector_score\",\"Inherent_Risk\", \"Risk\"]]"
   ]
  },
  {
   "cell_type": "code",
   "execution_count": 27,
   "metadata": {},
   "outputs": [],
   "source": [
    "classification_X = class_df.drop([\"Risk\"], axis = 1)\n",
    "classification_y = class_df[\"Risk\"]"
   ]
  },
  {
   "cell_type": "markdown",
   "metadata": {},
   "source": [
    "## Classification: Train-Test Split"
   ]
  },
  {
   "cell_type": "code",
   "execution_count": 28,
   "metadata": {},
   "outputs": [],
   "source": [
    "from sklearn.model_selection import train_test_split\n",
    "\n",
    "X_train_org, X_test_org, y_train, y_test = train_test_split(classification_X, classification_y,\n",
    "                                                            test_size = 0.25, random_state = 0)"
   ]
  },
  {
   "cell_type": "markdown",
   "metadata": {},
   "source": [
    "## Classification: Feature Scaling"
   ]
  },
  {
   "cell_type": "code",
   "execution_count": 29,
   "metadata": {},
   "outputs": [],
   "source": [
    "from sklearn.preprocessing import MinMaxScaler\n",
    "scaler = MinMaxScaler()\n",
    "\n",
    "X_train = scaler.fit_transform(X_train_org)\n",
    "X_test  = scaler.transform(X_test_org)"
   ]
  },
  {
   "cell_type": "markdown",
   "metadata": {},
   "source": [
    "MinMax scaling is used to avoid any feature to dominate the model. MinMax scaling scales all the data in the columns between 0 to 1."
   ]
  },
  {
   "cell_type": "markdown",
   "metadata": {},
   "source": [
    "## Classification: Models"
   ]
  },
  {
   "cell_type": "markdown",
   "metadata": {},
   "source": [
    "The following classifiers are implemented in the next part:\n",
    "* K Nearest Neighbor\n",
    "* Linear SVM\n",
    "* Logistic Regression\n",
    "* Kernalized SVM\n",
    "* Decision Tree    \n",
    "\n",
    "\n",
    "Here, we are considering AUC-ROC score for evaluation as the goal of AUC is to deal with situations where you have a very skewed sample distribution, and don't want to overfit to a single class. "
   ]
  },
  {
   "cell_type": "markdown",
   "metadata": {},
   "source": [
    "## K Nearest Neighbor Classifier"
   ]
  },
  {
   "cell_type": "code",
   "execution_count": 30,
   "metadata": {},
   "outputs": [
    {
     "data": {
      "text/plain": [
       "GridSearchCV(cv=10, error_score='raise',\n",
       "       estimator=KNeighborsClassifier(algorithm='auto', leaf_size=30, metric='minkowski',\n",
       "           metric_params=None, n_jobs=1, n_neighbors=5, p=2,\n",
       "           weights='uniform'),\n",
       "       fit_params=None, iid=True, n_jobs=1,\n",
       "       param_grid={'n_neighbors': [3, 4, 5, 6, 7, 8, 9, 10, 15]},\n",
       "       pre_dispatch='2*n_jobs', refit=True, return_train_score='warn',\n",
       "       scoring='roc_auc', verbose=0)"
      ]
     },
     "execution_count": 30,
     "metadata": {},
     "output_type": "execute_result"
    }
   ],
   "source": [
    "from sklearn.model_selection import GridSearchCV\n",
    "from sklearn.neighbors import KNeighborsClassifier\n",
    "\n",
    "knn = KNeighborsClassifier()\n",
    "\n",
    "#Grid Search Cross-Validation for hyperparameter tuning\n",
    "\n",
    "param_grid = {'n_neighbors':[3, 4, 5, 6, 7, 8, 9, 10, 15]}\n",
    "\n",
    "grid_knn = GridSearchCV(knn, param_grid=param_grid, cv = 10, scoring='roc_auc')\n",
    "grid_knn.fit(X_train_org, y_train)"
   ]
  },
  {
   "cell_type": "code",
   "execution_count": 31,
   "metadata": {},
   "outputs": [
    {
     "name": "stdout",
     "output_type": "stream",
     "text": [
      "KNN Training Score:  0.9982956884132537\n"
     ]
    }
   ],
   "source": [
    "print(\"KNN Training Score: \",grid_knn.score(X_train_org, y_train))"
   ]
  },
  {
   "cell_type": "code",
   "execution_count": 32,
   "metadata": {},
   "outputs": [
    {
     "name": "stdout",
     "output_type": "stream",
     "text": [
      "KNN Testing Score:  0.9965659340659341\n"
     ]
    }
   ],
   "source": [
    "print(\"KNN Testing Score: \", grid_knn.score(X_test_org, y_test))"
   ]
  },
  {
   "cell_type": "code",
   "execution_count": 33,
   "metadata": {},
   "outputs": [
    {
     "name": "stdout",
     "output_type": "stream",
     "text": [
      "Best Parameters for KNN:  {'n_neighbors': 9}\n"
     ]
    }
   ],
   "source": [
    "print(\"Best Parameters for KNN: \", grid_knn.best_params_)"
   ]
  },
  {
   "cell_type": "code",
   "execution_count": 34,
   "metadata": {},
   "outputs": [
    {
     "name": "stdout",
     "output_type": "stream",
     "text": [
      "KNN Mean Test Scores:  [0.9797389  0.98150607 0.98568829 0.98536981 0.9850506  0.98619625\n",
      " 0.98699269 0.98634832 0.98683468]\n"
     ]
    }
   ],
   "source": [
    "print(\"KNN Mean Test Scores: \",grid_knn.cv_results_['mean_test_score'])"
   ]
  },
  {
   "cell_type": "code",
   "execution_count": 35,
   "metadata": {},
   "outputs": [],
   "source": [
    "y_knn_predict = grid_knn.predict(X_test_org)\n",
    "y_knn_train_predict = grid_knn.predict(X_train_org)"
   ]
  },
  {
   "cell_type": "code",
   "execution_count": 36,
   "metadata": {},
   "outputs": [
    {
     "name": "stdout",
     "output_type": "stream",
     "text": [
      "Train ROC AUC Score: 0.97\n",
      "Test ROC AUC Score: 0.96 \n"
     ]
    }
   ],
   "source": [
    "from sklearn.metrics import roc_auc_score\n",
    "print('Train ROC AUC Score: %.2f'%roc_auc_score(y_knn_train_predict, y_train))\n",
    "print('Test ROC AUC Score: %.2f '%roc_auc_score(y_knn_predict, y_test))"
   ]
  },
  {
   "cell_type": "code",
   "execution_count": 37,
   "metadata": {},
   "outputs": [],
   "source": [
    "train_score_list = []\n",
    "test_score_list = []\n",
    "x_range = [3, 4, 5, 6, 7, 8, 9, 10, 15]\n",
    "\n",
    "for alpha in x_range: \n",
    "    model = KNeighborsClassifier(n_neighbors=alpha)\n",
    "    model.fit(X_train_org,y_train)\n",
    "    train_score_list.append(model.score(X_train_org,y_train))\n",
    "    test_score_list.append(model.score(X_test_org, y_test))   "
   ]
  },
  {
   "cell_type": "code",
   "execution_count": 38,
   "metadata": {},
   "outputs": [
    {
     "data": {
      "text/plain": [
       "Text(0.5,0,'n_neighbors')"
      ]
     },
     "execution_count": 38,
     "metadata": {},
     "output_type": "execute_result"
    },
    {
     "data": {
      "image/png": "[encoded data removed]",
      "text/plain": [
       "<Figure size 432x288 with 1 Axes>"
      ]
     },
     "metadata": {
      "needs_background": "light"
     },
     "output_type": "display_data"
    }
   ],
   "source": [
    "plt.plot(x_range, train_score_list, c = 'g', label = 'Train Score')\n",
    "plt.plot(x_range, test_score_list, c = 'b', label = 'Test Score')\n",
    "plt.xscale('linear')\n",
    "plt.legend(loc = 3)\n",
    "plt.xlabel(r'n_neighbors')\n"
   ]
  },
  {
   "cell_type": "code",
   "execution_count": 39,
   "metadata": {},
   "outputs": [],
   "source": [
    "report_table = [['KNN', 'K = 3', grid_knn.score(X_train_org, y_train), \n",
    "                 grid_knn.score(X_test_org, y_test), roc_auc_score(y_knn_train_predict, y_train),\n",
    "                 roc_auc_score(y_knn_predict, y_test) ]]"
   ]
  },
  {
   "cell_type": "markdown",
   "metadata": {},
   "source": [
    "## Linear SVM"
   ]
  },
  {
   "cell_type": "code",
   "execution_count": 40,
   "metadata": {},
   "outputs": [
    {
     "data": {
      "text/plain": [
       "GridSearchCV(cv=5, error_score='raise',\n",
       "       estimator=LinearSVC(C=1.0, class_weight=None, dual=True, fit_intercept=True,\n",
       "     intercept_scaling=1, loss='squared_hinge', max_iter=1000,\n",
       "     multi_class='ovr', penalty='l2', random_state=None, tol=0.0001,\n",
       "     verbose=0),\n",
       "       fit_params=None, iid=True, n_jobs=1,\n",
       "       param_grid={'C': [0.001, 0.01, 0.1, 1, 10, 100]},\n",
       "       pre_dispatch='2*n_jobs', refit=True, return_train_score=True,\n",
       "       scoring='roc_auc', verbose=0)"
      ]
     },
     "execution_count": 40,
     "metadata": {},
     "output_type": "execute_result"
    }
   ],
   "source": [
    "from sklearn.svm import LinearSVC\n",
    "\n",
    "svc_lin = LinearSVC()\n",
    "param_grid = {'C':[0.001, 0.01, 0.1, 1, 10, 100]}\n",
    "\n",
    "grid_svc_lin = GridSearchCV(svc_lin, param_grid, cv = 5, scoring='roc_auc', return_train_score=True)\n",
    "grid_svc_lin.fit(X_train, y_train)"
   ]
  },
  {
   "cell_type": "code",
   "execution_count": 41,
   "metadata": {},
   "outputs": [
    {
     "name": "stdout",
     "output_type": "stream",
     "text": [
      "Linear SVC Training Score:  0.9975560814982507\n"
     ]
    }
   ],
   "source": [
    "print(\"Linear SVC Training Score: \", grid_svc_lin.score(X_train, y_train))"
   ]
  },
  {
   "cell_type": "code",
   "execution_count": 42,
   "metadata": {},
   "outputs": [
    {
     "name": "stdout",
     "output_type": "stream",
     "text": [
      "Linear SVC Testing Score:  0.9985119047619047\n"
     ]
    }
   ],
   "source": [
    "print(\"Linear SVC Testing Score: \",grid_svc_lin.score(X_test, y_test))"
   ]
  },
  {
   "cell_type": "code",
   "execution_count": 43,
   "metadata": {},
   "outputs": [
    {
     "name": "stdout",
     "output_type": "stream",
     "text": [
      "Best Parameters for Linear SVC:  {'C': 10}\n"
     ]
    }
   ],
   "source": [
    "print(\"Best Parameters for Linear SVC: \", grid_svc_lin.best_params_)"
   ]
  },
  {
   "cell_type": "code",
   "execution_count": 44,
   "metadata": {},
   "outputs": [
    {
     "name": "stdout",
     "output_type": "stream",
     "text": [
      "Linear SVC Mean Test Scores:  [0.97707724 0.99056665 0.99586884 0.99671126 0.99677812 0.9965185 ]\n"
     ]
    }
   ],
   "source": [
    "print(\"Linear SVC Mean Test Scores: \", grid_svc_lin.cv_results_['mean_test_score'])"
   ]
  },
  {
   "cell_type": "code",
   "execution_count": 45,
   "metadata": {},
   "outputs": [],
   "source": [
    "y_svc_lin_predict_train = grid_svc_lin.predict(X_train)\n",
    "y_svc_lin_predict = grid_svc_lin.predict(X_test)"
   ]
  },
  {
   "cell_type": "code",
   "execution_count": 46,
   "metadata": {},
   "outputs": [],
   "source": [
    "train_score_list = []\n",
    "test_score_list = []\n",
    "x_range = [0.001, 0.01, 0.1, 1, 10, 100]\n",
    "\n",
    "for alpha in x_range: \n",
    "    model = LinearSVC(C=alpha)\n",
    "    model.fit(X_train,y_train)\n",
    "    train_score_list.append(model.score(X_train,y_train))\n",
    "    test_score_list.append(model.score(X_test, y_test))"
   ]
  },
  {
   "cell_type": "code",
   "execution_count": 47,
   "metadata": {},
   "outputs": [
    {
     "data": {
      "text/plain": [
       "Text(0.5,0,'C')"
      ]
     },
     "execution_count": 47,
     "metadata": {},
     "output_type": "execute_result"
    },
    {
     "data": {
      "image/png": "[encoded data removed]",
      "text/plain": [
       "<Figure size 432x288 with 1 Axes>"
      ]
     },
     "metadata": {
      "needs_background": "light"
     },
     "output_type": "display_data"
    }
   ],
   "source": [
    "plt.plot(x_range, train_score_list, c = 'g', label = 'Train Score')\n",
    "plt.plot(x_range, test_score_list, c = 'b', label = 'Test Score')\n",
    "plt.xscale('log')\n",
    "plt.legend(loc = 3)\n",
    "plt.xlabel('C')"
   ]
  },
  {
   "cell_type": "code",
   "execution_count": 48,
   "metadata": {},
   "outputs": [],
   "source": [
    "report_table = report_table + [['LinearSVC', 'C = 10', grid_svc_lin.score(X_train, y_train),\n",
    "                                grid_svc_lin.score(X_test, y_test), roc_auc_score(y_svc_lin_predict_train, y_train),\n",
    "                                roc_auc_score(y_svc_lin_predict, y_test)]]"
   ]
  },
  {
   "cell_type": "markdown",
   "metadata": {},
   "source": [
    "## Logistic Regression"
   ]
  },
  {
   "cell_type": "code",
   "execution_count": 49,
   "metadata": {},
   "outputs": [
    {
     "data": {
      "text/plain": [
       "GridSearchCV(cv=None, error_score='raise',\n",
       "       estimator=LogisticRegression(C=1.0, class_weight=None, dual=False, fit_intercept=True,\n",
       "          intercept_scaling=1, max_iter=100, multi_class='ovr', n_jobs=1,\n",
       "          penalty='l2', random_state=None, solver='liblinear', tol=0.0001,\n",
       "          verbose=0, warm_start=False),\n",
       "       fit_params=None, iid=True, n_jobs=1,\n",
       "       param_grid={'C': [0.001, 0.01, 0.1, 1, 10, 100]},\n",
       "       pre_dispatch='2*n_jobs', refit=True, return_train_score='warn',\n",
       "       scoring=None, verbose=0)"
      ]
     },
     "execution_count": 49,
     "metadata": {},
     "output_type": "execute_result"
    }
   ],
   "source": [
    "from sklearn.linear_model import LogisticRegression\n",
    "param_grid = {'C': [0.001, 0.01, 0.1, 1, 10, 100] }\n",
    "grid_log_reg = GridSearchCV(LogisticRegression(penalty='l2'), param_grid)\n",
    "grid_log_reg.fit(X_train, y_train)\n",
    "\n"
   ]
  },
  {
   "cell_type": "code",
   "execution_count": 50,
   "metadata": {},
   "outputs": [
    {
     "name": "stdout",
     "output_type": "stream",
     "text": [
      "Logistic Regression Training Score:  0.9719298245614035\n"
     ]
    }
   ],
   "source": [
    "print(\"Logistic Regression Training Score: \", grid_log_reg.score(X_train, y_train))"
   ]
  },
  {
   "cell_type": "code",
   "execution_count": 51,
   "metadata": {},
   "outputs": [
    {
     "name": "stdout",
     "output_type": "stream",
     "text": [
      "Logistic Regression Testing Score:  0.9736842105263158\n"
     ]
    }
   ],
   "source": [
    "print(\"Logistic Regression Testing Score: \", grid_log_reg.score(X_test, y_test))"
   ]
  },
  {
   "cell_type": "code",
   "execution_count": 52,
   "metadata": {},
   "outputs": [
    {
     "name": "stdout",
     "output_type": "stream",
     "text": [
      "Best Parameters for Logistic Regression:  {'C': 10}\n"
     ]
    }
   ],
   "source": [
    "print(\"Best Parameters for Logistic Regression: \", grid_log_reg.best_params_)"
   ]
  },
  {
   "cell_type": "code",
   "execution_count": 53,
   "metadata": {},
   "outputs": [
    {
     "name": "stdout",
     "output_type": "stream",
     "text": [
      "Logistic Regression Mean Test Scores:  [0.90877193 0.94035088 0.93508772 0.95789474 0.96315789 0.96140351]\n"
     ]
    }
   ],
   "source": [
    "print(\"Logistic Regression Mean Test Scores: \", grid_log_reg.cv_results_['mean_test_score'])"
   ]
  },
  {
   "cell_type": "code",
   "execution_count": 54,
   "metadata": {},
   "outputs": [],
   "source": [
    "y_log_predict_train = grid_log_reg.predict(X_train)\n",
    "y_log_predict = grid_log_reg.predict(X_test)"
   ]
  },
  {
   "cell_type": "code",
   "execution_count": 55,
   "metadata": {},
   "outputs": [],
   "source": [
    "train_score_list = []\n",
    "test_score_list = []\n",
    "x_range = [0.001, 0.01, 0.1, 1, 10, 100]\n",
    "\n",
    "for alpha in x_range: \n",
    "    model = LogisticRegression(C=alpha)\n",
    "    model.fit(X_train,y_train)\n",
    "    train_score_list.append(model.score(X_train,y_train))\n",
    "    test_score_list.append(model.score(X_test, y_test))"
   ]
  },
  {
   "cell_type": "code",
   "execution_count": 56,
   "metadata": {},
   "outputs": [
    {
     "data": {
      "text/plain": [
       "Text(0.5,0,'C')"
      ]
     },
     "execution_count": 56,
     "metadata": {},
     "output_type": "execute_result"
    },
    {
     "data": {
      "image/png": "[encoded data removed]",
      "text/plain": [
       "<Figure size 432x288 with 1 Axes>"
      ]
     },
     "metadata": {
      "needs_background": "light"
     },
     "output_type": "display_data"
    }
   ],
   "source": [
    "plt.plot(x_range, train_score_list, c = 'g', label = 'Train Score')\n",
    "plt.plot(x_range, test_score_list, c = 'b', label = 'Test Score')\n",
    "plt.xscale('log')\n",
    "plt.legend(loc = 3)\n",
    "plt.xlabel('C')"
   ]
  },
  {
   "cell_type": "code",
   "execution_count": 57,
   "metadata": {},
   "outputs": [],
   "source": [
    "report_table = report_table + [['Logistic Regression', 'C = 10', grid_log_reg.score(X_train, y_train),\n",
    "                                grid_log_reg.score(X_test, y_test), roc_auc_score(y_log_predict_train, y_train),\n",
    "                                roc_auc_score(y_log_predict, y_test)]]"
   ]
  },
  {
   "cell_type": "markdown",
   "metadata": {},
   "source": [
    "## Kernalized SVM"
   ]
  },
  {
   "cell_type": "code",
   "execution_count": 58,
   "metadata": {},
   "outputs": [
    {
     "data": {
      "text/plain": [
       "GridSearchCV(cv=5, error_score='raise',\n",
       "       estimator=SVC(C=1.0, cache_size=200, class_weight=None, coef0=0.0,\n",
       "  decision_function_shape='ovr', degree=3, gamma='auto', kernel='rbf',\n",
       "  max_iter=-1, probability=False, random_state=None, shrinking=True,\n",
       "  tol=0.001, verbose=False),\n",
       "       fit_params=None, iid=True, n_jobs=1,\n",
       "       param_grid={'C': [0.001, 0.01, 0.1, 1, 10, 100]},\n",
       "       pre_dispatch='2*n_jobs', refit=True, return_train_score=True,\n",
       "       scoring='roc_auc', verbose=0)"
      ]
     },
     "execution_count": 58,
     "metadata": {},
     "output_type": "execute_result"
    }
   ],
   "source": [
    "from sklearn.svm import SVC\n",
    "kernel = SVC()\n",
    "param_grid = {'C':[0.001, 0.01, 0.1, 1, 10, 100]}\n",
    "\n",
    "grid_kernel = GridSearchCV(kernel, param_grid, cv = 5, scoring = 'roc_auc', return_train_score=True)\n",
    "grid_kernel.fit(X_train, y_train)"
   ]
  },
  {
   "cell_type": "code",
   "execution_count": 59,
   "metadata": {},
   "outputs": [
    {
     "name": "stdout",
     "output_type": "stream",
     "text": [
      "Kernalized SVM Training Score:  0.9982635315908623\n"
     ]
    }
   ],
   "source": [
    "print(\"Kernalized SVM Training Score: \", grid_kernel.score(X_train, y_train))"
   ]
  },
  {
   "cell_type": "code",
   "execution_count": 60,
   "metadata": {},
   "outputs": [
    {
     "name": "stdout",
     "output_type": "stream",
     "text": [
      "Kernalized SVM Testing Score:  0.9985119047619048\n"
     ]
    }
   ],
   "source": [
    "print(\"Kernalized SVM Testing Score: \", grid_kernel.score(X_test, y_test))"
   ]
  },
  {
   "cell_type": "code",
   "execution_count": 61,
   "metadata": {},
   "outputs": [
    {
     "name": "stdout",
     "output_type": "stream",
     "text": [
      "Best Parameters for Kernalized SVM:  {'C': 10}\n"
     ]
    }
   ],
   "source": [
    "print(\"Best Parameters for Kernalized SVM: \", grid_kernel.best_params_)"
   ]
  },
  {
   "cell_type": "code",
   "execution_count": 62,
   "metadata": {},
   "outputs": [
    {
     "name": "stdout",
     "output_type": "stream",
     "text": [
      "Kernalized SVM Mean Test Scores:  [0.98355529 0.98349257 0.98877036 0.99374167 0.99787347 0.99716307]\n"
     ]
    }
   ],
   "source": [
    "print(\"Kernalized SVM Mean Test Scores: \", grid_kernel.cv_results_['mean_test_score'])"
   ]
  },
  {
   "cell_type": "code",
   "execution_count": 63,
   "metadata": {},
   "outputs": [],
   "source": [
    "y_ker_predict_train = grid_kernel.predict(X_train)\n",
    "y_ker_predict = grid_kernel.predict(X_test)"
   ]
  },
  {
   "cell_type": "code",
   "execution_count": 64,
   "metadata": {},
   "outputs": [],
   "source": [
    "train_score_list = []\n",
    "test_score_list = []\n",
    "x_range = [0.001, 0.01, 0.1, 1, 10, 100]\n",
    "\n",
    "for alpha in x_range: \n",
    "    model = SVC(C = alpha)\n",
    "    model.fit(X_train,y_train)\n",
    "    train_score_list.append(model.score(X_train,y_train))\n",
    "    test_score_list.append(model.score(X_test, y_test))"
   ]
  },
  {
   "cell_type": "code",
   "execution_count": 65,
   "metadata": {},
   "outputs": [
    {
     "data": {
      "text/plain": [
       "Text(0.5,0,'C')"
      ]
     },
     "execution_count": 65,
     "metadata": {},
     "output_type": "execute_result"
    },
    {
     "data": {
      "image/png": "[encoded data removed]",
      "text/plain": [
       "<Figure size 432x288 with 1 Axes>"
      ]
     },
     "metadata": {
      "needs_background": "light"
     },
     "output_type": "display_data"
    }
   ],
   "source": [
    "plt.plot(x_range, train_score_list, c = 'g', label = 'Train Score')\n",
    "plt.plot(x_range, test_score_list, c = 'b', label = 'Test Score')\n",
    "plt.xscale('log')\n",
    "plt.legend(loc = 3)\n",
    "plt.xlabel('C')"
   ]
  },
  {
   "cell_type": "code",
   "execution_count": 66,
   "metadata": {},
   "outputs": [],
   "source": [
    "report_table = report_table + [['Kernalized SVM', 'C = 10', grid_kernel.score(X_train, y_train),\n",
    "                                grid_kernel.score(X_test, y_test), roc_auc_score(y_ker_predict_train, y_train),\n",
    "                                roc_auc_score(y_ker_predict, y_test)]]"
   ]
  },
  {
   "cell_type": "markdown",
   "metadata": {},
   "source": [
    "## Decision Tree"
   ]
  },
  {
   "cell_type": "code",
   "execution_count": 67,
   "metadata": {},
   "outputs": [
    {
     "data": {
      "text/plain": [
       "GridSearchCV(cv=5, error_score='raise',\n",
       "       estimator=DecisionTreeClassifier(class_weight=None, criterion='gini', max_depth=None,\n",
       "            max_features=None, max_leaf_nodes=None,\n",
       "            min_impurity_decrease=0.0, min_impurity_split=None,\n",
       "            min_samples_leaf=1, min_samples_split=2,\n",
       "            min_weight_fraction_leaf=0.0, presort=False, random_state=None,\n",
       "            splitter='best'),\n",
       "       fit_params=None, iid=True, n_jobs=1,\n",
       "       param_grid={'max_depth': array([ 5,  6,  7,  8,  9, 10, 11, 12, 13, 14, 15, 16, 17, 18, 19])},\n",
       "       pre_dispatch='2*n_jobs', refit=True, return_train_score=True,\n",
       "       scoring='roc_auc', verbose=0)"
      ]
     },
     "execution_count": 67,
     "metadata": {},
     "output_type": "execute_result"
    }
   ],
   "source": [
    "from sklearn.tree import DecisionTreeClassifier\n",
    "\n",
    "param_grid = {'max_depth': np.arange(5, 20)}\n",
    "\n",
    "grid_tree = GridSearchCV(DecisionTreeClassifier(), param_grid,cv = 5, scoring='roc_auc', return_train_score=True)\n",
    "grid_tree.fit(X_train_org, y_train)"
   ]
  },
  {
   "cell_type": "code",
   "execution_count": 68,
   "metadata": {},
   "outputs": [
    {
     "name": "stdout",
     "output_type": "stream",
     "text": [
      "Decision Tree Training Score:  0.9983342766001235\n"
     ]
    }
   ],
   "source": [
    "print(\"Decision Tree Training Score: \", grid_tree.score(X_train_org, y_train))"
   ]
  },
  {
   "cell_type": "code",
   "execution_count": 69,
   "metadata": {},
   "outputs": [
    {
     "name": "stdout",
     "output_type": "stream",
     "text": [
      "Decision Tree Testing Score:  0.9847756410256411\n"
     ]
    }
   ],
   "source": [
    "print(\"Decision Tree Testing Score: \", grid_tree.score(X_test_org, y_test))"
   ]
  },
  {
   "cell_type": "code",
   "execution_count": 70,
   "metadata": {},
   "outputs": [
    {
     "name": "stdout",
     "output_type": "stream",
     "text": [
      "Best Parameters for Decision Tree:  {'max_depth': 5}\n"
     ]
    }
   ],
   "source": [
    "print(\"Best Parameters for Decision Tree: \", grid_tree.best_params_)"
   ]
  },
  {
   "cell_type": "code",
   "execution_count": 71,
   "metadata": {},
   "outputs": [
    {
     "name": "stdout",
     "output_type": "stream",
     "text": [
      "Decision Tree Mean Test Scores:  [0.9872557  0.98457793 0.98607806 0.98607806 0.98607806 0.98385584\n",
      " 0.98385584 0.98385584 0.98607806 0.98385584 0.98385584 0.98607806\n",
      " 0.98607806 0.98607806 0.98607806]\n"
     ]
    }
   ],
   "source": [
    "print(\"Decision Tree Mean Test Scores: \", grid_tree.cv_results_['mean_test_score'])"
   ]
  },
  {
   "cell_type": "code",
   "execution_count": 72,
   "metadata": {},
   "outputs": [],
   "source": [
    "y_tree_predict_train = grid_tree.predict(X_train_org)\n",
    "y_tree_predict = grid_tree.predict(X_test_org)"
   ]
  },
  {
   "cell_type": "code",
   "execution_count": 73,
   "metadata": {},
   "outputs": [],
   "source": [
    "train_score_list = []\n",
    "test_score_list = []\n",
    "x_range = np.arange(5, 20)\n",
    "\n",
    "for alpha in x_range: \n",
    "    model = DecisionTreeClassifier(max_depth=alpha)\n",
    "    model.fit(X_train_org,y_train)\n",
    "    train_score_list.append(model.score(X_train_org,y_train))\n",
    "    test_score_list.append(model.score(X_test_org, y_test))"
   ]
  },
  {
   "cell_type": "code",
   "execution_count": 74,
   "metadata": {},
   "outputs": [
    {
     "data": {
      "text/plain": [
       "Text(0.5,0,'Max Depth')"
      ]
     },
     "execution_count": 74,
     "metadata": {},
     "output_type": "execute_result"
    },
    {
     "data": {
      "image/png": "[encoded data removed]",
      "text/plain": [
       "<Figure size 432x288 with 1 Axes>"
      ]
     },
     "metadata": {
      "needs_background": "light"
     },
     "output_type": "display_data"
    }
   ],
   "source": [
    "plt.plot(x_range, train_score_list, c = 'g', label = 'Train Score')\n",
    "plt.plot(x_range, test_score_list, c = 'b', label = 'Test Score')\n",
    "plt.xscale('linear')\n",
    "plt.legend(loc = 1)\n",
    "plt.xlabel('Max Depth')"
   ]
  },
  {
   "cell_type": "code",
   "execution_count": 75,
   "metadata": {},
   "outputs": [],
   "source": [
    "report_table = report_table + [['Decision Tree', 'd = 7', grid_tree.score(X_train_org, y_train),\n",
    "                                grid_tree.score(X_test_org, y_test), roc_auc_score(y_tree_predict_train, y_train),\n",
    "                                roc_auc_score(y_tree_predict, y_test)]]"
   ]
  },
  {
   "cell_type": "code",
   "execution_count": 76,
   "metadata": {},
   "outputs": [],
   "source": [
    "report = pd.DataFrame(report_table,columns = ['Model Name', 'Model Parameter', 'Training Accuracy',\n",
    "                                              'Testing Accuracy', 'Training AUC score', 'Testing AUC score'])"
   ]
  },
  {
   "cell_type": "code",
   "execution_count": 77,
   "metadata": {},
   "outputs": [],
   "source": [
    "report.index = report['Model Name']"
   ]
  },
  {
   "cell_type": "code",
   "execution_count": 78,
   "metadata": {},
   "outputs": [
    {
     "data": {
      "text/html": [
       "<div>\n",
       "<style scoped>\n",
       "    .dataframe tbody tr th:only-of-type {\n",
       "        vertical-align: middle;\n",
       "    }\n",
       "\n",
       "    .dataframe tbody tr th {\n",
       "        vertical-align: top;\n",
       "    }\n",
       "\n",
       "    .dataframe thead th {\n",
       "        text-align: right;\n",
       "    }\n",
       "</style>\n",
       "<table border=\"1\" class=\"dataframe\">\n",
       "  <thead>\n",
       "    <tr style=\"text-align: right;\">\n",
       "      <th></th>\n",
       "      <th>Model Name</th>\n",
       "      <th>Model Parameter</th>\n",
       "      <th>Training Accuracy</th>\n",
       "      <th>Testing Accuracy</th>\n",
       "      <th>Training AUC score</th>\n",
       "      <th>Testing AUC score</th>\n",
       "    </tr>\n",
       "    <tr>\n",
       "      <th>Model Name</th>\n",
       "      <th></th>\n",
       "      <th></th>\n",
       "      <th></th>\n",
       "      <th></th>\n",
       "      <th></th>\n",
       "      <th></th>\n",
       "    </tr>\n",
       "  </thead>\n",
       "  <tbody>\n",
       "    <tr>\n",
       "      <th>KNN</th>\n",
       "      <td>KNN</td>\n",
       "      <td>K = 3</td>\n",
       "      <td>0.998296</td>\n",
       "      <td>0.996566</td>\n",
       "      <td>0.972527</td>\n",
       "      <td>0.959016</td>\n",
       "    </tr>\n",
       "    <tr>\n",
       "      <th>LinearSVC</th>\n",
       "      <td>LinearSVC</td>\n",
       "      <td>C = 10</td>\n",
       "      <td>0.997556</td>\n",
       "      <td>0.998512</td>\n",
       "      <td>0.968514</td>\n",
       "      <td>0.969298</td>\n",
       "    </tr>\n",
       "    <tr>\n",
       "      <th>Logistic Regression</th>\n",
       "      <td>Logistic Regression</td>\n",
       "      <td>C = 10</td>\n",
       "      <td>0.971930</td>\n",
       "      <td>0.973684</td>\n",
       "      <td>0.970029</td>\n",
       "      <td>0.973739</td>\n",
       "    </tr>\n",
       "    <tr>\n",
       "      <th>Kernalized SVM</th>\n",
       "      <td>Kernalized SVM</td>\n",
       "      <td>C = 10</td>\n",
       "      <td>0.998264</td>\n",
       "      <td>0.998512</td>\n",
       "      <td>0.979496</td>\n",
       "      <td>0.975942</td>\n",
       "    </tr>\n",
       "    <tr>\n",
       "      <th>Decision Tree</th>\n",
       "      <td>Decision Tree</td>\n",
       "      <td>d = 7</td>\n",
       "      <td>0.998334</td>\n",
       "      <td>0.984776</td>\n",
       "      <td>0.990564</td>\n",
       "      <td>0.986957</td>\n",
       "    </tr>\n",
       "  </tbody>\n",
       "</table>\n",
       "</div>"
      ],
      "text/plain": [
       "                              Model Name Model Parameter  Training Accuracy  \\\n",
       "Model Name                                                                    \n",
       "KNN                                  KNN           K = 3           0.998296   \n",
       "LinearSVC                      LinearSVC          C = 10           0.997556   \n",
       "Logistic Regression  Logistic Regression          C = 10           0.971930   \n",
       "Kernalized SVM            Kernalized SVM          C = 10           0.998264   \n",
       "Decision Tree              Decision Tree           d = 7           0.998334   \n",
       "\n",
       "                     Testing Accuracy  Training AUC score  Testing AUC score  \n",
       "Model Name                                                                    \n",
       "KNN                          0.996566            0.972527           0.959016  \n",
       "LinearSVC                    0.998512            0.968514           0.969298  \n",
       "Logistic Regression          0.973684            0.970029           0.973739  \n",
       "Kernalized SVM               0.998512            0.979496           0.975942  \n",
       "Decision Tree                0.984776            0.990564           0.986957  "
      ]
     },
     "execution_count": 78,
     "metadata": {},
     "output_type": "execute_result"
    }
   ],
   "source": [
    "report.head(10)"
   ]
  },
  {
   "cell_type": "code",
   "execution_count": 79,
   "metadata": {},
   "outputs": [
    {
     "data": {
      "image/png": "[encoded data removed]",
      "text/plain": [
       "<Figure size 1296x864 with 1 Axes>"
      ]
     },
     "metadata": {
      "needs_background": "light"
     },
     "output_type": "display_data"
    }
   ],
   "source": [
    "ax = report[['Training Accuracy','Testing Accuracy','Training AUC score', 'Testing AUC score']].plot(kind='bar',\n",
    "            title = \"Comparison of Accuracies of Different Models\", figsize=(18, 12), fontsize = 8)\n",
    "plt.show()"
   ]
  },
  {
   "cell_type": "markdown",
   "metadata": {},
   "source": [
    "**Logistic Regression** seems to be the best fit model with not overfitting the data and at the same time not underfitting the data."
   ]
  },
  {
   "cell_type": "markdown",
   "metadata": {},
   "source": [
    "# Model Selection: Logistic Regression"
   ]
  },
  {
   "cell_type": "code",
   "execution_count": 80,
   "metadata": {},
   "outputs": [
    {
     "data": {
      "text/plain": [
       "LogisticRegression(C=10, class_weight=None, dual=False, fit_intercept=True,\n",
       "          intercept_scaling=1, max_iter=100, multi_class='ovr', n_jobs=1,\n",
       "          penalty='l2', random_state=None, solver='liblinear', tol=0.0001,\n",
       "          verbose=0, warm_start=False)"
      ]
     },
     "execution_count": 80,
     "metadata": {},
     "output_type": "execute_result"
    }
   ],
   "source": [
    "class_model = LogisticRegression(penalty='l2', C = 10)\n",
    "class_model.fit(X_train, y_train)"
   ]
  },
  {
   "cell_type": "code",
   "execution_count": 81,
   "metadata": {},
   "outputs": [
    {
     "name": "stdout",
     "output_type": "stream",
     "text": [
      "Classification Training Score:  0.9719298245614035\n"
     ]
    }
   ],
   "source": [
    "print(\"Classification Training Score: \", class_model.score(X_train, y_train))"
   ]
  },
  {
   "cell_type": "code",
   "execution_count": 82,
   "metadata": {},
   "outputs": [
    {
     "name": "stdout",
     "output_type": "stream",
     "text": [
      "Classification Testing Score:  0.9736842105263158\n"
     ]
    }
   ],
   "source": [
    "print(\"Classification Testing Score: \", class_model.score(X_test, y_test))"
   ]
  },
  {
   "cell_type": "code",
   "execution_count": 83,
   "metadata": {},
   "outputs": [
    {
     "name": "stdout",
     "output_type": "stream",
     "text": [
      "Predicted class for 1st testing row:  0.0\n",
      "Original class for 1st testing row:  0.0\n",
      "Predicted class for 5th testing row:  1.0\n",
      "Original class for 5th testing row:  1.0\n"
     ]
    }
   ],
   "source": [
    "class_prediction = class_model.predict(X_test)\n",
    "print(\"Predicted class for 1st testing row: \", class_prediction[0])\n",
    "print(\"Original class for 1st testing row: \", y_test.values[0])\n",
    "\n",
    "print(\"Predicted class for 5th testing row: \", class_prediction[4])\n",
    "print(\"Original class for 5th testing row: \", y_test.values[4])"
   ]
  },
  {
   "cell_type": "markdown",
   "metadata": {},
   "source": [
    "As we can see our model works pretty well on the test data as well. \n",
    "\n",
    "**Training and testing score of around 0.97 was achieved using Logistic Regression for classification.**"
   ]
  },
  {
   "cell_type": "markdown",
   "metadata": {},
   "source": [
    "# Regression"
   ]
  },
  {
   "cell_type": "markdown",
   "metadata": {},
   "source": [
    "As seen in the box plot analysis, the target column for regression, 'Audit_Risk' has a lot of extreme values. \n",
    "\n",
    "In order to correctly design the model, it is only fair to use the columns with minimum error in the target variable. \n",
    "\n",
    "Therefore, we delete the rows having outliers in their target columns. Not doing so and using techniques like replacing the outliers by median values for target variable results in overfitting which is highly undesirable."
   ]
  },
  {
   "cell_type": "code",
   "execution_count": 84,
   "metadata": {},
   "outputs": [],
   "source": [
    "#Removing rows where Audit_Risk value exceeds its 75th percentile (possible outliers)\n",
    "limit = df[\"Audit_Risk\"].quantile(0.75)\n",
    "df = df[df[\"Audit_Risk\"] <= limit] \n",
    "\n",
    "#Deleting 'Risk' column\n",
    "regression_df = df.drop(\"Risk\", axis = 1)"
   ]
  },
  {
   "cell_type": "code",
   "execution_count": 85,
   "metadata": {},
   "outputs": [],
   "source": [
    "regression_X = regression_df.drop([\"Audit_Risk\"], axis = 1)\n",
    "regression_y = regression_df[\"Audit_Risk\"]"
   ]
  },
  {
   "cell_type": "markdown",
   "metadata": {},
   "source": [
    "## Regression: Train-Test Split"
   ]
  },
  {
   "cell_type": "code",
   "execution_count": 86,
   "metadata": {},
   "outputs": [],
   "source": [
    "from sklearn.model_selection import train_test_split\n",
    "\n",
    "X_train_org, X_test_org, y_train, y_test = train_test_split(regression_X, regression_y, test_size = 0.25, random_state = 0)"
   ]
  },
  {
   "cell_type": "markdown",
   "metadata": {},
   "source": [
    "## Regression: Feature Scaling"
   ]
  },
  {
   "cell_type": "code",
   "execution_count": 87,
   "metadata": {},
   "outputs": [],
   "source": [
    "from sklearn.preprocessing import MinMaxScaler\n",
    "scaler = MinMaxScaler()\n",
    "\n",
    "X_train = scaler.fit_transform(X_train_org)\n",
    "X_test  = scaler.transform(X_test_org)"
   ]
  },
  {
   "cell_type": "markdown",
   "metadata": {},
   "source": [
    "# Regression: Models"
   ]
  },
  {
   "cell_type": "markdown",
   "metadata": {},
   "source": [
    "The following regression models are implemented in the next part:\n",
    "* K Nearest Regressor\n",
    "* Linear Regression\n",
    "* Polynomial Regression\n",
    "* Ridge Regression\n",
    "* Lasso Regression\n",
    "* SVM Regressor\n",
    "* SGD Regressor"
   ]
  },
  {
   "cell_type": "markdown",
   "metadata": {},
   "source": [
    "## K Nearest Regressor"
   ]
  },
  {
   "cell_type": "code",
   "execution_count": 88,
   "metadata": {},
   "outputs": [
    {
     "data": {
      "text/plain": [
       "GridSearchCV(cv=5, error_score='raise',\n",
       "       estimator=KNeighborsRegressor(algorithm='auto', leaf_size=30, metric='minkowski',\n",
       "          metric_params=None, n_jobs=1, n_neighbors=5, p=2,\n",
       "          weights='uniform'),\n",
       "       fit_params=None, iid=True, n_jobs=1,\n",
       "       param_grid={'n_neighbors': [3, 4, 5, 6, 7, 8, 9, 10, 15]},\n",
       "       pre_dispatch='2*n_jobs', refit=True, return_train_score='warn',\n",
       "       scoring='r2', verbose=0)"
      ]
     },
     "execution_count": 88,
     "metadata": {},
     "output_type": "execute_result"
    }
   ],
   "source": [
    "from sklearn.model_selection import GridSearchCV\n",
    "from sklearn.neighbors import KNeighborsRegressor\n",
    "\n",
    "params = {'n_neighbors':[3,4,5,6,7,8,9,10,15]}\n",
    "\n",
    "knn = KNeighborsRegressor()\n",
    "\n",
    "grid_knn_reg = GridSearchCV(knn, params, cv=5, scoring='r2')\n",
    "grid_knn_reg.fit(X_train, y_train)"
   ]
  },
  {
   "cell_type": "code",
   "execution_count": 89,
   "metadata": {},
   "outputs": [
    {
     "name": "stdout",
     "output_type": "stream",
     "text": [
      "KNN Regressor Training Score:  0.9270949128394056\n"
     ]
    }
   ],
   "source": [
    "print(\"KNN Regressor Training Score: \", grid_knn_reg.score(X_train, y_train))"
   ]
  },
  {
   "cell_type": "code",
   "execution_count": 90,
   "metadata": {},
   "outputs": [
    {
     "name": "stdout",
     "output_type": "stream",
     "text": [
      "KNN Regressor Testing Score:  0.7948919163764245\n"
     ]
    }
   ],
   "source": [
    "print(\"KNN Regressor Testing Score: \", grid_knn_reg.score(X_test, y_test))"
   ]
  },
  {
   "cell_type": "code",
   "execution_count": 91,
   "metadata": {},
   "outputs": [
    {
     "name": "stdout",
     "output_type": "stream",
     "text": [
      "Best Parameters for KNN Regressor:  {'n_neighbors': 3}\n"
     ]
    }
   ],
   "source": [
    "print(\"Best Parameters for KNN Regressor: \", grid_knn_reg.best_params_)"
   ]
  },
  {
   "cell_type": "code",
   "execution_count": 92,
   "metadata": {},
   "outputs": [
    {
     "name": "stdout",
     "output_type": "stream",
     "text": [
      "KNN Regressor Mean Test Scores:  [0.82355748 0.80275941 0.77564128 0.76295357 0.74430195 0.7291136\n",
      " 0.70934322 0.70324332 0.66720334]\n"
     ]
    }
   ],
   "source": [
    "print(\"KNN Regressor Mean Test Scores: \", grid_knn_reg.cv_results_['mean_test_score'])"
   ]
  },
  {
   "cell_type": "code",
   "execution_count": 93,
   "metadata": {},
   "outputs": [
    {
     "data": {
      "text/plain": [
       "Text(0,0.5,'Score')"
      ]
     },
     "execution_count": 93,
     "metadata": {},
     "output_type": "execute_result"
    },
    {
     "data": {
      "image/png": "[encoded data removed]",
      "text/plain": [
       "<Figure size 432x288 with 1 Axes>"
      ]
     },
     "metadata": {
      "needs_background": "light"
     },
     "output_type": "display_data"
    }
   ],
   "source": [
    "knn_reg_train_score = []\n",
    "knn_reg_test_score = []\n",
    "\n",
    "for k in (3,4,5,6,7,8,9,10,15):\n",
    "    knn_reg = KNeighborsRegressor(k)\n",
    "    knn_reg.fit(X_train, y_train)\n",
    "    knn_reg_train_score.append(knn_reg.score(X_train, y_train))\n",
    "    knn_reg_test_score.append(knn_reg.score(X_test, y_test))\n",
    "\n",
    "\n",
    "x_axis = [3,4,5,6,7,8,9,10,15]\n",
    "plt.plot(x_axis, knn_reg_train_score, c = 'g', label = 'Train Score')\n",
    "plt.plot(x_axis, knn_reg_test_score, c = 'b', label = 'Test Score')\n",
    "plt.legend()\n",
    "plt.xlabel('K')\n",
    "plt.ylabel('Score')"
   ]
  },
  {
   "cell_type": "code",
   "execution_count": 94,
   "metadata": {},
   "outputs": [],
   "source": [
    "knn_reg = KNeighborsRegressor(3)\n",
    "knn_reg.fit(X_train, y_train)\n",
    "knn_reg_train_score = knn_reg.score(X_train, y_train)\n",
    "knn_reg_test_score = knn_reg.score(X_test, y_test)"
   ]
  },
  {
   "cell_type": "code",
   "execution_count": 95,
   "metadata": {},
   "outputs": [],
   "source": [
    "report_table_1 = ['KNN Regressor', 'n_neighbors = 3', knn_reg_train_score, knn_reg_test_score]"
   ]
  },
  {
   "cell_type": "markdown",
   "metadata": {},
   "source": [
    "## Linear Regression"
   ]
  },
  {
   "cell_type": "code",
   "execution_count": 96,
   "metadata": {},
   "outputs": [
    {
     "data": {
      "text/plain": [
       "LinearRegression(copy_X=True, fit_intercept=True, n_jobs=1, normalize=False)"
      ]
     },
     "execution_count": 96,
     "metadata": {},
     "output_type": "execute_result"
    }
   ],
   "source": [
    "from sklearn.linear_model import LinearRegression\n",
    "from sklearn.model_selection import cross_val_score\n",
    "\n",
    "lreg = LinearRegression()\n",
    "lreg.fit(X_train, y_train)"
   ]
  },
  {
   "cell_type": "code",
   "execution_count": 97,
   "metadata": {},
   "outputs": [
    {
     "name": "stdout",
     "output_type": "stream",
     "text": [
      "Linear Regression Training Score: 0.9133188215011069\n"
     ]
    }
   ],
   "source": [
    "print(\"Linear Regression Training Score:\", lreg.score(X_train, y_train))"
   ]
  },
  {
   "cell_type": "code",
   "execution_count": 98,
   "metadata": {},
   "outputs": [
    {
     "name": "stdout",
     "output_type": "stream",
     "text": [
      "Linear Regression Testing Score: 0.8762463058383532\n"
     ]
    }
   ],
   "source": [
    "print(\"Linear Regression Testing Score:\", lreg.score(X_test, y_test))"
   ]
  },
  {
   "cell_type": "code",
   "execution_count": 99,
   "metadata": {},
   "outputs": [
    {
     "name": "stdout",
     "output_type": "stream",
     "text": [
      "Linear Regression Cross Validation Scores: [0.90372828 0.75886924 0.90935137]\n"
     ]
    }
   ],
   "source": [
    "CV_Score = cross_val_score(lreg, X_train, y_train)\n",
    "print(\"Linear Regression Cross Validation Scores:\", CV_Score)"
   ]
  },
  {
   "cell_type": "code",
   "execution_count": 100,
   "metadata": {},
   "outputs": [],
   "source": [
    "report_table_2 = ['Linear Regression', 'Simple', lreg.score(X_train, y_train), lreg.score(X_test, y_test)]"
   ]
  },
  {
   "cell_type": "markdown",
   "metadata": {},
   "source": [
    "## Polynomial Regression"
   ]
  },
  {
   "cell_type": "code",
   "execution_count": 101,
   "metadata": {},
   "outputs": [
    {
     "data": {
      "text/plain": [
       "LinearRegression(copy_X=True, fit_intercept=True, n_jobs=1, normalize=False)"
      ]
     },
     "execution_count": 101,
     "metadata": {},
     "output_type": "execute_result"
    }
   ],
   "source": [
    "from  sklearn.preprocessing  import PolynomialFeatures\n",
    "\n",
    "poly = PolynomialFeatures(3)\n",
    "X_train_poly = poly.fit_transform(X_train)\n",
    "X_test_poly = poly.transform(X_test)\n",
    "lreg.fit(X_train_poly, y_train)"
   ]
  },
  {
   "cell_type": "code",
   "execution_count": 102,
   "metadata": {},
   "outputs": [
    {
     "name": "stdout",
     "output_type": "stream",
     "text": [
      "Polynomial Regression Training Score:  1.0\n",
      "Polynomial Regression Testing Score:  0.7282843937652518\n"
     ]
    }
   ],
   "source": [
    "poly_train_score = (lreg.score(X_train_poly, y_train))\n",
    "poly_test_score = (lreg.score(X_test_poly, y_test))\n",
    "    \n",
    "print(\"Polynomial Regression Training Score: \", poly_train_score)\n",
    "print(\"Polynomial Regression Testing Score: \", poly_test_score)"
   ]
  },
  {
   "cell_type": "code",
   "execution_count": 103,
   "metadata": {},
   "outputs": [],
   "source": [
    "report_table_3 = ['Polynomial Regression', 'Order = 3', poly_train_score, poly_test_score]"
   ]
  },
  {
   "cell_type": "markdown",
   "metadata": {},
   "source": [
    "## Ridge Regression"
   ]
  },
  {
   "cell_type": "code",
   "execution_count": 104,
   "metadata": {},
   "outputs": [],
   "source": [
    "from  sklearn.linear_model import Ridge\n",
    "import matplotlib.pyplot as plt\n",
    "x_range = [0.01, 0.1, 1, 10, 100]\n",
    "train_score_list = []\n",
    "test_score_list = []\n",
    "\n",
    "for alpha in x_range: \n",
    "    ridge = Ridge(alpha)\n",
    "    ridge.fit(X_train,y_train)\n",
    "    train_score_list.append(ridge.score(X_train,y_train))\n",
    "    test_score_list.append(ridge.score(X_test, y_test))"
   ]
  },
  {
   "cell_type": "code",
   "execution_count": 105,
   "metadata": {},
   "outputs": [
    {
     "name": "stdout",
     "output_type": "stream",
     "text": [
      "Ridge Train Scores:  [0.9132908913302145, 0.9129217662838557, 0.9093550583344013, 0.8588788298304887, 0.549234290837739]\n",
      "Ridge Test Scores:  [0.8755407303320987, 0.8734387578970199, 0.8680168495766374, 0.8080761779068116, 0.49486992245026273]\n"
     ]
    }
   ],
   "source": [
    "print (\"Ridge Train Scores: \", train_score_list)\n",
    "print (\"Ridge Test Scores: \", test_score_list)"
   ]
  },
  {
   "cell_type": "code",
   "execution_count": 106,
   "metadata": {},
   "outputs": [
    {
     "data": {
      "text/plain": [
       "Text(0.5,0,'$\\\\alpha$')"
      ]
     },
     "execution_count": 106,
     "metadata": {},
     "output_type": "execute_result"
    },
    {
     "data": {
      "image/png": "[encoded data removed]",
      "text/plain": [
       "<Figure size 432x288 with 1 Axes>"
      ]
     },
     "metadata": {
      "needs_background": "light"
     },
     "output_type": "display_data"
    }
   ],
   "source": [
    "%matplotlib inline\n",
    "plt.plot(x_range, train_score_list, c = 'g', label = 'Train Score')\n",
    "plt.plot(x_range, test_score_list, c = 'b', label = 'Test Score')\n",
    "plt.xscale('log')\n",
    "plt.legend(loc = 3)\n",
    "plt.xlabel(r'$\\alpha$')"
   ]
  },
  {
   "cell_type": "markdown",
   "metadata": {},
   "source": [
    "alpha = 0.01 looks like the best fit."
   ]
  },
  {
   "cell_type": "code",
   "execution_count": 107,
   "metadata": {},
   "outputs": [
    {
     "name": "stdout",
     "output_type": "stream",
     "text": [
      "Ridge Train score: 0.9133\n",
      "Ridge Test score: 0.8755\n"
     ]
    }
   ],
   "source": [
    "ridge = Ridge(alpha = 0.01)    \n",
    "ridge.fit(X_train,y_train)\n",
    "print('Ridge Train score: {:.4f}'.format(ridge.score(X_train,y_train)))\n",
    "print('Ridge Test score: {:.4f}'.format(ridge.score(X_test, y_test)))"
   ]
  },
  {
   "cell_type": "code",
   "execution_count": 108,
   "metadata": {},
   "outputs": [],
   "source": [
    "report_table_4 = ['Ridge Regression', 'Alpha = 0.01', ridge.score(X_train, y_train), ridge.score(X_test, y_test)]"
   ]
  },
  {
   "cell_type": "code",
   "execution_count": 109,
   "metadata": {},
   "outputs": [
    {
     "data": {
      "image/png": "[encoded data removed]",
      "text/plain": [
       "<Figure size 432x288 with 1 Axes>"
      ]
     },
     "metadata": {
      "needs_background": "light"
     },
     "output_type": "display_data"
    }
   ],
   "source": [
    "%matplotlib inline\n",
    "\n",
    "x_range1 = np.linspace(0.001, 1, 100).reshape(-1,1)\n",
    "x_range2 = np.linspace(1, 10000, 10000).reshape(-1,1)\n",
    "\n",
    "x_range = np.append(x_range1, x_range2)\n",
    "coeff = []\n",
    "\n",
    "for alpha in x_range: \n",
    "    ridge = Ridge(alpha)\n",
    "    ridge.fit(X_train,y_train)\n",
    "    coeff.append(ridge.coef_ )\n",
    "    \n",
    "coeff = np.array(coeff)\n",
    "\n",
    "for i in range(0,len(regression_X.columns)):\n",
    "    plt.plot(x_range, coeff[:,i], label = 'feature {:d}'.format(i))\n",
    "\n",
    "plt.axhline(y=0, xmin=0.001, xmax=9999, linewidth=1, c ='gray')\n",
    "plt.xlabel(r'$\\alpha$')\n",
    "plt.xscale('log')\n",
    "plt.legend(loc='upper center', bbox_to_anchor=(0.5, 1.5),\n",
    "          ncol=3, fancybox=True, shadow=True)\n",
    "plt.show()"
   ]
  },
  {
   "cell_type": "markdown",
   "metadata": {},
   "source": [
    "## Lasso Regression"
   ]
  },
  {
   "cell_type": "code",
   "execution_count": 110,
   "metadata": {},
   "outputs": [],
   "source": [
    "from sklearn.linear_model import Lasso\n",
    "x_range = [0.01, 0.1, 1, 10]\n",
    "train_score_list = []\n",
    "test_score_list = []\n",
    "\n",
    "for alpha in x_range: \n",
    "    lasso = Lasso(alpha, max_iter = 10000)\n",
    "    lasso.fit(X_train,y_train)\n",
    "    train_score_list.append(lasso.score(X_train,y_train))\n",
    "    test_score_list.append(lasso.score(X_test, y_test))"
   ]
  },
  {
   "cell_type": "code",
   "execution_count": 111,
   "metadata": {},
   "outputs": [
    {
     "name": "stdout",
     "output_type": "stream",
     "text": [
      "Lasso Train Scores:  [0.8565373498099054, 0.12518496765485265, 0.0, 0.0]\n",
      "Lasso Test Scores:  [0.8241339064525572, 0.09370847899554258, -0.015421938887612452, -0.015421938887612452]\n"
     ]
    }
   ],
   "source": [
    "print (\"Lasso Train Scores: \", train_score_list)\n",
    "print (\"Lasso Test Scores: \", test_score_list)"
   ]
  },
  {
   "cell_type": "code",
   "execution_count": 112,
   "metadata": {},
   "outputs": [
    {
     "data": {
      "text/plain": [
       "Text(0.5,0,'$\\\\alpha$')"
      ]
     },
     "execution_count": 112,
     "metadata": {},
     "output_type": "execute_result"
    },
    {
     "data": {
      "image/png": "[encoded data removed]",
      "text/plain": [
       "<Figure size 432x288 with 1 Axes>"
      ]
     },
     "metadata": {
      "needs_background": "light"
     },
     "output_type": "display_data"
    }
   ],
   "source": [
    "%matplotlib inline\n",
    "plt.plot(x_range, train_score_list, c = 'g', label = 'Train Score')\n",
    "plt.plot(x_range, test_score_list, c = 'b', label = 'Test Score')\n",
    "plt.xscale('log')\n",
    "plt.legend(loc = 3)\n",
    "plt.xlabel(r'$\\alpha$') "
   ]
  },
  {
   "cell_type": "markdown",
   "metadata": {},
   "source": [
    "alpha = 0.01 looks like the best fit."
   ]
  },
  {
   "cell_type": "code",
   "execution_count": 113,
   "metadata": {},
   "outputs": [
    {
     "name": "stdout",
     "output_type": "stream",
     "text": [
      "Lasso Train Score:  0.8565373498099054\n",
      "Lasso Test Score:  0.8241339064525572\n"
     ]
    }
   ],
   "source": [
    "lasso = Lasso(alpha = 0.01, max_iter=10000)\n",
    "lasso.fit(X_train,y_train)\n",
    "\n",
    "lasso_train_score = lasso.score(X_train,y_train)\n",
    "lasso_test_score = lasso.score(X_test,y_test)\n",
    "\n",
    "print (\"Lasso Train Score: \", lasso_train_score)\n",
    "print (\"Lasso Test Score: \", lasso_test_score)"
   ]
  },
  {
   "cell_type": "code",
   "execution_count": 114,
   "metadata": {},
   "outputs": [
    {
     "data": {
      "image/png": "[encoded data removed]",
      "text/plain": [
       "<Figure size 432x288 with 1 Axes>"
      ]
     },
     "metadata": {
      "needs_background": "light"
     },
     "output_type": "display_data"
    }
   ],
   "source": [
    "%matplotlib inline\n",
    "\n",
    "x_range1 = np.linspace(0.001, 1, 1000).reshape(-1,1)\n",
    "x_range2 = np.linspace(1, 1000, 1000).reshape(-1,1)\n",
    "\n",
    "x_range = np.append(x_range1, x_range2)\n",
    "coeff = []\n",
    "\n",
    "for alpha in x_range: \n",
    "    lasso = Lasso(alpha)\n",
    "    lasso.fit(X_train,y_train)\n",
    "    coeff.append(lasso.coef_ )\n",
    "    \n",
    "coeff = np.array(coeff)\n",
    "\n",
    "for i in range(0,len(regression_X.columns)):\n",
    "    plt.plot(x_range, coeff[:,i], label = 'feature {:d}'.format(i))\n",
    "\n",
    "plt.axhline(y=0, xmin=0.001, xmax=9999, linewidth=1, c ='gray')\n",
    "plt.xlabel(r'$\\alpha$')\n",
    "plt.xscale('log')\n",
    "plt.legend(loc='upper center', bbox_to_anchor=(0.5, 1.5),\n",
    "          ncol=3, fancybox=True, shadow=True)\n",
    "plt.show()"
   ]
  },
  {
   "cell_type": "code",
   "execution_count": 115,
   "metadata": {},
   "outputs": [],
   "source": [
    "report_table_5 = ['Lasso Regression', 'Alpha = 0.01', lasso_train_score, lasso_test_score]"
   ]
  },
  {
   "cell_type": "markdown",
   "metadata": {},
   "source": [
    "## SVM Regressor"
   ]
  },
  {
   "cell_type": "code",
   "execution_count": 116,
   "metadata": {},
   "outputs": [
    {
     "data": {
      "text/plain": [
       "GridSearchCV(cv=None, error_score='raise',\n",
       "       estimator=SVR(C=1.0, cache_size=200, coef0=0.0, degree=3, epsilon=0.1, gamma='auto',\n",
       "  kernel='rbf', max_iter=-1, shrinking=True, tol=0.001, verbose=False),\n",
       "       fit_params=None, iid=True, n_jobs=1,\n",
       "       param_grid={'kernel': ('linear', 'rbf'), 'gamma': [0.01, 0.1, 1, 10], 'epsilon': [0.1, 0.2, 0.5, 0.3], 'C': [0.1, 1, 10, 100]},\n",
       "       pre_dispatch='2*n_jobs', refit=True, return_train_score='warn',\n",
       "       scoring=None, verbose=0)"
      ]
     },
     "execution_count": 116,
     "metadata": {},
     "output_type": "execute_result"
    }
   ],
   "source": [
    "from sklearn import svm\n",
    "\n",
    "parameters = {'kernel': ('linear', 'rbf'), 'gamma': [0.01, 0.1, 1 , 10],'epsilon':[0.1,0.2,0.5,0.3], 'C':[0.1, 1, 10, 100]}\n",
    "svr = svm.SVR()\n",
    "clf = GridSearchCV(svr, parameters)\n",
    "clf.fit(X_train, y_train)"
   ]
  },
  {
   "cell_type": "code",
   "execution_count": 117,
   "metadata": {},
   "outputs": [
    {
     "name": "stdout",
     "output_type": "stream",
     "text": [
      "SVM Regressor Best Parameters:  {'C': 100, 'epsilon': 0.1, 'gamma': 0.1, 'kernel': 'rbf'}\n"
     ]
    }
   ],
   "source": [
    "print(\"SVM Regressor Best Parameters: \", clf.best_params_)"
   ]
  },
  {
   "cell_type": "code",
   "execution_count": 118,
   "metadata": {},
   "outputs": [
    {
     "name": "stdout",
     "output_type": "stream",
     "text": [
      "SVM Regressor Training Score:  0.9910150621107752\n",
      "SVM Regressor Testing Score:  0.8992990589747598\n"
     ]
    }
   ],
   "source": [
    "clf = svm.SVR(kernel='rbf', gamma=0.1, epsilon=0.1, C = 100)\n",
    "clf.fit(X_train, y_train)\n",
    "svr_train_score = clf.score(X_train, y_train)\n",
    "svr_test_score = clf.score(X_test, y_test)\n",
    "\n",
    "print(\"SVM Regressor Training Score: \", svr_train_score)\n",
    "print(\"SVM Regressor Testing Score: \", svr_test_score)"
   ]
  },
  {
   "cell_type": "code",
   "execution_count": 119,
   "metadata": {},
   "outputs": [],
   "source": [
    "report_table_6 = ['Support Vector Regression', 'RBF Kernel, gamma = 0.1, epsilon = 0.1', svr_train_score, svr_test_score]"
   ]
  },
  {
   "cell_type": "markdown",
   "metadata": {},
   "source": [
    "## SGD Regressor"
   ]
  },
  {
   "cell_type": "code",
   "execution_count": 120,
   "metadata": {},
   "outputs": [
    {
     "data": {
      "text/plain": [
       "GridSearchCV(cv=None, error_score='raise',\n",
       "       estimator=SGDRegressor(alpha=0.0001, average=False, epsilon=0.1, eta0=0.01,\n",
       "       fit_intercept=True, l1_ratio=0.15, learning_rate='invscaling',\n",
       "       loss='squared_loss', max_iter=None, n_iter=None, penalty='l2',\n",
       "       power_t=0.25, random_state=0, shuffle=True, tol=None, verbose=0,\n",
       "       warm_start=False),\n",
       "       fit_params=None, iid=True, n_jobs=1,\n",
       "       param_grid={'alpha': array([1.e-01, 1.e-02, 1.e-03, 1.e-04, 1.e-05, 1.e-06]), 'loss': ['squared_loss', 'huber'], 'penalty': ['l2', 'l1'], 'learning_rate': ['constant', 'optimal']},\n",
       "       pre_dispatch='2*n_jobs', refit=True, return_train_score='warn',\n",
       "       scoring=None, verbose=0)"
      ]
     },
     "execution_count": 120,
     "metadata": {},
     "output_type": "execute_result"
    }
   ],
   "source": [
    "from sklearn.linear_model import SGDRegressor\n",
    "from sklearn.model_selection import GridSearchCV\n",
    "import warnings\n",
    "warnings.filterwarnings('ignore')\n",
    "\n",
    "sgd_reg = SGDRegressor(random_state= 0)\n",
    "\n",
    "param_grid = {\n",
    "    'alpha': 10.0 ** -np.arange(1, 7),\n",
    "    'loss': ['squared_loss', 'huber'],\n",
    "    'penalty': ['l2', 'l1'],\n",
    "    'learning_rate': ['constant', 'optimal'],\n",
    "}\n",
    "\n",
    "grid_sgd = GridSearchCV(sgd_reg, param_grid)\n",
    "grid_sgd.fit(X_train, y_train)"
   ]
  },
  {
   "cell_type": "code",
   "execution_count": 121,
   "metadata": {},
   "outputs": [
    {
     "name": "stdout",
     "output_type": "stream",
     "text": [
      "0.7889902017868703\n"
     ]
    }
   ],
   "source": [
    "print(grid_sgd.best_score_)"
   ]
  },
  {
   "cell_type": "code",
   "execution_count": 122,
   "metadata": {},
   "outputs": [
    {
     "name": "stdout",
     "output_type": "stream",
     "text": [
      "Best Parameters for SGD Regressor:  {'alpha': 0.001, 'learning_rate': 'optimal', 'loss': 'huber', 'penalty': 'l2'}\n"
     ]
    }
   ],
   "source": [
    "print(\"Best Parameters for SGD Regressor: \", grid_sgd.best_params_)"
   ]
  },
  {
   "cell_type": "code",
   "execution_count": 123,
   "metadata": {},
   "outputs": [
    {
     "name": "stdout",
     "output_type": "stream",
     "text": [
      "SGD Regressor Training Score:  0.8349713803018537\n",
      "SGD Regressor Testing Score:  0.7808737266810969\n"
     ]
    }
   ],
   "source": [
    "sgd_reg = SGDRegressor(random_state = 0, alpha = 0.001 , max_iter = 3000,\n",
    "                       learning_rate = 'optimal', loss = 'huber', penalty = 'l2')\n",
    "sgd_reg.fit(X_train, y_train)\n",
    "sgd_train_score = sgd_reg.score(X_train, y_train)\n",
    "sgd_test_score = sgd_reg.score(X_test, y_test)\n",
    "print(\"SGD Regressor Training Score: \", sgd_train_score)\n",
    "print(\"SGD Regressor Testing Score: \", sgd_test_score)"
   ]
  },
  {
   "cell_type": "code",
   "execution_count": 124,
   "metadata": {},
   "outputs": [],
   "source": [
    "report_table_7 = ['SGD Regressor', 'huber, alpha = 0.001', sgd_train_score, sgd_test_score]"
   ]
  },
  {
   "cell_type": "markdown",
   "metadata": {},
   "source": [
    "### Generating a Report table\n",
    "For comparing all the models, we will create a table and a plot."
   ]
  },
  {
   "cell_type": "code",
   "execution_count": 125,
   "metadata": {},
   "outputs": [],
   "source": [
    "report_table = pd.DataFrame(list(zip(report_table_1,\n",
    "             report_table_2,\n",
    "             report_table_3,\n",
    "             report_table_4,\n",
    "             report_table_5,\n",
    "             report_table_6,\n",
    "             report_table_7))).transpose()"
   ]
  },
  {
   "cell_type": "code",
   "execution_count": 126,
   "metadata": {},
   "outputs": [],
   "source": [
    "report_table.columns = ['Model Name', 'Model Parameter', 'Training Score', 'Testing Score']\n",
    "report_table.index = report_table['Model Name']"
   ]
  },
  {
   "cell_type": "code",
   "execution_count": 127,
   "metadata": {},
   "outputs": [
    {
     "data": {
      "text/html": [
       "<div>\n",
       "<style scoped>\n",
       "    .dataframe tbody tr th:only-of-type {\n",
       "        vertical-align: middle;\n",
       "    }\n",
       "\n",
       "    .dataframe tbody tr th {\n",
       "        vertical-align: top;\n",
       "    }\n",
       "\n",
       "    .dataframe thead th {\n",
       "        text-align: right;\n",
       "    }\n",
       "</style>\n",
       "<table border=\"1\" class=\"dataframe\">\n",
       "  <thead>\n",
       "    <tr style=\"text-align: right;\">\n",
       "      <th></th>\n",
       "      <th>Model Name</th>\n",
       "      <th>Model Parameter</th>\n",
       "      <th>Training Score</th>\n",
       "      <th>Testing Score</th>\n",
       "    </tr>\n",
       "    <tr>\n",
       "      <th>Model Name</th>\n",
       "      <th></th>\n",
       "      <th></th>\n",
       "      <th></th>\n",
       "      <th></th>\n",
       "    </tr>\n",
       "  </thead>\n",
       "  <tbody>\n",
       "    <tr>\n",
       "      <th>KNN Regressor</th>\n",
       "      <td>KNN Regressor</td>\n",
       "      <td>n_neighbors = 3</td>\n",
       "      <td>0.927095</td>\n",
       "      <td>0.794892</td>\n",
       "    </tr>\n",
       "    <tr>\n",
       "      <th>Linear Regression</th>\n",
       "      <td>Linear Regression</td>\n",
       "      <td>Simple</td>\n",
       "      <td>0.913319</td>\n",
       "      <td>0.876246</td>\n",
       "    </tr>\n",
       "    <tr>\n",
       "      <th>Polynomial Regression</th>\n",
       "      <td>Polynomial Regression</td>\n",
       "      <td>Order = 3</td>\n",
       "      <td>1</td>\n",
       "      <td>0.728284</td>\n",
       "    </tr>\n",
       "    <tr>\n",
       "      <th>Ridge Regression</th>\n",
       "      <td>Ridge Regression</td>\n",
       "      <td>Alpha = 0.01</td>\n",
       "      <td>0.913291</td>\n",
       "      <td>0.875541</td>\n",
       "    </tr>\n",
       "    <tr>\n",
       "      <th>Lasso Regression</th>\n",
       "      <td>Lasso Regression</td>\n",
       "      <td>Alpha = 0.01</td>\n",
       "      <td>0.856537</td>\n",
       "      <td>0.824134</td>\n",
       "    </tr>\n",
       "    <tr>\n",
       "      <th>Support Vector Regression</th>\n",
       "      <td>Support Vector Regression</td>\n",
       "      <td>RBF Kernel, gamma = 0.1, epsilon = 0.1</td>\n",
       "      <td>0.991015</td>\n",
       "      <td>0.899299</td>\n",
       "    </tr>\n",
       "    <tr>\n",
       "      <th>SGD Regressor</th>\n",
       "      <td>SGD Regressor</td>\n",
       "      <td>huber, alpha = 0.001</td>\n",
       "      <td>0.834971</td>\n",
       "      <td>0.780874</td>\n",
       "    </tr>\n",
       "  </tbody>\n",
       "</table>\n",
       "</div>"
      ],
      "text/plain": [
       "                                          Model Name  \\\n",
       "Model Name                                             \n",
       "KNN Regressor                          KNN Regressor   \n",
       "Linear Regression                  Linear Regression   \n",
       "Polynomial Regression          Polynomial Regression   \n",
       "Ridge Regression                    Ridge Regression   \n",
       "Lasso Regression                    Lasso Regression   \n",
       "Support Vector Regression  Support Vector Regression   \n",
       "SGD Regressor                          SGD Regressor   \n",
       "\n",
       "                                                  Model Parameter  \\\n",
       "Model Name                                                          \n",
       "KNN Regressor                                     n_neighbors = 3   \n",
       "Linear Regression                                          Simple   \n",
       "Polynomial Regression                                   Order = 3   \n",
       "Ridge Regression                                     Alpha = 0.01   \n",
       "Lasso Regression                                     Alpha = 0.01   \n",
       "Support Vector Regression  RBF Kernel, gamma = 0.1, epsilon = 0.1   \n",
       "SGD Regressor                                huber, alpha = 0.001   \n",
       "\n",
       "                          Training Score Testing Score  \n",
       "Model Name                                              \n",
       "KNN Regressor                   0.927095      0.794892  \n",
       "Linear Regression               0.913319      0.876246  \n",
       "Polynomial Regression                  1      0.728284  \n",
       "Ridge Regression                0.913291      0.875541  \n",
       "Lasso Regression                0.856537      0.824134  \n",
       "Support Vector Regression       0.991015      0.899299  \n",
       "SGD Regressor                   0.834971      0.780874  "
      ]
     },
     "execution_count": 127,
     "metadata": {},
     "output_type": "execute_result"
    }
   ],
   "source": [
    "report_table.head(10)"
   ]
  },
  {
   "cell_type": "code",
   "execution_count": 128,
   "metadata": {},
   "outputs": [
    {
     "data": {
      "image/png": "[encoded data removed]",
      "text/plain": [
       "<Figure size 1296x864 with 1 Axes>"
      ]
     },
     "metadata": {
      "needs_background": "light"
     },
     "output_type": "display_data"
    }
   ],
   "source": [
    "ax = report_table[['Training Score','Testing Score']].plot(kind='bar',\n",
    "            title = \"Comparison of Accuracies of Different Models\", figsize=(18, 12), fontsize = 8)\n",
    "plt.show()"
   ]
  },
  {
   "cell_type": "markdown",
   "metadata": {},
   "source": [
    "**Linear Regression** seems to be the best fit model with not overfitting the data and at the same time not underfitting the data."
   ]
  },
  {
   "cell_type": "markdown",
   "metadata": {},
   "source": [
    "# Model Selection: Linear Regression"
   ]
  },
  {
   "cell_type": "code",
   "execution_count": 129,
   "metadata": {},
   "outputs": [
    {
     "data": {
      "text/plain": [
       "LinearRegression(copy_X=True, fit_intercept=True, n_jobs=1, normalize=False)"
      ]
     },
     "execution_count": 129,
     "metadata": {},
     "output_type": "execute_result"
    }
   ],
   "source": [
    "reg_model = LinearRegression()\n",
    "reg_model.fit(X_train, y_train)"
   ]
  },
  {
   "cell_type": "code",
   "execution_count": 130,
   "metadata": {},
   "outputs": [
    {
     "name": "stdout",
     "output_type": "stream",
     "text": [
      "Linear Regression Training Score: 0.9133188215011069\n",
      "Linear Regression Testing Score: 0.8762463058383532\n"
     ]
    }
   ],
   "source": [
    "print(\"Linear Regression Training Score:\", reg_model.score(X_train, y_train))\n",
    "print(\"Linear Regression Testing Score:\", reg_model.score(X_test, y_test))"
   ]
  },
  {
   "cell_type": "code",
   "execution_count": 131,
   "metadata": {},
   "outputs": [
    {
     "name": "stdout",
     "output_type": "stream",
     "text": [
      "Linear Regression Root Mean Squared Error (RMSE): 0.22578404398844884\n"
     ]
    }
   ],
   "source": [
    "from sklearn.metrics import mean_squared_error\n",
    "from math import sqrt\n",
    "\n",
    "y_predicted = reg_model.predict(X_test)\n",
    "\n",
    "rmse = sqrt(mean_squared_error(y_test, y_predicted))\n",
    "\n",
    "print(\"Linear Regression Root Mean Squared Error (RMSE):\", rmse)"
   ]
  },
  {
   "cell_type": "code",
   "execution_count": 132,
   "metadata": {},
   "outputs": [
    {
     "name": "stdout",
     "output_type": "stream",
     "text": [
      "Predicted value for 1st testing row:  0.2754632857814737\n",
      "Original value for 1st testing row:  0.294\n",
      "\n",
      "Predicted value for 5th testing row:  0.3456467160222236\n",
      "Original value for 5th testing row:  0.3104\n"
     ]
    }
   ],
   "source": [
    "print(\"Predicted value for 1st testing row: \", y_predicted[0])\n",
    "print(\"Original value for 1st testing row: \", y_test.values[0])\n",
    "print(\"\")\n",
    "print(\"Predicted value for 5th testing row: \", y_predicted[4])\n",
    "print(\"Original value for 5th testing row: \", y_test.values[4])"
   ]
  },
  {
   "cell_type": "markdown",
   "metadata": {},
   "source": [
    "As we can see our model works pretty well on the test data as well.\n",
    "\n",
    "**RMSE of 0.22 was achieved. Training and testing score of around 0.91 and 0.87 was achieved using Linear Regression for regression.** "
   ]
  }
 ],
 "metadata": {
  "kernelspec": {
   "display_name": "Python 3",
   "language": "python",
   "name": "python3"
  },
  "language_info": {
   "codemirror_mode": {
    "name": "ipython",
    "version": 3
   },
   "file_extension": ".py",
   "mimetype": "text/x-python",
   "name": "python",
   "nbconvert_exporter": "python",
   "pygments_lexer": "ipython3",
   "version": "3.6.3"
  }
 },
 "nbformat": 4,
 "nbformat_minor": 2
}
